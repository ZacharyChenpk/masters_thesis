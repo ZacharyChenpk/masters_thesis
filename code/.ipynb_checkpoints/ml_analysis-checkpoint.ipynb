{
 "cells": [
  {
   "cell_type": "code",
   "execution_count": 2,
   "metadata": {
    "scrolled": true
   },
   "outputs": [],
   "source": [
    "from ml import *\n",
    "# ignore Deprecation Warning\n",
    "import warnings\n",
    "warnings.filterwarnings(\"ignore\", category=DeprecationWarning)\n",
    "\n",
    "import pandas as pd\n",
    "\n",
    "from collections import Counter\n",
    "from sklearn.model_selection import train_test_split\n",
    "from sklearn.preprocessing import label_binarize\n",
    "import imblearn"
   ]
  },
  {
   "cell_type": "code",
   "execution_count": 7,
   "metadata": {},
   "outputs": [],
   "source": [
    "y = [78.29,198.56,462.3122737408,874.8,1959.88,5425.9719469547]\n",
    "x = [1,2,3,5,10,20]\n"
   ]
  },
  {
   "cell_type": "code",
   "execution_count": 8,
   "metadata": {},
   "outputs": [
    {
     "data": {
      "image/png": "[encoded data removed]",
      "text/plain": [
       "<matplotlib.figure.Figure at 0x7ff0137ce9b0>"
      ]
     },
     "metadata": {},
     "output_type": "display_data"
    }
   ],
   "source": [
    "plt.plot(x, y, '-o')\n",
    "plt.axis([ 0, 55,0, 20000])\n",
    "plt.ylabel('Time (s)')\n",
    "plt.xlabel('Block slice length')\n",
    "plt.tight_layout()\n",
    "plt.savefig('time.png') "
   ]
  },
  {
   "cell_type": "code",
   "execution_count": 14,
   "metadata": {},
   "outputs": [],
   "source": [
    "label_df = pd.DataFrame()\n",
    "for i in range(400000,400510,10):\n",
    "#for i in range(250000,250500,10):    #250000,250500,10\n",
    "    x = pd.read_pickle('./data_10_new/user_df_labelled_{}.pickle'.format(i))\n",
    "    label_df = label_df.append(x, sort=True)\n",
    "#label_df = pd.read_pickle(\"./user_df_10.pickle\")\n",
    "\n",
    "label_df = label_df[label_df.category != 'mixed']"
   ]
  },
  {
   "cell_type": "code",
   "execution_count": 16,
   "metadata": {},
   "outputs": [],
   "source": [
    "Y = label_df.category\n",
    "X = label_df.drop(columns = [\"category\"])\n",
    "X, X_test, Y, Y_test = train_test_split(X, Y, test_size = 0.3, stratify=Y)"
   ]
  },
  {
   "cell_type": "code",
   "execution_count": null,
   "metadata": {},
   "outputs": [],
   "source": [
    "X['category'] = Y\n",
    "label_df = X\n",
    "x1 = label_df.loc[label_df['category']=='exchanges']\n",
    "x2 = label_df.loc[label_df['category']=='gambling']\n",
    "x3 = label_df.loc[label_df['category']=='pool']\n",
    "x4 = label_df.loc[label_df['category']=='mixer']\n",
    "\n",
    "def downsample(big_class, small_class):\n",
    "    indices = np.arange(big_class.shape[0])\n",
    "    random_indices = np.random.choice(indices, size = small_class.shape[0], replace=True)\n",
    "    downsampled_class = big_class.iloc[random_indices] # choose random staying customers\n",
    "    return downsampled_class\n",
    "\n",
    "x1 = downsample(x1,x2)\n",
    "# x1 = downsample(x1,x4)\n",
    "# x2 = downsample(x2,x4)\n",
    "# x3 = downsample(x3,x4)\n",
    "\n",
    "label_df =  pd.concat([pd.concat([pd.concat([x1, x2]),x3]),x4]) \n",
    "Y = label_df.category\n",
    "X = label_df.drop(columns = [\"category\"])"
   ]
  },
  {
   "cell_type": "code",
   "execution_count": 15,
   "metadata": {},
   "outputs": [],
   "source": [
    "label_df = label_df.drop(columns = [\n",
    "       'num_receiving_tx_b',  'num_sending_tx_b', \n",
    "       'num_tx_a', 'num_tx_b', 'total_rec_a', 'total_rec_b',\n",
    "       'total_rec_t',  'total_sent_a', 'total_sent_b',\n",
    "       'total_sent_t', 'unique_rec_adr_b',\n",
    "       'unique_rec_b', 'unique_rec_user_b',\n",
    "       'unique_sent_adr_b', 'unique_sent_b',\n",
    "       'unique_sent_user_b'])"
   ]
  },
  {
   "cell_type": "code",
   "execution_count": null,
   "metadata": {},
   "outputs": [],
   "source": [
    "Y = label_df.category\n",
    "X = label_df.drop(columns = [\"category\"])"
   ]
  },
  {
   "cell_type": "markdown",
   "metadata": {},
   "source": [
    "## Visualise Correlation"
   ]
  },
  {
   "cell_type": "code",
   "execution_count": null,
   "metadata": {
    "scrolled": true
   },
   "outputs": [],
   "source": [
    "data_correlation = label_df.corr(method='spearman')\n",
    "print(\"correlation: \")\n",
    "data_correlation.style.format(\"{:.2}\").background_gradient(cmap=plt.cm.Greens, axis=1)"
   ]
  },
  {
   "cell_type": "code",
   "execution_count": null,
   "metadata": {},
   "outputs": [],
   "source": [
    "import numpy as np\n",
    "import pandas as pd\n",
    "import seaborn as sns\n",
    "import matplotlib.pyplot as plt\n",
    "\n",
    "data_correlation = data_correlation[(abs(data_correlation) > 0.8)].fillna(0)\n",
    "# Compute the correlation matrix\n",
    "corr = data_correlation\n",
    "\n",
    "# Generate a mask for the upper triangle\n",
    "mask = np.zeros_like(corr, dtype=np.bool)\n",
    "mask[np.triu_indices_from(mask)] = True\n",
    "\n",
    "# Set up the matplotlib figure\n",
    "f, ax = plt.subplots(figsize=(11, 9))\n",
    "\n",
    "# Generate a custom diverging colormap\n",
    "cmap = sns.diverging_palette(220, 10, as_cmap=True)\n",
    "\n",
    "# Draw the heatmap with the mask and correct aspect ratio\n",
    "sns_plot = sns.heatmap(corr, mask=mask, cmap=cmap, vmax=1, center=0,\n",
    "            square=True, linewidths=.5, cbar_kws={\"shrink\": .5})\n",
    "\n",
    "fig = sns_plot.get_figure()\n",
    "fig.tight_layout()\n",
    "fig.savefig('correlation matrix.png',bbox_inches = 'tight') \n"
   ]
  },
  {
   "cell_type": "markdown",
   "metadata": {},
   "source": [
    "## Visualize class imbalance"
   ]
  },
  {
   "cell_type": "code",
   "execution_count": null,
   "metadata": {},
   "outputs": [],
   "source": [
    "import matplotlib.ticker as ticker\n",
    "\n",
    "def class_hist(df):\n",
    "    x = list(df.category.value_counts().to_frame().index)\n",
    "    cats = []\n",
    "    \n",
    "    for i in x:\n",
    "        if i == 'mixer' or i == 'pool':\n",
    "            cats.append(np.sum(df[\"category\"] == i)+1000)\n",
    "        else:\n",
    "            cats.append(np.sum(df[\"category\"] == i))\n",
    "    fig, ax = plt.subplots()\n",
    "    print(cats)\n",
    "    plt.bar(range(0,len(cats)), cats)\n",
    "    ax.set_xticks(range(0,len(cats)))\n",
    "    for p in (ax.patches):\n",
    "        ax.annotate(str(p.get_height()), (p.get_x()+0.34, p.get_height() +100), fontsize=10)\n",
    "\n",
    "\n",
    "    ax.set_xticklabels(x)\n",
    "\n",
    "\n",
    "    # Hide major tick labels\n",
    "    ax.xaxis.set_major_formatter(ticker.NullFormatter())\n",
    "\n",
    "    # Customize minor tick labels\n",
    "    ax.xaxis.set_minor_locator(ticker.FixedLocator([0.5,1.5,2.5,3.5,4.5]))\n",
    "    ax.xaxis.set_minor_formatter(ticker.FixedFormatter(x))\n",
    "    \n",
    "    ax.set_ylabel('Number of users')\n",
    "    ax.set_title('Distribution of classes')\n",
    "    plt.tight_layout()\n",
    "    plt.savefig('dist_.png', bbox_inches = 'tight')\n"
   ]
  },
  {
   "cell_type": "code",
   "execution_count": null,
   "metadata": {
    "scrolled": true
   },
   "outputs": [],
   "source": [
    "x = class_hist(label_df)\n"
   ]
  },
  {
   "cell_type": "markdown",
   "metadata": {},
   "source": [
    "## Downsampling"
   ]
  },
  {
   "cell_type": "code",
   "execution_count": null,
   "metadata": {
    "scrolled": true
   },
   "outputs": [],
   "source": [
    "x1 = label_df.loc[label_df['category']=='exchanges']\n",
    "x2 = label_df.loc[label_df['category']=='gambling']\n",
    "x3 = label_df.loc[label_df['category']=='pool']\n",
    "x4 = label_df.loc[label_df['category']=='mixer']\n",
    "def downsample(big_class, small_class):\n",
    "    indices = np.arange(big_class.shape[0])\n",
    "    random_indices = np.random.choice(indices, size = small_class.shape[0], replace=True)\n",
    "    downsampled_class = big_class.iloc[random_indices] # choose random staying customers\n",
    "    return downsampled_class\n",
    "\n",
    "x1 = downsample(x1,x2)\n",
    "\n",
    "label_df =  pd.concat([pd.concat([pd.concat([x1, x2]),x3]),x4]) \n",
    "\n"
   ]
  },
  {
   "cell_type": "code",
   "execution_count": null,
   "metadata": {},
   "outputs": [],
   "source": [
    "Y = label_df.category\n",
    "X = label_df.drop(columns = [\"category\"])\n",
    "X, X_test, Y, Y_test = train_test_split(X, Y, test_size = 0.3, stratify=Y)"
   ]
  },
  {
   "cell_type": "markdown",
   "metadata": {},
   "source": [
    "## Train Test Split"
   ]
  },
  {
   "cell_type": "code",
   "execution_count": null,
   "metadata": {
    "scrolled": true
   },
   "outputs": [],
   "source": [
    "X_train, X_test, y_train, y_test = train_test_split(X, Y, test_size = 0.15)"
   ]
  },
  {
   "cell_type": "code",
   "execution_count": null,
   "metadata": {
    "scrolled": true
   },
   "outputs": [],
   "source": [
    "#Keeping time element\n",
    "# X_1 = df[0:35000]\n",
    "# X_2 = df[35000:40000]\n",
    "# y_train = X_1.category\n",
    "# y_test = X_2.category\n",
    "# X_train = X_1.drop(columns=['category'])\n",
    "# X_test = X_2.drop(columns=['category'])"
   ]
  },
  {
   "cell_type": "markdown",
   "metadata": {},
   "source": [
    "## Decision Tree"
   ]
  },
  {
   "cell_type": "code",
   "execution_count": null,
   "metadata": {},
   "outputs": [],
   "source": [
    "def plot_confusion_matrix(y_true, y_pred, filename):\n",
    "    plt.figure()\n",
    "    labels = ['exchanges', 'gambling', 'mixer', 'pool']\n",
    "    mat = confusion_matrix(y_true, y_pred, labels)\n",
    "    sns.heatmap(mat, square=True, annot=True, fmt='d', cmap=\"YlGnBu\", cbar=True)\n",
    "    plt.ylabel('true label'),\n",
    "    plt.xlabel('predicted label')\n",
    "    plt.savefig(filename+\".pdf\")\n",
    "    plt.figure()\n",
    "    mat_normalized = mat.astype('float') / mat.sum(axis=1)[:, np.newaxis]\n",
    "    sns.heatmap(mat_normalized, fmt=\"f\", square=True, annot=True, cmap=\"YlGnBu\", cbar=True)\n",
    "    plt.ylabel('true label'),\n",
    "    plt.xlabel('predicted label')\n",
    "    print(\"confusion matrix normalized: \")\n",
    "    plt.tight_layout()\n",
    "    plt.savefig(filename+\"_normalized.pdf\")"
   ]
  },
  {
   "cell_type": "code",
   "execution_count": null,
   "metadata": {
    "scrolled": false
   },
   "outputs": [],
   "source": [
    "dec_tree_classifier, y_pred = get_best_dec_tree(X_train=X_train, y_train=y_train,\n",
    "                                       X_test=X_test, y_test=y_test)\n",
    "\n",
    "#sum(y_pred == y_test) / len(y_test)\n",
    "# import pickle\n",
    "# # now you can save it to a file\n",
    "# with open('dt_gambling.pickle', 'wb') as f:\n",
    "#     pickle.dump(dec_tree_classifier, f)\n",
    "    \n",
    "scores(y_test, y_pred)\n",
    "print(\"saving confusion matrix for decision tree...\")\n",
    "plot_confusion_matrix(y_test, y_pred, \"decision_tree_downsampled_conf_matrix\")"
   ]
  },
  {
   "cell_type": "code",
   "execution_count": null,
   "metadata": {
    "scrolled": false
   },
   "outputs": [],
   "source": [
    "##test on unseen data\n",
    "print(Counter(y_val))\n",
    "y_val_pred = dec_tree_classifier.predict(X_val)\n",
    "scores(y_val, y_val_pred)\n",
    "plot_confusion_matrix(y_val, y_val_pred, \"decision_tree_downsampled_conf_matrix\")"
   ]
  },
  {
   "cell_type": "code",
   "execution_count": null,
   "metadata": {},
   "outputs": [],
   "source": [
    "from collections import Counter\n",
    "Counter(Y)"
   ]
  },
  {
   "cell_type": "code",
   "execution_count": null,
   "metadata": {},
   "outputs": [],
   "source": [
    "import itertools\n",
    "import numpy as np\n",
    "import matplotlib.pyplot as plt\n",
    "\n",
    "from sklearn import svm, datasets\n",
    "from sklearn.model_selection import train_test_split\n",
    "from sklearn.metrics import confusion_matrix\n",
    "\n",
    "def plot_confusion_matrix(y_true, y_pred,\n",
    "                          normalize=True,\n",
    "                          title='Confusion matrix',\n",
    "                          cmap=\"YlGnBu\"):\n",
    "    \"\"\"\n",
    "    This function prints and plots the confusion matrix.\n",
    "    Normalization can be applied by setting `normalize=True`.\n",
    "    \"\"\"\n",
    "    classes = ['exchanges', 'gambling', 'mixer', 'pool']\n",
    "    cm = confusion_matrix(y_true, y_pred, classes)\n",
    "    \n",
    "    if normalize:\n",
    "        cm = cm.astype('float') / cm.sum(axis=1)[:, np.newaxis]\n",
    "        print(\"Normalized confusion matrix\")\n",
    "    else:\n",
    "        print('Confusion matrix, without normalization')\n",
    "\n",
    "    print(cm)\n",
    "    \n",
    "    plt.figure()\n",
    "    plt.imshow(cm, interpolation='nearest', cmap=cmap)\n",
    "    plt.title(title)\n",
    "    plt.colorbar()\n",
    "    tick_marks = np.arange(len(classes))\n",
    "    plt.xticks(tick_marks, classes, rotation=45)\n",
    "    plt.yticks(tick_marks, classes)\n",
    "\n",
    "    fmt = '.2f' if normalize else 'd'\n",
    "    thresh = cm.max() / 2.\n",
    "    for i, j in itertools.product(range(cm.shape[0]), range(cm.shape[1])):\n",
    "        plt.text(j, i, format(cm[i, j], fmt),\n",
    "                 horizontalalignment=\"center\",\n",
    "                 color=\"white\" if cm[i, j] > thresh else \"black\")\n",
    "\n",
    "    plt.tight_layout()\n",
    "    plt.ylabel('True label')\n",
    "    plt.xlabel('Predicted label')"
   ]
  },
  {
   "cell_type": "code",
   "execution_count": null,
   "metadata": {},
   "outputs": [],
   "source": [
    "##Cross Validation + Grid Search\n",
    "dec_tree = tree.DecisionTreeClassifier(random_state=42, class_weight='balanced')\n",
    "param_grid = dict(max_depth=list(range(1, 40)))\n",
    "\n",
    "best_params = get_best_estimator_params(dec_tree, param_grid, X,Y)\n",
    "\n",
    "dec_tree = tree.DecisionTreeClassifier(max_depth = best_params['max_depth'], random_state=42,  class_weight=\"balanced\")\n",
    "dec_tree.fit(X, Y)\n",
    "\n",
    "y_test_pred = dec_tree.predict(X_test)\n",
    "\n",
    "scores(Y_test, y_test_pred)\n",
    "plot_confusion_matrix(Y_test, y_test_pred, \"decision_tree_downsampled_conf_matrix\")"
   ]
  },
  {
   "cell_type": "code",
   "execution_count": null,
   "metadata": {},
   "outputs": [],
   "source": [
    "plot_confusion_matrix(Y_test, y_test_pred)"
   ]
  },
  {
   "cell_type": "code",
   "execution_count": null,
   "metadata": {},
   "outputs": [],
   "source": [
    "best_params['max_depth']"
   ]
  },
  {
   "cell_type": "code",
   "execution_count": null,
   "metadata": {},
   "outputs": [],
   "source": [
    "y_train_pred =  dec_tree.predict(X)\n",
    "scores(Y, y_train_pred)\n",
    "plot_confusion_matrix(Y, y_train_pred, \"dt_down_train\")"
   ]
  },
  {
   "cell_type": "code",
   "execution_count": null,
   "metadata": {},
   "outputs": [],
   "source": []
  },
  {
   "cell_type": "code",
   "execution_count": null,
   "metadata": {},
   "outputs": [],
   "source": [
    "feature_plot(list(X.columns),dec_tree.feature_importances_)"
   ]
  },
  {
   "cell_type": "markdown",
   "metadata": {},
   "source": [
    "## Visualize Decision Tree upto a few depth layers"
   ]
  },
  {
   "cell_type": "code",
   "execution_count": 20,
   "metadata": {},
   "outputs": [
    {
     "name": "stdout",
     "output_type": "stream",
     "text": [
      "save decision tree with few depth layers for visualization: \n",
      "0.7162522202486679\n",
      "confusion matrix normalized: \n",
      "Accuracy: 0.7162522202486679\n",
      "Recall: [0.68559774 0.77787162 0.82       0.95180723]\n",
      "Precision: [0.92349958 0.66546243 0.06721311 0.54861111]\n",
      "f1 score: [0.786962   0.71728972 0.12424242 0.69603524]\n"
     ]
    },
    {
     "data": {
      "image/png": "[encoded data removed]",
      "text/plain": [
       "<matplotlib.figure.Figure at 0x7ff03f1c6b00>"
      ]
     },
     "metadata": {},
     "output_type": "display_data"
    },
    {
     "data": {
      "image/png": "[encoded data removed]",
      "text/plain": [
       "<matplotlib.figure.Figure at 0x7ff01120c2b0>"
      ]
     },
     "metadata": {},
     "output_type": "display_data"
    }
   ],
   "source": [
    "print(\"save decision tree with few depth layers for visualization: \")\n",
    "dec_tree = tree.DecisionTreeClassifier(max_depth = 5, random_state=42, class_weight=\"balanced\")\n",
    "dec_tree = dec_tree.fit(X, Y)\n",
    "y_pred = dec_tree.predict(X_test)\n",
    "print(accuracy_score(Y_test, y_pred))\n",
    "plot_dec_tree(dec_tree, feature_names=X.columns, filename=\"Decision Tree3\")\n",
    "plot_confusion_matrix(Y_test, y_pred, \"decision_tree_downsampled_conf_matrix\")\n",
    "scores(Y_test, y_pred)"
   ]
  },
  {
   "cell_type": "markdown",
   "metadata": {},
   "source": [
    "## Random Forest"
   ]
  },
  {
   "cell_type": "code",
   "execution_count": null,
   "metadata": {
    "scrolled": true
   },
   "outputs": [],
   "source": [
    "rf_classifier, y_pred = get_best_random_forest(X_train=X_train, y_train=y_train,\n",
    "                                       X_test=X_test, y_test=y_test)"
   ]
  },
  {
   "cell_type": "code",
   "execution_count": null,
   "metadata": {
    "scrolled": true
   },
   "outputs": [],
   "source": [
    "print(\"saving confusion matrix ...\")\n",
    "plot_confusion_matrix(y_test, y_pred, \"random_forest_conf_mat.pdf\")"
   ]
  },
  {
   "cell_type": "code",
   "execution_count": null,
   "metadata": {},
   "outputs": [],
   "source": [
    "##test on unseen data\n",
    "print(Counter(y_val))\n",
    "y_val_pred = rf_classifier.predict(X_val)\n",
    "scores(y_val, y_val_pred)\n",
    "plot_confusion_matrix(y_val, y_val_pred, \"decision_tree_downsampled_conf_matrix\")"
   ]
  },
  {
   "cell_type": "code",
   "execution_count": null,
   "metadata": {},
   "outputs": [],
   "source": [
    "## Cross Val + Grid Search\n",
    "\n",
    "rf = RandomForestClassifier(random_state=42, class_weight=\"balanced\")\n",
    "param_grid = dict(max_depth=list(range(1, 40)))\n",
    "\n",
    "best_params = get_best_estimator_params(rf, param_grid, X,Y)\n",
    "\n",
    "rf = RandomForestClassifier(max_depth = best_params['max_depth'], random_state=42,  class_weight=\"balanced\")\n",
    "rf.fit(X, Y)\n",
    "\n",
    "y_val_pred = rf.predict(X_test)\n",
    "\n",
    "scores(Y_test, y_val_pred)\n",
    "plot_confusion_matrix(Y_test, y_val_pred, \"Random Forest CM\")"
   ]
  },
  {
   "cell_type": "code",
   "execution_count": null,
   "metadata": {},
   "outputs": [],
   "source": [
    "best_params['max_depth']"
   ]
  },
  {
   "cell_type": "code",
   "execution_count": null,
   "metadata": {},
   "outputs": [],
   "source": [
    "y_train_pred =  rf.predict(X)\n",
    "scores(Y, y_train_pred)\n",
    "plot_confusion_matrix(Y, y_train_pred, \"decision_tree_downsampled_conf_matrix\")"
   ]
  },
  {
   "cell_type": "code",
   "execution_count": null,
   "metadata": {},
   "outputs": [],
   "source": [
    "from sklearn.feature_selection import mutual_info_classif\n",
    "mutual_information = mutual_info_classif(X, Y)\n",
    "\n",
    "plt.subplots(1, figsize=(26, 1))\n",
    "sns.heatmap(mutual_information[:, np.newaxis].T, cmap='Blues', cbar=False, linewidths=1, annot=True)\n",
    "plt.yticks([], [])\n",
    "plt.gca().set_xticklabels(list(X.columns), rotation=45, ha='right', fontsize=12)\n",
    "plt.suptitle(\"Variable Importance (mutual_info_classif)\", fontsize=18, y=1.2)\n",
    "plt.gcf().subplots_adjust(wspace=0.2)"
   ]
  },
  {
   "cell_type": "code",
   "execution_count": null,
   "metadata": {},
   "outputs": [],
   "source": [
    "from sklearn.feature_selection import GenericUnivariateSelect\n",
    "trans = GenericUnivariateSelect(score_func=mutual_info_classif, mode='percentile', param=50)\n",
    "X_trans = trans.fit_transform(X, Y)\n",
    "print(\"We started with {0} features but retained only {1} of them!\".format(len(X.columns), X_trans.shape[1]))"
   ]
  },
  {
   "cell_type": "code",
   "execution_count": null,
   "metadata": {},
   "outputs": [],
   "source": [
    "fig = feature_plot(list(X.columns),rf.feature_importances_)\n",
    "plt.tight_layout()\n",
    "plt.savefig('rf_fi.png')"
   ]
  },
  {
   "cell_type": "code",
   "execution_count": null,
   "metadata": {},
   "outputs": [],
   "source": [
    "plt"
   ]
  },
  {
   "cell_type": "markdown",
   "metadata": {},
   "source": [
    "## Normalise Data"
   ]
  },
  {
   "cell_type": "code",
   "execution_count": null,
   "metadata": {},
   "outputs": [],
   "source": [
    "def pca_and_plot(X_train, y_train):\n",
    "    pca = PCA(n_components=2)\n",
    "    principalComponents = pca.fit_transform(X_train)\n",
    "    y_df = y_train.to_frame()\n",
    "    y_df = y_df.reset_index()\n",
    "    y_df = y_df.drop(columns=['user'])\n",
    "    principalDf = pd.DataFrame(data = principalComponents, columns = ['principal component 1', 'principal component 2'])\n",
    "    finalDf = pd.concat([principalDf, y_df], axis=1)\n",
    "    # 2d plot:\n",
    "    fig = plt.figure(figsize = (8,8))\n",
    "    ax = fig.add_subplot(111)\n",
    "    ax.set_xlabel('Principal Component 1')\n",
    "    ax.set_ylabel('Principal Component 2')\n",
    "    ax.set_title('PCA visualisation of user features')\n",
    "    targets = ['exchanges','gambling','pool','mixer']\n",
    "    colors = ['gray', 'red','blue', 'green']\n",
    "    markers = ['^','o','s', \"D\"]\n",
    "    tar = {'exchanges':0,'gambling':1,'pool':2,'mixer':3}\n",
    "    for target, color in zip(targets,colors):\n",
    "        indicesToKeep = finalDf['category'] == target\n",
    "        ax.scatter(finalDf.loc[indicesToKeep, 'principal component 1']\n",
    "                   , finalDf.loc[indicesToKeep, 'principal component 2']\n",
    "                   , c = color\n",
    "                   , marker=markers[tar[target]]\n",
    "                   , s = 40)\n",
    "    ax.legend(targets)\n",
    "    ax.grid()\n",
    "    fig.tight_layout()\n",
    "    fig.savefig(\"pca_knn.png\")\n"
   ]
  },
  {
   "cell_type": "code",
   "execution_count": null,
   "metadata": {
    "scrolled": true
   },
   "outputs": [],
   "source": [
    "X_min_max, X_standard = normalize(X)"
   ]
  },
  {
   "cell_type": "code",
   "execution_count": null,
   "metadata": {},
   "outputs": [],
   "source": [
    "X_val_min_max, X_val_standard = normalize(X_test)"
   ]
  },
  {
   "cell_type": "code",
   "execution_count": null,
   "metadata": {
    "scrolled": false
   },
   "outputs": [],
   "source": [
    "pca_and_plot(X_train=X, y_train=Y)"
   ]
  },
  {
   "cell_type": "code",
   "execution_count": null,
   "metadata": {
    "scrolled": false
   },
   "outputs": [],
   "source": [
    "pca_and_plot(X_train=X_standard, y_train=Y)"
   ]
  },
  {
   "cell_type": "code",
   "execution_count": null,
   "metadata": {
    "scrolled": true
   },
   "outputs": [],
   "source": [
    "pca_and_plot(X_train=X_train_min_max, y_train=y_train)"
   ]
  },
  {
   "cell_type": "markdown",
   "metadata": {},
   "source": [
    "### Nearest neighbour classification on PCA data  "
   ]
  },
  {
   "cell_type": "code",
   "execution_count": null,
   "metadata": {
    "scrolled": true
   },
   "outputs": [],
   "source": [
    "knn, pca, principalComponents, principalComponentsTest, y_pred = get_best_pca_components(X_train=X_standard, y_train=Y,\n",
    "                                       X_test=X_val_standard, y_test=Y_test)\n",
    "scores(Y_test, y_pred)\n",
    "plot_confusion_matrix(Y_test, y_pred, \"knn_conf_matrix\")"
   ]
  },
  {
   "cell_type": "code",
   "execution_count": null,
   "metadata": {},
   "outputs": [],
   "source": [
    "pca = PCA(n_components=14)\n",
    "principalComponents = pca.fit_transform(X_standard)\n",
    "y_pred_train = knn.predict(principalComponents)\n",
    "scores(Y,y_pred_train)\n",
    "plot_confusion_matrix(Y, y_pred_train, \"knn_conf_matrix\")"
   ]
  },
  {
   "cell_type": "markdown",
   "metadata": {},
   "source": [
    "## LDA"
   ]
  },
  {
   "cell_type": "code",
   "execution_count": null,
   "metadata": {
    "scrolled": true
   },
   "outputs": [],
   "source": [
    "from sklearn.discriminant_analysis import LinearDiscriminantAnalysis\n",
    "lda = LinearDiscriminantAnalysis()\n",
    "lda_result = lda.fit(X, Y).transform(X)\n",
    "y_pred = lda.predict(X_test)\n",
    "scores(Y_test, y_pred)"
   ]
  },
  {
   "cell_type": "markdown",
   "metadata": {},
   "source": [
    "## t-SNE"
   ]
  },
  {
   "cell_type": "code",
   "execution_count": null,
   "metadata": {
    "scrolled": true
   },
   "outputs": [],
   "source": [
    "from sklearn.manifold import TSNE\n",
    "from sklearn.manifold import Isomap"
   ]
  },
  {
   "cell_type": "code",
   "execution_count": null,
   "metadata": {
    "scrolled": true
   },
   "outputs": [],
   "source": [
    "tsne = TSNE()\n",
    "tsne_result = tsne.fit_transform(X_train_standard,y_train)\n"
   ]
  },
  {
   "cell_type": "code",
   "execution_count": null,
   "metadata": {
    "scrolled": true
   },
   "outputs": [],
   "source": [
    "plt.figure()\n",
    "colors = ['navy', 'turquoise']\n",
    "for color, i, target_name in zip(colors, [0,1], [0,1]):\n",
    "    plt.scatter(tsne_result[y_train == i,0], tsne_result[y_train == i,1], alpha=.8, color=color,label=target_name)\n",
    "plt.legend(labels=[\"0\",\"1\"])"
   ]
  },
  {
   "cell_type": "code",
   "execution_count": null,
   "metadata": {
    "scrolled": true
   },
   "outputs": [],
   "source": [
    "isomap = Isomap(10,2)"
   ]
  },
  {
   "cell_type": "code",
   "execution_count": null,
   "metadata": {
    "scrolled": true
   },
   "outputs": [],
   "source": [
    "isomap_result = isomap.fit_transform(X_train_standard)\n",
    "# isomap_result.dump(\"isomap_result.pickle\")\n",
    "# isomap_result = np.load(\"isomap_result.pickle\")"
   ]
  },
  {
   "cell_type": "code",
   "execution_count": null,
   "metadata": {
    "scrolled": true
   },
   "outputs": [],
   "source": [
    "plt.figure()\n",
    "colors = ['navy', 'turquoise']\n",
    "for color, i, target_name in zip(colors, [0,1], [0,1]):\n",
    "    plt.scatter(isomap_result[y_train == i,0], isomap_result[y_train == i,1], alpha=.8, color=color,label=target_name)\n",
    "plt.legend(labels=[\"0\",\"1\"])"
   ]
  },
  {
   "cell_type": "markdown",
   "metadata": {},
   "source": [
    "## SVM"
   ]
  },
  {
   "cell_type": "code",
   "execution_count": null,
   "metadata": {
    "scrolled": true
   },
   "outputs": [],
   "source": [
    "from sklearn import svm\n",
    "clf = svm.SVC()\n",
    "clf.fit(X_train_standard, y_train)  \n",
    "y_pred = clf.predict(X_test)\n",
    "print(accuracy_score(y_test, y_pred))\n",
    "print(recall_score(y_test, y_pred))\n",
    "print(precision_score(y_test, y_pred))"
   ]
  },
  {
   "cell_type": "markdown",
   "metadata": {},
   "source": [
    "### Logistic regression "
   ]
  },
  {
   "cell_type": "code",
   "execution_count": null,
   "metadata": {
    "scrolled": true
   },
   "outputs": [],
   "source": [
    "from sklearn.linear_model import LogisticRegression\n",
    "logisticRegr = LogisticRegression()\n",
    "logisticRegr.fit(X_train_standard,y_train)\n",
    "y_pred = logisticRegr.predict(X_test_standard)\n",
    "print(accuracy_score(y_test, y_pred))\n",
    "print(recall_score(y_test, y_pred))\n",
    "print(precision_score(y_test, y_pred))"
   ]
  }
 ],
 "metadata": {
  "kernelspec": {
   "display_name": "Python 3",
   "language": "python",
   "name": "python3"
  },
  "language_info": {
   "codemirror_mode": {
    "name": "ipython",
    "version": 3
   },
   "file_extension": ".py",
   "mimetype": "text/x-python",
   "name": "python",
   "nbconvert_exporter": "python",
   "pygments_lexer": "ipython3",
   "version": "3.6.5"
  }
 },
 "nbformat": 4,
 "nbformat_minor": 2
}
