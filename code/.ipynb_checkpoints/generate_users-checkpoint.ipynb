{
 "cells": [
  {
   "cell_type": "code",
   "execution_count": 2,
   "metadata": {},
   "outputs": [
    {
     "name": "stderr",
     "output_type": "stream",
     "text": [
      "/usr/lib/python3.5/importlib/_bootstrap.py:222: RuntimeWarning: numpy.dtype size changed, may indicate binary incompatibility. Expected 96, got 88\n",
      "  return f(*args, **kwds)\n"
     ]
    }
   ],
   "source": [
    "from functions import *\n",
    "import time"
   ]
  },
  {
   "cell_type": "code",
   "execution_count": null,
   "metadata": {},
   "outputs": [],
   "source": [
    "# Select blocks to compute over, in this case select block by block but can by done over a range as well\n",
    "\n",
    "no_exchanges = [400063,400529,400573,400583,400618,401091,416710,416756,420087,420249]\n",
    "no_gambling = [386504,387300,388841,389135,400063,401122,401181,402169,416710,416756,420129,420249,420285,420407,420495,420499,420506]"
   ]
  },
  {
   "cell_type": "code",
   "execution_count": null,
   "metadata": {},
   "outputs": [],
   "source": [
    "user_df_labelled = pd.DataFrame()\n",
    "initaltime = time.time()\n",
    "for i in range(400020,400021,1):\n",
    "    print(i)\n",
    "    df = pd.DataFrame()\n",
    "    block_list = []\n",
    "    for block in range(i,i+10):\n",
    "        if(os.path.exists(\"../pickles/df/{}.pickle\".format(block)) and os.path.exists(\"../pickles/otc/otc_{}.pickle\".format(block))):\n",
    "            print(block)\n",
    "            block_list.append(block)\n",
    "            temp_df = pd.read_pickle(\"../pickles/df/{}.pickle\".format(block))\n",
    "            if temp_df.empty:\n",
    "                print('oh no')\n",
    "            temp_df['block_no']=block\n",
    "            df = df.append(temp_df)\n",
    "    df = df.reset_index()\n",
    "    # New columns for number of input and output transaction ids\n",
    "    df['num_txo'] = df.groupby('id_t')['id_txo_out'].transform('nunique')\n",
    "    df['num_txi'] = df.groupby('id_t')['id_txi'].transform('nunique')\n",
    "    \n",
    "    users, edges = get_user_heur1(df)\n",
    "    \n",
    "    users = get_user_heur2(block_list, users, df)\n",
    "    \n",
    "    users = assignBlocks(users, df)\n",
    "    \n",
    "    to_combine = getCouples(users) \n",
    "    while to_combine:\n",
    "        print(\"to_combine length \", len(to_combine))\n",
    "        st = set(users)\n",
    "        for tple in to_combine:\n",
    "            user1 = users[tple[0]]\n",
    "            user2 = users[tple[1]]\n",
    "            if user1 in st and user2 in st:\n",
    "                #print(tple)\n",
    "                st.remove(user1)\n",
    "                st.remove(user2)\n",
    "                user1.adr = user1.adr.union(user2.adr)\n",
    "                st.add(user1)\n",
    "        users = list(st)\n",
    "        print(len(users))\n",
    "        to_combine = getCouples(users)\n",
    "    \n",
    "    check_adrs_txs(users)\n",
    "    \n",
    "    df, users1, tups = construct_user_graph(df, users)\n",
    "    \n",
    "    user_df = get_user_features_df(df, users1)\n",
    "    \n",
    "    user_df, user_label, dic_userlabels = tag_users(users1, user_df, df)  \n",
    "    user_df_labelled = user_df_labelled.append(user_df)\n",
    "    \n",
    "    user_df_labelled.to_pickle(\"./user_df_labelled_co.pickle\")\n",
    "    \n",
    "print(\"Total time to process: {}\".format(time.time()-initaltime))"
   ]
  }
 ],
 "metadata": {
  "kernelspec": {
   "display_name": "Python 3",
   "language": "python",
   "name": "python3"
  },
  "language_info": {
   "codemirror_mode": {
    "name": "ipython",
    "version": 3
   },
   "file_extension": ".py",
   "mimetype": "text/x-python",
   "name": "python",
   "nbconvert_exporter": "python",
   "pygments_lexer": "ipython3",
   "version": "3.6.5"
  }
 },
 "nbformat": 4,
 "nbformat_minor": 2
}
