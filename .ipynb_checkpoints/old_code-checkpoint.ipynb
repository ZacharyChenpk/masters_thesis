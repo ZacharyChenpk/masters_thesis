{
 "cells": [
  {
   "cell_type": "code",
   "execution_count": null,
   "metadata": {},
   "outputs": [],
   "source": [
    "def feature_extract(id_t,df):\n",
    "    total_val = df.input_val.sum()\n",
    "    num_in = df.nunique().id_txi\n",
    "    num_out = df.nunique().id_txo_out\n",
    "    ratio = num_in/float(num_out)\n",
    "    degree = num_in + num_out\n",
    "    num_unique_addr_in = df.nunique().iadr \n",
    "    num_unique_addr_out = df.nunique().oadr\n",
    "    data =  {'id':id_t,'total_val':float(total_val),'ratio':float(ratio),'degree':float(degree),'num_unique_addr_in':float(num_unique_addr_in),'num_unique_addr_out':float(num_unique_addr_out)}\n",
    "    df_ = pd.DataFrame(data,index=[0])\n",
    "    return df_\n",
    "    "
   ]
  },
  {
   "cell_type": "code",
   "execution_count": null,
   "metadata": {},
   "outputs": [],
   "source": [
    "col_names =  ['id','total_val','ratio','degree','num_unique_addr_in','num_unique_addr_out']\n",
    "features  = pd.DataFrame(columns = col_names)\n",
    "tx_ids = []\n",
    "tx_id_val = []\n",
    "\n",
    "for val in df.id_t.value_counts().iteritems():\n",
    "    data = df[df.id_t==val[0]]\n",
    "    tx_ids.append(val[0])\n",
    "    tx_id_val.append(data.output_val.sum())\n",
    "    if data.input_val.sum() == 0:\n",
    "        continue\n",
    "    f = feature_extract(val[0],data)\n",
    "    features = features.append(f,'sort=True')\n",
    "    \n",
    "\n",
    "features = features.set_index('id')"
   ]
  },
  {
   "cell_type": "code",
   "execution_count": null,
   "metadata": {},
   "outputs": [],
   "source": [
    "import pandas.testing as pdt\n",
    "pdt.assert_frame_equal(features,features2)"
   ]
  }
 ],
 "metadata": {
  "kernelspec": {
   "display_name": "Python 2",
   "language": "python",
   "name": "python2"
  },
  "language_info": {
   "codemirror_mode": {
    "name": "ipython",
    "version": 2
   },
   "file_extension": ".py",
   "mimetype": "text/x-python",
   "name": "python",
   "nbconvert_exporter": "python",
   "pygments_lexer": "ipython2",
   "version": "2.7.15"
  }
 },
 "nbformat": 4,
 "nbformat_minor": 2
}
