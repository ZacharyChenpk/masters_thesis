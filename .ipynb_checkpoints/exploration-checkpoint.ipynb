{
 "cells": [
  {
   "cell_type": "code",
   "execution_count": 70,
   "metadata": {},
   "outputs": [],
   "source": [
    "import pandas as pd \n",
    "import numpy as np\n",
    "import sklearn as sk\n",
    "from matplotlib import pyplot as plt\n",
    "import py2neo\n",
    "\n",
    "import urllib3\n",
    "urllib3.disable_warnings(urllib3.exceptions.InsecureRequestWarning)"
   ]
  },
  {
   "cell_type": "markdown",
   "metadata": {},
   "source": [
    "# Query Database"
   ]
  },
  {
   "cell_type": "code",
   "execution_count": null,
   "metadata": {},
   "outputs": [],
   "source": [
    "def query_database(query):\n",
    "    # REMEMBER TO BE CONNECTED TO IMPERIAL WIFI!\n",
    "    graph_db = py2neo.Graph(\"https://dsi-bitcoin.doc.ic.ac.uk:7473/db/data/\", auth=(\"guest_ro\", \"imperialO_nly\"))\n",
    "    return graph_db.run(query)"
   ]
  },
  {
   "cell_type": "code",
   "execution_count": 71,
   "metadata": {},
   "outputs": [],
   "source": [
    "def get_block_data(first_block, last_block):\n",
    "    query_string = \"\"\"\n",
    "                    MATCH (b:Block) <-[:MINED_IN]- (t:Tx) <-[:IN]- (txi:TxIn) <-[:UNLOCK]- (iadr:Address)\n",
    "                    WHERE b.height >= {} AND b.height <= {}\n",
    "                    MATCH (txi) <-[:SPENT]- (txo_in:TxOut) \n",
    "                    MATCH (oadr:Address) <-[:LOCK]- (txo_out:TxOut) <-[:OUT]- (t)\n",
    "                    \n",
    "                    RETURN iadr.address as iadr, oadr.address as oadr, txo_in.value as input_val, txo_out.value as output_val, ID(txo_in) as id_txo_in, ID(txi) as id_txi, ID(t) as id_t, ID(txo_out) as id_txo_out\n",
    "                    \"\"\".format(first_block, last_block)\n",
    "    return query_string"
   ]
  },
  {
   "cell_type": "code",
   "execution_count": 96,
   "metadata": {},
   "outputs": [],
   "source": [
    "df = query_database(get_block_data(400000,400000)).to_data_frame()"
   ]
  },
  {
   "cell_type": "code",
   "execution_count": 73,
   "metadata": {},
   "outputs": [
    {
     "name": "stdout",
     "output_type": "stream",
     "text": [
      "False\n",
      "False\n",
      "False\n",
      "False\n",
      "False\n",
      "False\n",
      "False\n",
      "False\n"
     ]
    }
   ],
   "source": [
    "#Check if any columns are unique\n",
    "for column in df:\n",
    "    print(df[column].is_unique)"
   ]
  },
  {
   "cell_type": "code",
   "execution_count": 74,
   "metadata": {},
   "outputs": [
    {
     "name": "stdout",
     "output_type": "stream",
     "text": [
      "1Jyjib7idDMDscVLhMJvTgjxMpxYHp1Dxg    324\n",
      "16HzNspMpPedrNocntGxDTqk7cqsb3Q7ND    162\n",
      "12FNes2xBtNGJBAeVKkKeo363XxK3EcG8r    142\n",
      "1HFgq6vnpwJxvaDsz8HGA2TgjYYU8HtyBQ    121\n",
      "14Emt9LGCu1rtipPrPGtKjkjiCJkC77mqj     93\n",
      "1MzpFjuQ1UC8v9khaTxrzdt2tqqKpkRJNt     93\n",
      "1DkkDjinCkXwSMtpDHYAarF6Bfjz1eDGn8     93\n",
      "16xfUv3htkF35sK6kx9GVNiTgeXguEp847     83\n",
      "1FYVhnRVyHjsP6SXrViTmR3oExnrhtz3tX     83\n",
      "176Gfc4gdBeoWLZiUXdDzsEreE8mcw4Mq4     60\n",
      "1Hgg1utdsUVk2FRP2qNaxgcRHPJowfYLtM     57\n",
      "1MENKBN8ZDQx3i1AdS6zagnGUwFyScfQpp     57\n",
      "188z786vHfSmjoToGLhVyNLXsBuYuKVbci     56\n",
      "1158mZ1LfWVfNcF3Z368ZGi3T4gLFkXwht     50\n",
      "16ZD98wpV86njGvh6WUxxiJbx92zofF3Vx     50\n",
      "1C8Ks1fjfDDNEYrs3hJKLERA1HDnNTfLq7     47\n",
      "19xgQafJ5eU5TJQn6oqnpzoqSvLgx75bt2     47\n",
      "1AZnsXDnF2tnZTGMXym2G9ELV9Af7zmrBm     46\n",
      "1CvEJFvXxJrNzAaJa7WbBJ9ji877asMuya     41\n",
      "13bKWQN84UL22ZHKQarvmzyRP7jy7DVz7x     41\n",
      "1NZjqaXMNcu7wir7QbBYnpC4DQA8BDFVcR     36\n",
      "1LuckyY9fRzcJre7aou7ZhWVXktxjjBb9S     36\n",
      "1798F49znRhX5MJPmRYRkrB5en7DtG7SM3     34\n",
      "1DPJUgUUFby63PvP1E1aULRdoui9q4onCs     34\n",
      "1ETSP9C7FDVm37iWs1yTR811tDrWSviHns     33\n",
      "17AmSb8a3JxDxG6cbq1kuAjeTseHzV8T2x     33\n",
      "1NtHN8Tx7MSGZ3XNx5iyNSRqsmQVnb3Ab6     33\n",
      "1BWzUxcEBn9ZEfLxc3TCULfCN2snAQpgqL     33\n",
      "12oZFFh2mWxCbE8auph1uSZHzSCWixoA2i     31\n",
      "1C3dZ31vPHbV3G3HRecVe9KLZYUqBTAVpn     31\n",
      "                                     ... \n",
      "1PqM19fnXG6BTeran1A2iFx9vtXJZoE9Jh      1\n",
      "1AyLRQyt3VMaXeuggcG7qQ92tLt84VJ49A      1\n",
      "1MfajEWJGKwZM9QpKythnyUYRbzeNvguW       1\n",
      "134Se1NCXhQaMNx8oUtK7jB9T7Tramiqig      1\n",
      "1FC1QRdRYsNGT5K2UktD1Y11MAbTjJqmuc      1\n",
      "1LCqjJh3wntGu4vuBsTAvfr6wkK6H4jiHo      1\n",
      "1B9LCL5ixNUFkterA84ZXHgf6D2Fmaupgc      1\n",
      "1Cn5DPC94ABvKUq7YVvvoHfr2dWaYv5r1v      1\n",
      "1GqCoRYthGx9RU8pu92BXdXEozW8C9uz2w      1\n",
      "18NUk1uQFWARom8XBHvhSuUKCpPHrTNGqP      1\n",
      "1HT6TMvtxN2DnnUs12VRBJKnfdgWo1dYra      1\n",
      "14zqxcb3Hi2S9nLJwYyB9vW6Jkaa3sBNGy      1\n",
      "1HwhqJScufRZLxM8VmpoZRidyWdnvotp3d      1\n",
      "14vzanU4iHh1ehGcxTTsatHPG7YL2hN8fW      1\n",
      "1L1Kcx9x3DQXbigBmf7bsNxJVLqRQx2Qpe      1\n",
      "15VVnMdtWms4vyFGidJjwiMPcBxJHNXrmt      1\n",
      "1HXwrt7RR71hGrV5GGm2G2CcKZMBWuXxbm      1\n",
      "1EFz8RdtRfcoyHYZHb6gm52fxPewQLcuAM      1\n",
      "1LTtn6ZENcQ12maiWEBFnHZqK5QxY52JYA      1\n",
      "1pVqXKfKFW2LDjMxpTvWuPM1jt3p53VNy       1\n",
      "17cWhd5Zj1qwgDRnTeGh557R3oZdRpChb6      1\n",
      "1LpCyZ4KT1agFmxCsGqcYb9Z7sQCyseSpm      1\n",
      "1pKpF8Q6rYEuqQ9HiQu5vNPhqWXyjBU55       1\n",
      "1a68MKJ23V6b2RqVnVxxuiH9WeSmj6ZKR       1\n",
      "14iJawBS8HqiGKEQeogJwtW5y8VSqkxNMy      1\n",
      "192saZ7uMoeudCBbPBVHmv6hQFy81aVAx8      1\n",
      "1NwNL8qs4owD8UF6u9L3N1jhH2KY1JCScU      1\n",
      "12AYXNAoKrAsV6hs8ZxQ9txeYySyDjRCHD      1\n",
      "19UCdPTvcAfs5EdodJxeRgjAMbX3wo3TpX      1\n",
      "1AD5WBvhGmLSNNZ9eJ6v6jAH8CcbjcCSct      1\n",
      "Name: oadr, Length: 3430, dtype: int64\n"
     ]
    }
   ],
   "source": [
    "print(df['oadr'].value_counts().sort_values(ascending=False))\n",
    "df1 = df.loc[df['iadr'] == '1BQLNJtMDKmMZ4PyqVFfRuBNvoGhjigBKF']"
   ]
  },
  {
   "cell_type": "markdown",
   "metadata": {},
   "source": [
    "# CLUSTERING"
   ]
  },
  {
   "cell_type": "code",
   "execution_count": 75,
   "metadata": {},
   "outputs": [],
   "source": [
    "cluster = (\n",
    "    df.groupby('id_t')\n",
    "    .agg({\n",
    "        'input_val': 'sum',\n",
    "        'id_txi': 'nunique',\n",
    "        'id_txo_out': 'nunique',\n",
    "        'iadr': 'nunique',\n",
    "        'oadr': 'nunique',       \n",
    "    }).rename(columns = {\n",
    "        'iadr':'num_unique_addr_in',\n",
    "        'oadr':'num_unique_addr_out'\n",
    "    })\n",
    ")\n",
    "\n",
    "cluster['ratio'] = cluster['id_txi'] / cluster['id_txo_out']\n",
    "cluster['degree'] = cluster['id_txi'] + cluster['id_txo_out'] \n",
    "\n",
    "cluster = cluster.drop(columns=['id_txi', 'id_txo_out'])"
   ]
  },
  {
   "cell_type": "code",
   "execution_count": 76,
   "metadata": {},
   "outputs": [
    {
     "data": {
      "text/html": [
       "<div>\n",
       "<style scoped>\n",
       "    .dataframe tbody tr th:only-of-type {\n",
       "        vertical-align: middle;\n",
       "    }\n",
       "\n",
       "    .dataframe tbody tr th {\n",
       "        vertical-align: top;\n",
       "    }\n",
       "\n",
       "    .dataframe thead th {\n",
       "        text-align: right;\n",
       "    }\n",
       "</style>\n",
       "<table border=\"1\" class=\"dataframe\">\n",
       "  <thead>\n",
       "    <tr style=\"text-align: right;\">\n",
       "      <th></th>\n",
       "      <th>num_unique_addr_in</th>\n",
       "      <th>input_val</th>\n",
       "      <th>num_unique_addr_out</th>\n",
       "      <th>ratio</th>\n",
       "      <th>degree</th>\n",
       "    </tr>\n",
       "    <tr>\n",
       "      <th>id_t</th>\n",
       "      <th></th>\n",
       "      <th></th>\n",
       "      <th></th>\n",
       "      <th></th>\n",
       "      <th></th>\n",
       "    </tr>\n",
       "  </thead>\n",
       "  <tbody>\n",
       "    <tr>\n",
       "      <th>113000164</th>\n",
       "      <td>1</td>\n",
       "      <td>0.192061</td>\n",
       "      <td>1</td>\n",
       "      <td>1.0</td>\n",
       "      <td>2</td>\n",
       "    </tr>\n",
       "    <tr>\n",
       "      <th>113000165</th>\n",
       "      <td>1</td>\n",
       "      <td>13.410992</td>\n",
       "      <td>2</td>\n",
       "      <td>1.5</td>\n",
       "      <td>5</td>\n",
       "    </tr>\n",
       "    <tr>\n",
       "      <th>113000166</th>\n",
       "      <td>1</td>\n",
       "      <td>3.210000</td>\n",
       "      <td>1</td>\n",
       "      <td>1.0</td>\n",
       "      <td>2</td>\n",
       "    </tr>\n",
       "    <tr>\n",
       "      <th>113000167</th>\n",
       "      <td>1</td>\n",
       "      <td>0.090000</td>\n",
       "      <td>1</td>\n",
       "      <td>1.0</td>\n",
       "      <td>2</td>\n",
       "    </tr>\n",
       "    <tr>\n",
       "      <th>113000168</th>\n",
       "      <td>1</td>\n",
       "      <td>1.546210</td>\n",
       "      <td>1</td>\n",
       "      <td>1.0</td>\n",
       "      <td>2</td>\n",
       "    </tr>\n",
       "  </tbody>\n",
       "</table>\n",
       "</div>"
      ],
      "text/plain": [
       "           num_unique_addr_in  input_val  num_unique_addr_out  ratio  degree\n",
       "id_t                                                                        \n",
       "113000164                   1   0.192061                    1    1.0       2\n",
       "113000165                   1  13.410992                    2    1.5       5\n",
       "113000166                   1   3.210000                    1    1.0       2\n",
       "113000167                   1   0.090000                    1    1.0       2\n",
       "113000168                   1   1.546210                    1    1.0       2"
      ]
     },
     "execution_count": 76,
     "metadata": {},
     "output_type": "execute_result"
    }
   ],
   "source": [
    "cluster.head()"
   ]
  },
  {
   "cell_type": "code",
   "execution_count": 77,
   "metadata": {},
   "outputs": [],
   "source": [
    "#Normalize data\n",
    "\n",
    "scaler = sk.preprocessing.StandardScaler()\n",
    "scaled_cluster = scaler.fit_transform(cluster)\n",
    "cluster_scaled = pd.DataFrame(scaled_cluster, columns=cluster.columns, index=cluster.index)"
   ]
  },
  {
   "cell_type": "code",
   "execution_count": 78,
   "metadata": {},
   "outputs": [
    {
     "data": {
      "text/html": [
       "<div>\n",
       "<style scoped>\n",
       "    .dataframe tbody tr th:only-of-type {\n",
       "        vertical-align: middle;\n",
       "    }\n",
       "\n",
       "    .dataframe tbody tr th {\n",
       "        vertical-align: top;\n",
       "    }\n",
       "\n",
       "    .dataframe thead th {\n",
       "        text-align: right;\n",
       "    }\n",
       "</style>\n",
       "<table border=\"1\" class=\"dataframe\">\n",
       "  <thead>\n",
       "    <tr style=\"text-align: right;\">\n",
       "      <th></th>\n",
       "      <th>num_unique_addr_in</th>\n",
       "      <th>input_val</th>\n",
       "      <th>num_unique_addr_out</th>\n",
       "      <th>ratio</th>\n",
       "      <th>degree</th>\n",
       "    </tr>\n",
       "    <tr>\n",
       "      <th>id_t</th>\n",
       "      <th></th>\n",
       "      <th></th>\n",
       "      <th></th>\n",
       "      <th></th>\n",
       "      <th></th>\n",
       "    </tr>\n",
       "  </thead>\n",
       "  <tbody>\n",
       "    <tr>\n",
       "      <th>113000164</th>\n",
       "      <td>-0.350696</td>\n",
       "      <td>-0.182966</td>\n",
       "      <td>-0.466723</td>\n",
       "      <td>-0.177293</td>\n",
       "      <td>-0.494307</td>\n",
       "    </tr>\n",
       "    <tr>\n",
       "      <th>113000165</th>\n",
       "      <td>-0.350696</td>\n",
       "      <td>-0.143984</td>\n",
       "      <td>-0.117934</td>\n",
       "      <td>-0.025747</td>\n",
       "      <td>-0.039946</td>\n",
       "    </tr>\n",
       "    <tr>\n",
       "      <th>113000166</th>\n",
       "      <td>-0.350696</td>\n",
       "      <td>-0.174067</td>\n",
       "      <td>-0.466723</td>\n",
       "      <td>-0.177293</td>\n",
       "      <td>-0.494307</td>\n",
       "    </tr>\n",
       "    <tr>\n",
       "      <th>113000167</th>\n",
       "      <td>-0.350696</td>\n",
       "      <td>-0.183267</td>\n",
       "      <td>-0.466723</td>\n",
       "      <td>-0.177293</td>\n",
       "      <td>-0.494307</td>\n",
       "    </tr>\n",
       "    <tr>\n",
       "      <th>113000168</th>\n",
       "      <td>-0.350696</td>\n",
       "      <td>-0.178973</td>\n",
       "      <td>-0.466723</td>\n",
       "      <td>-0.177293</td>\n",
       "      <td>-0.494307</td>\n",
       "    </tr>\n",
       "  </tbody>\n",
       "</table>\n",
       "</div>"
      ],
      "text/plain": [
       "           num_unique_addr_in  input_val  num_unique_addr_out     ratio  \\\n",
       "id_t                                                                      \n",
       "113000164           -0.350696  -0.182966            -0.466723 -0.177293   \n",
       "113000165           -0.350696  -0.143984            -0.117934 -0.025747   \n",
       "113000166           -0.350696  -0.174067            -0.466723 -0.177293   \n",
       "113000167           -0.350696  -0.183267            -0.466723 -0.177293   \n",
       "113000168           -0.350696  -0.178973            -0.466723 -0.177293   \n",
       "\n",
       "             degree  \n",
       "id_t                 \n",
       "113000164 -0.494307  \n",
       "113000165 -0.039946  \n",
       "113000166 -0.494307  \n",
       "113000167 -0.494307  \n",
       "113000168 -0.494307  "
      ]
     },
     "execution_count": 78,
     "metadata": {},
     "output_type": "execute_result"
    }
   ],
   "source": [
    "cluster_scaled.head()"
   ]
  },
  {
   "cell_type": "code",
   "execution_count": 82,
   "metadata": {},
   "outputs": [
    {
     "data": {
      "text/plain": [
       "<matplotlib.axes._subplots.AxesSubplot at 0x1a1857e2d0>"
      ]
     },
     "execution_count": 82,
     "metadata": {},
     "output_type": "execute_result"
    },
    {
     "data": {
      "image/png": "[encoded data removed]",
      "text/plain": [
       "<Figure size 432x288 with 2 Axes>"
      ]
     },
     "metadata": {},
     "output_type": "display_data"
    }
   ],
   "source": [
    "data_corr = cluster_scaled.corr()\n",
    "\n",
    "import seaborn as sb ##includes convenient heatmaps and boxplots\n",
    "sb.heatmap(data_corr, cmap = 'bwr') #heatmap of correlation matrix"
   ]
  },
  {
   "cell_type": "code",
   "execution_count": 83,
   "metadata": {},
   "outputs": [],
   "source": [
    "#split data into train and test sets\n",
    "clus_train, clus_test = sk.model_selection.train_test_split(cluster_scaled, test_size=0.3, random_state=123)"
   ]
  },
  {
   "cell_type": "code",
   "execution_count": 84,
   "metadata": {},
   "outputs": [
    {
     "data": {
      "text/plain": [
       "Text(0.5,1,'Selecting k with the Elbow Method')"
      ]
     },
     "execution_count": 84,
     "metadata": {},
     "output_type": "execute_result"
    },
    {
     "data": {
      "image/png": "[encoded data removed]",
      "text/plain": [
       "<Figure size 432x288 with 1 Axes>"
      ]
     },
     "metadata": {},
     "output_type": "display_data"
    }
   ],
   "source": [
    "import scipy as sp\n",
    "\n",
    "clusters = range(1,10)\n",
    "meandist=[]\n",
    "\n",
    "for k in clusters:\n",
    "    model = sk.cluster.KMeans(n_clusters = k)\n",
    "    model.fit(clus_train)\n",
    "    clusassign=model.predict(clus_train)\n",
    "    meandist.append(sum(np.min(sp.spatial.distance.cdist(clus_train,model.cluster_centers_,'euclidean'),axis=1))/clus_train.shape[0])\n",
    "    \n",
    "plt.plot(clusters, meandist)\n",
    "plt.xlabel('Number of clusters')\n",
    "plt.ylabel('Average distance')\n",
    "plt.title('Selecting k with the Elbow Method')\n",
    "\n"
   ]
  },
  {
   "cell_type": "markdown",
   "metadata": {},
   "source": [
    "# Evaluating K Means clustering performance using elbow method"
   ]
  },
  {
   "cell_type": "code",
   "execution_count": null,
   "metadata": {},
   "outputs": [],
   "source": [
    "from sklearn.cluster import KMeans\n",
    "\n",
    "\n",
    "# Convert DataFrame to matrix\n",
    "mat = cluster_scaled.values\n",
    "distorsions = []\n",
    "x = range(2, 20)\n",
    "for k in x:\n",
    "    #Perform K Means\n",
    "    kmeans = sk.cluster.KMeans(n_clusters=k)\n",
    "    kmeans.fit(mat)\n",
    "    distorsions.append(kmeans.inertia_)\n",
    "\n",
    "fig = plt.figure(figsize=(15, 5))\n",
    "plt.plot(x, distorsions)\n",
    "plt.grid(True)\n",
    "plt.title('Elbow curve')\n",
    "plt.show\n",
    "plt.xticks(x)"
   ]
  },
  {
   "cell_type": "markdown",
   "metadata": {},
   "source": [
    "# Run K Means and assign centroids to transactions"
   ]
  },
  {
   "cell_type": "code",
   "execution_count": null,
   "metadata": {},
   "outputs": [],
   "source": [
    "# Using sklearn\n",
    "km = sk.cluster.KMeans(n_clusters=5)\n",
    "km.fit(mat)\n",
    "# Get cluster assignment labels\n",
    "labels = km.labels_\n",
    "# Format results as a DataFrame\n",
    "data = {'transaction_id':cluster_scaled.index,'cluster_label':labels}\n",
    "results = pd.DataFrame(data)"
   ]
  },
  {
   "cell_type": "code",
   "execution_count": null,
   "metadata": {},
   "outputs": [],
   "source": [
    "results.info()"
   ]
  },
  {
   "cell_type": "code",
   "execution_count": null,
   "metadata": {},
   "outputs": [],
   "source": [
    "results.head()"
   ]
  },
  {
   "cell_type": "markdown",
   "metadata": {},
   "source": [
    "# Trying to visualize K Means"
   ]
  },
  {
   "cell_type": "code",
   "execution_count": null,
   "metadata": {},
   "outputs": [],
   "source": [
    "import pylab as pl\n",
    "\n",
    "pca = sk.decomposition.PCA(n_components=2).fit(mat)\n",
    "pca_2d = pca.transform(mat)\n",
    "pl.figure('Reference Plot')\n",
    "pl.scatter(pca_2d[:, 0], pca_2d[:, 1])\n",
    "\n",
    "km = sk.cluster.KMeans(n_clusters=4)\n",
    "km.fit(mat)\n",
    "pl.figure('K-means with 4 clusters')\n",
    "pl.scatter(pca_2d[:, 0], pca_2d[:, 1], c=kmeans.labels_)\n",
    "pl.show()\n",
    "\n"
   ]
  },
  {
   "cell_type": "code",
   "execution_count": null,
   "metadata": {},
   "outputs": [],
   "source": [
    "from sklearn.manifold import TSNE\n",
    "\n",
    "mat_tsne = TSNE(n_components=2).fit_transform(mat)"
   ]
  },
  {
   "cell_type": "markdown",
   "metadata": {},
   "source": [
    "# Finding users by using heuristic measures"
   ]
  },
  {
   "cell_type": "code",
   "execution_count": null,
   "metadata": {},
   "outputs": [],
   "source": [
    "from collections import defaultdict\n",
    "\n",
    "users_dict = defaultdict(lambda: {'iadr': set(), 'oadr': set()})\n",
    "address_dict = defaultdict(lambda: {'user':set()})"
   ]
  },
  {
   "cell_type": "code",
   "execution_count": null,
   "metadata": {},
   "outputs": [],
   "source": [
    "iadr = (\n",
    "    df.groupby('id_t')\n",
    "    .agg({\n",
    "        'iadr': 'nunique't    \n",
    "    })\n",
    ")\n",
    "\n",
    "# users_dict = {user: iadr, oadr for (user, iadr, oadr) in df['id_']}\n",
    "\n",
    "df.head()"
   ]
  },
  {
   "cell_type": "code",
   "execution_count": null,
   "metadata": {},
   "outputs": [],
   "source": [
    "iadrs_to_trans_ids = {\n",
    "    1: [7, 8],\n",
    "    2: [7, 9]\n",
    "}\n",
    "\n",
    "trans_ids_to_iadrs = {\n",
    "    7: [1, 2],\n",
    "    8: [1],\n",
    "    9: [2]\n",
    "}\n",
    "\n",
    "to_inv = [1]\n",
    "while to_inv:\n",
    "    for id_t in iadrs_to_trans_ids[to_inv.pop()]:\n",
    "        to_inv = trans_ids_to_iadrs[id_t]\n",
    "        print(to_inv)\n"
   ]
  },
  {
   "cell_type": "code",
   "execution_count": null,
   "metadata": {},
   "outputs": [],
   "source": [
    "u = 123\n",
    "inputs = [1,2,3,4,5]\n",
    "outputs = [3,4,5,6]\n",
    "\n",
    "users_dict[u]['in_adr'].update(set(inputs))\n",
    "users_dict[u]['out_adr'].update(set(outputs))"
   ]
  },
  {
   "cell_type": "code",
   "execution_count": 85,
   "metadata": {},
   "outputs": [
    {
     "data": {
      "text/html": [
       "<div>\n",
       "<style scoped>\n",
       "    .dataframe tbody tr th:only-of-type {\n",
       "        vertical-align: middle;\n",
       "    }\n",
       "\n",
       "    .dataframe tbody tr th {\n",
       "        vertical-align: top;\n",
       "    }\n",
       "\n",
       "    .dataframe thead th {\n",
       "        text-align: right;\n",
       "    }\n",
       "</style>\n",
       "<table border=\"1\" class=\"dataframe\">\n",
       "  <thead>\n",
       "    <tr style=\"text-align: right;\">\n",
       "      <th></th>\n",
       "      <th>iadr</th>\n",
       "      <th>id_t</th>\n",
       "      <th>id_txi</th>\n",
       "      <th>id_txo_in</th>\n",
       "      <th>id_txo_out</th>\n",
       "      <th>input_val</th>\n",
       "      <th>oadr</th>\n",
       "      <th>output_val</th>\n",
       "    </tr>\n",
       "  </thead>\n",
       "  <tbody>\n",
       "    <tr>\n",
       "      <th>0</th>\n",
       "      <td>1N8GuEfDx4yUn58uQtTghFkhahknqJjsuM</td>\n",
       "      <td>113001822</td>\n",
       "      <td>449169903</td>\n",
       "      <td>876434800</td>\n",
       "      <td>876895800</td>\n",
       "      <td>2.32804</td>\n",
       "      <td>12FNes2xBtNGJBAeVKkKeo363XxK3EcG8r</td>\n",
       "      <td>9.38549</td>\n",
       "    </tr>\n",
       "    <tr>\n",
       "      <th>1</th>\n",
       "      <td>1Bo4qMkRnxCNhCudGLQiS2PCeaYVRgna3x</td>\n",
       "      <td>113001822</td>\n",
       "      <td>449169902</td>\n",
       "      <td>876435041</td>\n",
       "      <td>876895800</td>\n",
       "      <td>2.29546</td>\n",
       "      <td>12FNes2xBtNGJBAeVKkKeo363XxK3EcG8r</td>\n",
       "      <td>9.38549</td>\n",
       "    </tr>\n",
       "    <tr>\n",
       "      <th>2</th>\n",
       "      <td>1MH4qxb8FjuzzMNq7RT8AGwowJLtNmwywe</td>\n",
       "      <td>113001822</td>\n",
       "      <td>449169901</td>\n",
       "      <td>876433818</td>\n",
       "      <td>876895800</td>\n",
       "      <td>1.31917</td>\n",
       "      <td>12FNes2xBtNGJBAeVKkKeo363XxK3EcG8r</td>\n",
       "      <td>9.38549</td>\n",
       "    </tr>\n",
       "    <tr>\n",
       "      <th>3</th>\n",
       "      <td>13oh25pY9GuN4aBQGeoYwcfBMQY1YCwu5s</td>\n",
       "      <td>113001822</td>\n",
       "      <td>449169900</td>\n",
       "      <td>876433463</td>\n",
       "      <td>876895800</td>\n",
       "      <td>1.25242</td>\n",
       "      <td>12FNes2xBtNGJBAeVKkKeo363XxK3EcG8r</td>\n",
       "      <td>9.38549</td>\n",
       "    </tr>\n",
       "    <tr>\n",
       "      <th>4</th>\n",
       "      <td>19pKKg6mRS2VsLy9qfzuGAHXTUukQvVrTT</td>\n",
       "      <td>113001822</td>\n",
       "      <td>449169899</td>\n",
       "      <td>876434908</td>\n",
       "      <td>876895800</td>\n",
       "      <td>1.20560</td>\n",
       "      <td>12FNes2xBtNGJBAeVKkKeo363XxK3EcG8r</td>\n",
       "      <td>9.38549</td>\n",
       "    </tr>\n",
       "  </tbody>\n",
       "</table>\n",
       "</div>"
      ],
      "text/plain": [
       "                                 iadr       id_t     id_txi  id_txo_in  \\\n",
       "0  1N8GuEfDx4yUn58uQtTghFkhahknqJjsuM  113001822  449169903  876434800   \n",
       "1  1Bo4qMkRnxCNhCudGLQiS2PCeaYVRgna3x  113001822  449169902  876435041   \n",
       "2  1MH4qxb8FjuzzMNq7RT8AGwowJLtNmwywe  113001822  449169901  876433818   \n",
       "3  13oh25pY9GuN4aBQGeoYwcfBMQY1YCwu5s  113001822  449169900  876433463   \n",
       "4  19pKKg6mRS2VsLy9qfzuGAHXTUukQvVrTT  113001822  449169899  876434908   \n",
       "\n",
       "   id_txo_out  input_val                                oadr  output_val  \n",
       "0   876895800    2.32804  12FNes2xBtNGJBAeVKkKeo363XxK3EcG8r     9.38549  \n",
       "1   876895800    2.29546  12FNes2xBtNGJBAeVKkKeo363XxK3EcG8r     9.38549  \n",
       "2   876895800    1.31917  12FNes2xBtNGJBAeVKkKeo363XxK3EcG8r     9.38549  \n",
       "3   876895800    1.25242  12FNes2xBtNGJBAeVKkKeo363XxK3EcG8r     9.38549  \n",
       "4   876895800    1.20560  12FNes2xBtNGJBAeVKkKeo363XxK3EcG8r     9.38549  "
      ]
     },
     "execution_count": 85,
     "metadata": {},
     "output_type": "execute_result"
    }
   ],
   "source": [
    "df.head()"
   ]
  },
  {
   "cell_type": "code",
   "execution_count": 94,
   "metadata": {},
   "outputs": [],
   "source": [
    "def iadrs_from_tx(id_t):\n",
    "    return set(df['iadr'][df[\"id_t\"] == id_t])\n",
    "\n",
    "def tx_from_iadr(iadr):\n",
    "    return set(df['id_t'][df[\"iadr\"] == iadr])"
   ]
  },
  {
   "cell_type": "code",
   "execution_count": 95,
   "metadata": {},
   "outputs": [
    {
     "name": "stdout",
     "output_type": "stream",
     "text": [
      "('current iadr:', '1N8GuEfDx4yUn58uQtTghFkhahknqJjsuM')\n",
      "('\\ttx:', 113001822)\n",
      "('\\t\\tiadr:', u'1MH4qxb8FjuzzMNq7RT8AGwowJLtNmwywe')\n",
      "\t\tNot in user\n",
      "('\\t\\tuser:', set(['1N8GuEfDx4yUn58uQtTghFkhahknqJjsuM', u'1MH4qxb8FjuzzMNq7RT8AGwowJLtNmwywe']))\n",
      "('\\t\\tiadr:', u'1Ciq3c9wcsxB3YyVdTRDhDEGH9TVGTkhod')\n",
      "\t\tNot in user\n",
      "('\\t\\tuser:', set(['1N8GuEfDx4yUn58uQtTghFkhahknqJjsuM', u'1MH4qxb8FjuzzMNq7RT8AGwowJLtNmwywe', u'1Ciq3c9wcsxB3YyVdTRDhDEGH9TVGTkhod']))\n",
      "('\\t\\tiadr:', u'1Bo4qMkRnxCNhCudGLQiS2PCeaYVRgna3x')\n",
      "\t\tNot in user\n",
      "('\\t\\tuser:', set(['1N8GuEfDx4yUn58uQtTghFkhahknqJjsuM', u'1Bo4qMkRnxCNhCudGLQiS2PCeaYVRgna3x', u'1MH4qxb8FjuzzMNq7RT8AGwowJLtNmwywe', u'1Ciq3c9wcsxB3YyVdTRDhDEGH9TVGTkhod']))\n",
      "('\\t\\tiadr:', u'19pKKg6mRS2VsLy9qfzuGAHXTUukQvVrTT')\n",
      "\t\tNot in user\n",
      "('\\t\\tuser:', set(['1N8GuEfDx4yUn58uQtTghFkhahknqJjsuM', u'19pKKg6mRS2VsLy9qfzuGAHXTUukQvVrTT', u'1Bo4qMkRnxCNhCudGLQiS2PCeaYVRgna3x', u'1MH4qxb8FjuzzMNq7RT8AGwowJLtNmwywe', u'1Ciq3c9wcsxB3YyVdTRDhDEGH9TVGTkhod']))\n",
      "('\\t\\tiadr:', u'13oh25pY9GuN4aBQGeoYwcfBMQY1YCwu5s')\n",
      "\t\tNot in user\n",
      "('\\t\\tuser:', set([u'1MH4qxb8FjuzzMNq7RT8AGwowJLtNmwywe', u'1Ciq3c9wcsxB3YyVdTRDhDEGH9TVGTkhod', u'1Bo4qMkRnxCNhCudGLQiS2PCeaYVRgna3x', u'19pKKg6mRS2VsLy9qfzuGAHXTUukQvVrTT', u'13oh25pY9GuN4aBQGeoYwcfBMQY1YCwu5s', '1N8GuEfDx4yUn58uQtTghFkhahknqJjsuM']))\n",
      "('\\t\\tiadr:', u'1N8GuEfDx4yUn58uQtTghFkhahknqJjsuM')\n",
      "('current iadr:', u'1MH4qxb8FjuzzMNq7RT8AGwowJLtNmwywe')\n",
      "('\\ttx:', 113001822)\n",
      "('\\t\\tiadr:', u'1MH4qxb8FjuzzMNq7RT8AGwowJLtNmwywe')\n",
      "('\\t\\tiadr:', u'1Ciq3c9wcsxB3YyVdTRDhDEGH9TVGTkhod')\n",
      "('\\t\\tiadr:', u'1Bo4qMkRnxCNhCudGLQiS2PCeaYVRgna3x')\n",
      "('\\t\\tiadr:', u'19pKKg6mRS2VsLy9qfzuGAHXTUukQvVrTT')\n",
      "('\\t\\tiadr:', u'13oh25pY9GuN4aBQGeoYwcfBMQY1YCwu5s')\n",
      "('\\t\\tiadr:', u'1N8GuEfDx4yUn58uQtTghFkhahknqJjsuM')\n",
      "('current iadr:', u'1Ciq3c9wcsxB3YyVdTRDhDEGH9TVGTkhod')\n",
      "('\\ttx:', 113001822)\n",
      "('\\t\\tiadr:', u'1MH4qxb8FjuzzMNq7RT8AGwowJLtNmwywe')\n",
      "('\\t\\tiadr:', u'1Ciq3c9wcsxB3YyVdTRDhDEGH9TVGTkhod')\n",
      "('\\t\\tiadr:', u'1Bo4qMkRnxCNhCudGLQiS2PCeaYVRgna3x')\n",
      "('\\t\\tiadr:', u'19pKKg6mRS2VsLy9qfzuGAHXTUukQvVrTT')\n",
      "('\\t\\tiadr:', u'13oh25pY9GuN4aBQGeoYwcfBMQY1YCwu5s')\n",
      "('\\t\\tiadr:', u'1N8GuEfDx4yUn58uQtTghFkhahknqJjsuM')\n",
      "('current iadr:', u'1Bo4qMkRnxCNhCudGLQiS2PCeaYVRgna3x')\n",
      "('\\ttx:', 113001822)\n",
      "('\\t\\tiadr:', u'1MH4qxb8FjuzzMNq7RT8AGwowJLtNmwywe')\n",
      "('\\t\\tiadr:', u'1Ciq3c9wcsxB3YyVdTRDhDEGH9TVGTkhod')\n",
      "('\\t\\tiadr:', u'1Bo4qMkRnxCNhCudGLQiS2PCeaYVRgna3x')\n",
      "('\\t\\tiadr:', u'19pKKg6mRS2VsLy9qfzuGAHXTUukQvVrTT')\n",
      "('\\t\\tiadr:', u'13oh25pY9GuN4aBQGeoYwcfBMQY1YCwu5s')\n",
      "('\\t\\tiadr:', u'1N8GuEfDx4yUn58uQtTghFkhahknqJjsuM')\n",
      "('current iadr:', u'19pKKg6mRS2VsLy9qfzuGAHXTUukQvVrTT')\n",
      "('\\ttx:', 113001822)\n",
      "('\\t\\tiadr:', u'1MH4qxb8FjuzzMNq7RT8AGwowJLtNmwywe')\n",
      "('\\t\\tiadr:', u'1Ciq3c9wcsxB3YyVdTRDhDEGH9TVGTkhod')\n",
      "('\\t\\tiadr:', u'1Bo4qMkRnxCNhCudGLQiS2PCeaYVRgna3x')\n",
      "('\\t\\tiadr:', u'19pKKg6mRS2VsLy9qfzuGAHXTUukQvVrTT')\n",
      "('\\t\\tiadr:', u'13oh25pY9GuN4aBQGeoYwcfBMQY1YCwu5s')\n",
      "('\\t\\tiadr:', u'1N8GuEfDx4yUn58uQtTghFkhahknqJjsuM')\n",
      "('current iadr:', u'13oh25pY9GuN4aBQGeoYwcfBMQY1YCwu5s')\n",
      "('\\ttx:', 113001822)\n",
      "('\\t\\tiadr:', u'1MH4qxb8FjuzzMNq7RT8AGwowJLtNmwywe')\n",
      "('\\t\\tiadr:', u'1Ciq3c9wcsxB3YyVdTRDhDEGH9TVGTkhod')\n",
      "('\\t\\tiadr:', u'1Bo4qMkRnxCNhCudGLQiS2PCeaYVRgna3x')\n",
      "('\\t\\tiadr:', u'19pKKg6mRS2VsLy9qfzuGAHXTUukQvVrTT')\n",
      "('\\t\\tiadr:', u'13oh25pY9GuN4aBQGeoYwcfBMQY1YCwu5s')\n",
      "('\\t\\tiadr:', u'1N8GuEfDx4yUn58uQtTghFkhahknqJjsuM')\n"
     ]
    }
   ],
   "source": [
    "to_inv = ['1N8GuEfDx4yUn58uQtTghFkhahknqJjsuM']\n",
    "user_iadrs = set()\n",
    "while to_inv:\n",
    "    current_iadr = to_inv.pop(0)\n",
    "    print('current iadr:', current_iadr)\n",
    "    user_iadrs.add(current_iadr)\n",
    "    for id_t in tx_from_iadr(current_iadr):\n",
    "        print('\\ttx:', id_t)\n",
    "        for iadr in iadrs_from_tx(id_t):\n",
    "            print('\\t\\tiadr:', iadr)\n",
    "            if iadr not in user_iadrs:\n",
    "                print('\\t\\tNot in user')\n",
    "                user_iadrs.add(iadr)\n",
    "                to_inv.append(iadr)\n",
    "                print('\\t\\tuser:', user_iadrs)\n"
   ]
  },
  {
   "cell_type": "code",
   "execution_count": 92,
   "metadata": {},
   "outputs": [
    {
     "data": {
      "text/plain": [
       "{'1N8GuEfDx4yUn58uQtTghFkhahknqJjsuM'}"
      ]
     },
     "execution_count": 92,
     "metadata": {},
     "output_type": "execute_result"
    }
   ],
   "source": [
    "user_iadrs"
   ]
  },
  {
   "cell_type": "markdown",
   "metadata": {},
   "source": [
    "# Determining statistics of inputs, outputs of a transaction"
   ]
  },
  {
   "cell_type": "code",
   "execution_count": null,
   "metadata": {},
   "outputs": [],
   "source": [
    "tx_ids = []\n",
    "tx_id_val = []\n",
    "txo_in_ids = []\n",
    "txo_out_ids = []\n",
    "iadr = []\n",
    "oadr = []\n",
    "txi_ids = []\n",
    "\n",
    "\n",
    "for val in df.iadr.value_counts().iteritems():\n",
    "    iadr.append(val[0])\n",
    "\n",
    "for val in df.id_txi.value_counts().iteritems():\n",
    "    txi_ids.append(val[0])\n",
    "    \n",
    "    \n",
    "for val in df.oadr.value_counts().iteritems():\n",
    "    oadr.append(val[0])\n",
    "    \n",
    "for val in df.id_t.value_counts().iteritems():\n",
    "    tx_ids.append(val[0])\n",
    "    data = df[df.id_t==val[0]]\n",
    "    tx_id_val.append(data.output_val.sum())\n",
    "    \n",
    "\n",
    "for val in df.id_txo_in.value_counts().iteritems():\n",
    "    txo_in_ids.append(val[0])\n",
    "    \n",
    "for val in df.id_txo_out.value_counts().iteritems():\n",
    "    txo_out_ids.append(val[0])\n"
   ]
  },
  {
   "cell_type": "code",
   "execution_count": null,
   "metadata": {},
   "outputs": [],
   "source": [
    "print(len(txo_in_ids))\n",
    "print(len(txi_ids))\n",
    "print(len(tx_ids))\n",
    "print(len(txo_out_ids))"
   ]
  },
  {
   "cell_type": "code",
   "execution_count": null,
   "metadata": {},
   "outputs": [],
   "source": [
    "matches = set(txo_in_ids).intersection(txo_out_ids)\n",
    "print(len(matches))"
   ]
  },
  {
   "cell_type": "code",
   "execution_count": null,
   "metadata": {},
   "outputs": [],
   "source": [
    "print(len(iadr))\n",
    "print(len(oadr))"
   ]
  },
  {
   "cell_type": "code",
   "execution_count": null,
   "metadata": {},
   "outputs": [],
   "source": [
    "matches = set(iadr).intersection(oadr)\n",
    "len(matches)"
   ]
  },
  {
   "cell_type": "markdown",
   "metadata": {},
   "source": [
    "# Visualising the database using iGraph\n"
   ]
  },
  {
   "cell_type": "code",
   "execution_count": null,
   "metadata": {},
   "outputs": [],
   "source": [
    "import igraph\n",
    "import matplotlib.pyplot as plt\n",
    "import networkx as nx"
   ]
  },
  {
   "cell_type": "code",
   "execution_count": null,
   "metadata": {},
   "outputs": [],
   "source": [
    "result = query_database(get_block_data(400000,400000))\n",
    "\n",
    "tups1 = []\n",
    "tups2 = []\n",
    "for d in result:\n",
    "    tups1.append((d['id_txo_in'],d['id_t']))\n",
    "    tups2.append((d['id_t'],d['id_txo_out']))\n"
   ]
  },
  {
   "cell_type": "code",
   "execution_count": null,
   "metadata": {},
   "outputs": [],
   "source": [
    "result.get_graph()"
   ]
  },
  {
   "cell_type": "code",
   "execution_count": null,
   "metadata": {},
   "outputs": [],
   "source": [
    "ig = igraph.Graph.TupleList(tups1)\n",
    "\n",
    "visual_style = {}\n",
    "visual_style[\"vertex_size\"] = 0.5\n",
    "visual_style[\"layout\"] = \"fr\"\n",
    "\n",
    "igraph.plot(ig,**visual_style)"
   ]
  },
  {
   "cell_type": "code",
   "execution_count": null,
   "metadata": {},
   "outputs": [],
   "source": [
    "ig.vcount()"
   ]
  },
  {
   "cell_type": "code",
   "execution_count": null,
   "metadata": {},
   "outputs": [],
   "source": [
    "ig2 = igraph.Graph.TupleList(tups2, vertex_name_attr = 'tx')\n",
    "g.vs['out'] = \n",
    "igraph.plot(ig2,**visual_style)"
   ]
  },
  {
   "cell_type": "code",
   "execution_count": null,
   "metadata": {},
   "outputs": [],
   "source": [
    "g = igraph.Graph()"
   ]
  },
  {
   "cell_type": "code",
   "execution_count": null,
   "metadata": {},
   "outputs": [],
   "source": [
    "g.add_edge('A','B',weight = 20)\n"
   ]
  },
  {
   "cell_type": "code",
   "execution_count": null,
   "metadata": {},
   "outputs": [],
   "source": [
    "#Insert Transactions and value of each transaction into graph\n",
    "\n",
    "g.add_vertices(txo_out_ids)\n",
    "\n",
    "\n",
    "\n"
   ]
  },
  {
   "cell_type": "code",
   "execution_count": null,
   "metadata": {},
   "outputs": [],
   "source": [
    "g.add_vertices(txo_in_ids)"
   ]
  },
  {
   "cell_type": "code",
   "execution_count": null,
   "metadata": {},
   "outputs": [],
   "source": [
    "len(txo_out_ids)"
   ]
  },
  {
   "cell_type": "code",
   "execution_count": null,
   "metadata": {},
   "outputs": [],
   "source": [
    "len(tx_ids)"
   ]
  },
  {
   "cell_type": "code",
   "execution_count": null,
   "metadata": {},
   "outputs": [],
   "source": [
    "len(txo_in_ids)"
   ]
  },
  {
   "cell_type": "code",
   "execution_count": null,
   "metadata": {},
   "outputs": [],
   "source": [
    "g.vcount()"
   ]
  },
  {
   "cell_type": "code",
   "execution_count": null,
   "metadata": {},
   "outputs": [],
   "source": [
    "g.vs[3]"
   ]
  },
  {
   "cell_type": "code",
   "execution_count": null,
   "metadata": {},
   "outputs": [],
   "source": [
    "#Insert tx inputs into graph\n",
    "g.add_vertices(txo_in_ids)\n",
    "g.vs[\"type\"] = 'in'\n",
    "g.vs[\"in_ids\"] = txo_in_ids\n",
    "try:\n",
    "    del g.vs[\"name\"]\n",
    "except Exception: \n",
    "  pass    "
   ]
  },
  {
   "cell_type": "code",
   "execution_count": null,
   "metadata": {},
   "outputs": [],
   "source": [
    "#Insert tx outputs into graph\n",
    "g.add_vertices(txo_out_ids)\n",
    "g.vs[\"type\"] = 'out'\n",
    "g.vs[\"out_ids\"] = txo_out_ids\n",
    "try:\n",
    "    del g.vs[\"name\"]\n",
    "except Exception: \n",
    "  pass    "
   ]
  },
  {
   "cell_type": "code",
   "execution_count": null,
   "metadata": {},
   "outputs": [],
   "source": [
    "color_dict = {\"tx\": \"green\", \"in\": \"orange\", \"out\":'blue'}"
   ]
  },
  {
   "cell_type": "code",
   "execution_count": null,
   "metadata": {},
   "outputs": [],
   "source": [
    "visual_style = {}\n",
    "visual_style[\"vertex_size\"] = 2\n",
    "visual_style[\"layout\"] = \"fr\"\n",
    "visual_style[\"vertex_color\"] = [color_dict[type] for type in g.vs[\"type\"]]"
   ]
  },
  {
   "cell_type": "code",
   "execution_count": null,
   "metadata": {},
   "outputs": [],
   "source": [
    "igraph.plot(g, **visual_style)"
   ]
  },
  {
   "cell_type": "code",
   "execution_count": null,
   "metadata": {},
   "outputs": [],
   "source": [
    "tx_id = []\n",
    "for i in df.index():\n",
    "    edge = (df.ix[i, 'name1'], df.ix[i, 'name2'])\n",
    "    if edge not in edgelist:\n",
    "        edgelist.append(edge)\n",
    "        weights.append(1)\n",
    "    else:\n",
    "        weights[edgelist.index(edge)] += 1\n",
    "\n",
    "G = Graph()\n",
    "G.add_edges(edgelist)\n",
    "G.es['weight'] = weights"
   ]
  }
 ],
 "metadata": {
  "kernelspec": {
   "display_name": "Python 2",
   "language": "python",
   "name": "python2"
  },
  "language_info": {
   "codemirror_mode": {
    "name": "ipython",
    "version": 2
   },
   "file_extension": ".py",
   "mimetype": "text/x-python",
   "name": "python",
   "nbconvert_exporter": "python",
   "pygments_lexer": "ipython2",
   "version": "2.7.15"
  }
 },
 "nbformat": 4,
 "nbformat_minor": 2
}
