{
 "cells": [
  {
   "cell_type": "code",
   "execution_count": 8,
   "metadata": {},
   "outputs": [],
   "source": [
    "import pandas as pd \n",
    "import numpy as np\n",
    "import sklearn.preprocessing\n",
    "import sklearn.decomposition\n",
    "import sklearn.model_selection\n",
    "import sklearn.cluster\n",
    "\n",
    "from matplotlib import pyplot as plt\n",
    "import py2neo\n",
    "import seaborn as sb ##includes convenient heatmaps and boxplots\n",
    "import scipy as sp\n",
    "import pylab as pl\n",
    "\n",
    "import urllib3\n",
    "urllib3.disable_warnings(urllib3.exceptions.InsecureRequestWarning)"
   ]
  },
  {
   "cell_type": "markdown",
   "metadata": {},
   "source": [
    "# Query Database"
   ]
  },
  {
   "cell_type": "code",
   "execution_count": 9,
   "metadata": {},
   "outputs": [],
   "source": [
    "def query_database(query):\n",
    "    # REMEMBER TO BE CONNECTED TO IMPERIAL WIFI!\n",
    "    graph_db = py2neo.Graph(\"https://dsi-bitcoin.doc.ic.ac.uk:7473/db/data/\", auth=(\"guest_ro\", \"imperialO_nly\"))\n",
    "    return graph_db.run(query)\n",
    "\n",
    "def get_block_data(first_block, last_block):\n",
    "    query_string = \"\"\"\n",
    "                    MATCH (b:Block) <-[:MINED_IN]- (t:Tx) <-[:IN]- (txi:TxIn) <-[:UNLOCK]- (iadr:Address)\n",
    "                    WHERE b.height >= {} AND b.height <= {}\n",
    "                    MATCH (txi) <-[:SPENT]- (txo_in:TxOut) \n",
    "                    MATCH (oadr:Address) <-[:LOCK]- (txo_out:TxOut) <-[:OUT]- (t)\n",
    "                    \n",
    "                    RETURN iadr.address as iadr, oadr.address as oadr, txo_in.value as input_val, txo_out.value as output_val, ID(txo_in) as id_txo_in, ID(txi) as id_txi, ID(t) as id_t, ID(txo_out) as id_txo_out\n",
    "                    \"\"\".format(first_block, last_block)\n",
    "    return query_string\n",
    "\n",
    "def write_to_csv(result,string):\n",
    "\n",
    "    df = result.to_data_frame()\n",
    "\n",
    "    if (df.empty):\n",
    "        print(\"Something went wrong, there is no data for this/these blocks\")\n",
    "    else:\n",
    "        df.to_csv('{}.csv'.format(string), encoding='utf-8', index=False)\n",
    "\n",
    "def seen_before1(block, adr):\n",
    "    params = {'block':block,'adr':adr}\n",
    "    query_string = \"\"\"\n",
    "                    MATCH (a:Address) <-[:LOCK]- (to:TxOut) <-[:OUT]- (t1:Tx)-[:MINED_IN]->(b1:Block)\n",
    "                    WHERE a.address = \"{adr}\" AND b1.height<{block}\n",
    "                    RETURN b1.height LIMIT 1\n",
    "                    \"\"\".format(**params)\n",
    "    \n",
    "    data_fr = query_database(query_string).to_data_frame()\n",
    "    if data_fr.empty:\n",
    "        return False\n",
    "    return True\n",
    "\n",
    "def seen_before2(block, adr):\n",
    "    params = {'block':block,'adr':adr}\n",
    "    query_string = \"\"\"\n",
    "                    MATCH (a:Address) -[:UNLOCK]-> (ti:TxIn) -[:IN]-> (t2:Tx)-[:MINED_IN]->(b2:Block)\n",
    "                    WHERE a.address = \"{adr}\" AND b2.height<{block}\n",
    "                    RETURN b2.height LIMIT 1\n",
    "                    \"\"\".format(**params)\n",
    "    \n",
    "    data_fr = query_database(query_string).to_data_frame()\n",
    "    if data_fr.empty:\n",
    "        return False\n",
    "\n",
    "    return True\n",
    "\n"
   ]
  },
  {
   "cell_type": "code",
   "execution_count": 10,
   "metadata": {},
   "outputs": [],
   "source": [
    "result = query_database(get_block_data(400000,400000))\n",
    "df = result.to_data_frame()"
   ]
  },
  {
   "cell_type": "code",
   "execution_count": 11,
   "metadata": {},
   "outputs": [
    {
     "name": "stdout",
     "output_type": "stream",
     "text": [
      "False\n",
      "False\n",
      "False\n",
      "False\n",
      "False\n",
      "False\n",
      "False\n",
      "False\n"
     ]
    }
   ],
   "source": [
    "#Check if any columns are unique\n",
    "for column in df:\n",
    "    print(df[column].is_unique)"
   ]
  },
  {
   "cell_type": "code",
   "execution_count": 12,
   "metadata": {},
   "outputs": [
    {
     "name": "stdout",
     "output_type": "stream",
     "text": [
      "1Jyjib7idDMDscVLhMJvTgjxMpxYHp1Dxg    324\n",
      "16HzNspMpPedrNocntGxDTqk7cqsb3Q7ND    162\n",
      "12FNes2xBtNGJBAeVKkKeo363XxK3EcG8r    142\n",
      "1HFgq6vnpwJxvaDsz8HGA2TgjYYU8HtyBQ    121\n",
      "14Emt9LGCu1rtipPrPGtKjkjiCJkC77mqj     93\n",
      "1MzpFjuQ1UC8v9khaTxrzdt2tqqKpkRJNt     93\n",
      "1DkkDjinCkXwSMtpDHYAarF6Bfjz1eDGn8     93\n",
      "16xfUv3htkF35sK6kx9GVNiTgeXguEp847     83\n",
      "1FYVhnRVyHjsP6SXrViTmR3oExnrhtz3tX     83\n",
      "176Gfc4gdBeoWLZiUXdDzsEreE8mcw4Mq4     60\n",
      "1MENKBN8ZDQx3i1AdS6zagnGUwFyScfQpp     57\n",
      "1Hgg1utdsUVk2FRP2qNaxgcRHPJowfYLtM     57\n",
      "188z786vHfSmjoToGLhVyNLXsBuYuKVbci     56\n",
      "1158mZ1LfWVfNcF3Z368ZGi3T4gLFkXwht     50\n",
      "16ZD98wpV86njGvh6WUxxiJbx92zofF3Vx     50\n",
      "1C8Ks1fjfDDNEYrs3hJKLERA1HDnNTfLq7     47\n",
      "19xgQafJ5eU5TJQn6oqnpzoqSvLgx75bt2     47\n",
      "1AZnsXDnF2tnZTGMXym2G9ELV9Af7zmrBm     46\n",
      "1CvEJFvXxJrNzAaJa7WbBJ9ji877asMuya     41\n",
      "13bKWQN84UL22ZHKQarvmzyRP7jy7DVz7x     41\n",
      "1LuckyY9fRzcJre7aou7ZhWVXktxjjBb9S     36\n",
      "1NZjqaXMNcu7wir7QbBYnpC4DQA8BDFVcR     36\n",
      "1798F49znRhX5MJPmRYRkrB5en7DtG7SM3     34\n",
      "1DPJUgUUFby63PvP1E1aULRdoui9q4onCs     34\n",
      "17AmSb8a3JxDxG6cbq1kuAjeTseHzV8T2x     33\n",
      "1BWzUxcEBn9ZEfLxc3TCULfCN2snAQpgqL     33\n",
      "1NtHN8Tx7MSGZ3XNx5iyNSRqsmQVnb3Ab6     33\n",
      "1ETSP9C7FDVm37iWs1yTR811tDrWSviHns     33\n",
      "12oZFFh2mWxCbE8auph1uSZHzSCWixoA2i     31\n",
      "1C3dZ31vPHbV3G3HRecVe9KLZYUqBTAVpn     31\n",
      "                                     ... \n",
      "1P2FvKjwwoUdPcrBArE3hsHLs9gUqEYedg      1\n",
      "1Hi1vwKZBvJXhkS4hvsRyq5ha7x8dVdpZC      1\n",
      "1Lgq8a5Up1PpHnJfnNGPkwMnZEtxPD3GKM      1\n",
      "1FQrp6Pz3swE4E1t7iAf63gmys1bFsVr5h      1\n",
      "15L8MLVhe2hLxfvgXrSzfXUrwg1Yt7Y4uj      1\n",
      "12eLZtEW9kMGBqojEE1mqeEGtQUBhh2x1C      1\n",
      "15FbTZb8Vo43EiFVeq5vtXP6bcsDHNm1vb      1\n",
      "14q1zADGurdwTrk73eP9KZyCKpe1mW9DnP      1\n",
      "1PtYvkpS5cDmT9ZNEjXMRSQdetXwujbLTa      1\n",
      "1GvEyL84ods8VQvcZ3nyeT3aGpyrRNut8Y      1\n",
      "15MntrdbHQbvHLDBmZWVBXCT2t9HgcpCjv      1\n",
      "13JrEQGUvgjFovd1KDNQm6ccjASrR1Zzvq      1\n",
      "1C4rif9UozEds12ZVPb1JeACFz2SzoyPCP      1\n",
      "19SXqRi3NZQmEqtoj9r5mEWTrA3sxoecST      1\n",
      "19YZYwKZHMzWyaPoFG3DAgXsG5T34PMEtM      1\n",
      "13ioFNsUQX9URHsvB8TU2jFnPApBqKGSkF      1\n",
      "1HqfqMWryLtQM2YuGhdrMLDg5JSWXGRDnp      1\n",
      "1QC9LV2yFLZf4HZyzSUEzpausKJESLSiZa      1\n",
      "12QWah6VhDv69eU5qiKW9nbUqSxzoHAz4v      1\n",
      "1J6nwjfQTzmVV5cuoGfeKCPi9c2wzRZV4q      1\n",
      "1Hy5KF9CoFTG3JBB1Ync6kXRbQDzgnVhbY      1\n",
      "15djKyATDonmEm6jvz4GbTJwARjQj1NBmB      1\n",
      "138cgVKaJpHso5Vvs8hXRYnQRgw2B1gksb      1\n",
      "191EzT6ehehNtJjUiJQYsCHzPRJjSqQWGn      1\n",
      "16ZLrJtFUfTfXzfHGvp2na7KA2RWLTLMai      1\n",
      "1DYnFPShsj1J1Vbs7YaVbJLVYUpPxau1KC      1\n",
      "1HXh83KvkTLek5XutgFVarfJu7aspKnJ6G      1\n",
      "1GL8VNXPSViyGnJPoaU8tfCFbGYWZ8dVuE      1\n",
      "1D6i5DDuvAYxe3jLDouaWiMwp8L34Sk878      1\n",
      "1nQQ91ZACRHtvaonAzgZLrSr7M6Zb5gsj       1\n",
      "Name: oadr, Length: 3430, dtype: int64\n"
     ]
    }
   ],
   "source": [
    "print(df['oadr'].value_counts().sort_values(ascending=False))\n",
    "df1 = df.loc[df['iadr'] == '1BQLNJtMDKmMZ4PyqVFfRuBNvoGhjigBKF']"
   ]
  },
  {
   "cell_type": "markdown",
   "metadata": {},
   "source": [
    "# CLUSTERING"
   ]
  },
  {
   "cell_type": "code",
   "execution_count": 13,
   "metadata": {},
   "outputs": [
    {
     "data": {
      "text/plain": [
       "<matplotlib.axes._subplots.AxesSubplot at 0x118776ba8>"
      ]
     },
     "execution_count": 13,
     "metadata": {},
     "output_type": "execute_result"
    },
    {
     "data": {
      "image/png": "[encoded data removed]",
      "text/plain": [
       "<Figure size 432x288 with 2 Axes>"
      ]
     },
     "metadata": {},
     "output_type": "display_data"
    }
   ],
   "source": [
    "cluster = (\n",
    "    df.groupby('id_t')\n",
    "    .agg({\n",
    "        'input_val': 'sum',\n",
    "        'id_txi': 'nunique',\n",
    "        'id_txo_out': 'nunique',\n",
    "        'iadr': 'nunique',\n",
    "        'oadr': 'nunique',       \n",
    "    }).rename(columns = {\n",
    "        'iadr':'num_unique_addr_in',\n",
    "        'oadr':'num_unique_addr_out'\n",
    "    })\n",
    ")\n",
    "\n",
    "cluster['ratio'] = cluster['id_txi'] / cluster['id_txo_out']\n",
    "cluster['degree'] = cluster['id_txi'] + cluster['id_txo_out'] \n",
    "\n",
    "cluster = cluster.drop(columns=['id_txi', 'id_txo_out'])\n",
    "\n",
    "#Normalize data\n",
    "\n",
    "scaler = sklearn.preprocessing.StandardScaler()\n",
    "scaled_cluster = scaler.fit_transform(cluster)\n",
    "cluster_scaled = pd.DataFrame(scaled_cluster, columns=cluster.columns, index=cluster.index)\n",
    "\n",
    "\n",
    "data_corr = cluster_scaled.corr()\n",
    "sb.heatmap(data_corr, cmap = 'bwr') #heatmap of correlation matrix"
   ]
  },
  {
   "cell_type": "code",
   "execution_count": 15,
   "metadata": {},
   "outputs": [
    {
     "data": {
      "text/plain": [
       "<function matplotlib.pyplot.show(*args, **kw)>"
      ]
     },
     "execution_count": 15,
     "metadata": {},
     "output_type": "execute_result"
    },
    {
     "data": {
      "image/png": "[encoded data removed]",
      "text/plain": [
       "<Figure size 432x288 with 1 Axes>"
      ]
     },
     "metadata": {},
     "output_type": "display_data"
    }
   ],
   "source": [
    "#split data into train and test sets\n",
    "clus_train, clus_test = sklearn.model_selection.train_test_split(cluster_scaled, test_size=0.3, random_state=123)\n",
    "\n",
    "clusters = range(1,10)\n",
    "meandist=[]\n",
    "\n",
    "for k in clusters:\n",
    "    model = sklearn.cluster.KMeans(n_clusters = k)\n",
    "    model.fit(clus_train)\n",
    "    clusassign=model.predict(clus_train)\n",
    "    meandist.append(sum(np.min(sp.spatial.distance.cdist(clus_train,model.cluster_centers_,'euclidean'),axis=1))/clus_train.shape[0])\n",
    "    \n",
    "plt.scatter(clusters, meandist)\n",
    "#plt.subplot(2,1,1)\n",
    "plt.grid(True)\n",
    "plt.xlabel('Number of clusters')\n",
    "plt.ylabel('Average distance')\n",
    "plt.title('Selecting k with the Elbow Method')\n",
    "plt.show\n",
    "\n",
    "# # Convert DataFrame to matrix\n",
    "# mat = cluster_scaled.values\n",
    "# distorsions = []\n",
    "# x = range(2, 20)\n",
    "# for k in x:\n",
    "#     #Perform K Means\n",
    "#     kmeans = sk.cluster.KMeans(n_clusters=k)\n",
    "#     kmeans.fit(mat)\n",
    "#     distorsions.append(kmeans.inertia_)\n",
    "\n",
    "# fig = plt.figure(figsize=(15, 5))\n",
    "# plt.plot(x, distorsions)\n",
    "# plt.grid(True)\n",
    "# plt.title('Elbow curve')\n",
    "# plt.show\n",
    "# plt.xticks(x)"
   ]
  },
  {
   "cell_type": "code",
   "execution_count": 18,
   "metadata": {},
   "outputs": [
    {
     "data": {
      "image/png": "[encoded data removed]",
      "text/plain": [
       "<Figure size 432x288 with 1 Axes>"
      ]
     },
     "metadata": {},
     "output_type": "display_data"
    }
   ],
   "source": [
    "model = sklearn.cluster.KMeans(n_clusters = 4)\n",
    "model.fit(clus_train)\n",
    "clusassign = model.predict(clus_train)\n",
    "\n",
    "\n",
    "#Principal Component Analysis\n",
    "pca_2 = sklearn.decomposition.PCA(2)\n",
    "plot_columns = pca_2.fit_transform(clus_train)\n",
    "plt.scatter(x=plot_columns[:,0],y=plot_columns[:,1],c=model.labels_)\n",
    "plt.xlabel('Canonical variable 1')\n",
    "plt.ylabel('Canonical variable 2')\n",
    "plt.title('Scatterplot of Canonical Variables for 4 clusters')\n",
    "plt.show\n",
    "\n",
    "# Get cluster assignment labels\n",
    "labels = model.labels_\n",
    "# Format results as a DataFrame\n",
    "data = {'transaction_id':clus_train.index,'cluster_label':labels}\n",
    "results = pd.DataFrame(data)"
   ]
  },
  {
   "cell_type": "markdown",
   "metadata": {},
   "source": [
    "# Determining statistics of inputs, outputs of a transaction"
   ]
  },
  {
   "cell_type": "code",
   "execution_count": 19,
   "metadata": {},
   "outputs": [],
   "source": [
    "tx_ids = []\n",
    "tx_id_val = []\n",
    "txo_in_ids = []\n",
    "txo_out_ids = []\n",
    "iadr = []\n",
    "oadr = []\n",
    "txi_ids = []\n",
    "\n",
    "\n",
    "for val in df.iadr.value_counts().iteritems():\n",
    "    iadr.append(val[0])\n",
    "\n",
    "for val in df.id_txi.value_counts().iteritems():\n",
    "    txi_ids.append(val[0])\n",
    "    \n",
    "    \n",
    "for val in df.oadr.value_counts().iteritems():\n",
    "    oadr.append(val[0])\n",
    "    \n",
    "for val in df.id_t.value_counts().iteritems():\n",
    "    tx_ids.append(val[0])\n",
    "    data = df[df.id_t==val[0]]\n",
    "    tx_id_val.append(data.output_val.sum())\n",
    "    \n",
    "\n",
    "for val in df.id_txo_in.value_counts().iteritems():\n",
    "    txo_in_ids.append(val[0])\n",
    "    \n",
    "for val in df.id_txo_out.value_counts().iteritems():\n",
    "    txo_out_ids.append(val[0])"
   ]
  },
  {
   "cell_type": "code",
   "execution_count": null,
   "metadata": {},
   "outputs": [],
   "source": [
    "print(len(txo_in_ids))\n",
    "print(len(txi_ids))\n",
    "print(len(tx_ids))\n",
    "print(len(txo_out_ids))"
   ]
  },
  {
   "cell_type": "code",
   "execution_count": null,
   "metadata": {},
   "outputs": [],
   "source": [
    "matches = set(txo_in_ids).intersection(txo_out_ids)\n",
    "print(len(matches))"
   ]
  },
  {
   "cell_type": "code",
   "execution_count": null,
   "metadata": {},
   "outputs": [],
   "source": [
    "print(len(iadr))\n",
    "print(len(oadr))"
   ]
  },
  {
   "cell_type": "code",
   "execution_count": null,
   "metadata": {},
   "outputs": [],
   "source": [
    "matches = set(iadr).intersection(oadr)\n",
    "len(matches)"
   ]
  }
 ],
 "metadata": {
  "kernelspec": {
   "display_name": "Python 3",
   "language": "python",
   "name": "python3"
  },
  "language_info": {
   "codemirror_mode": {
    "name": "ipython",
    "version": 3
   },
   "file_extension": ".py",
   "mimetype": "text/x-python",
   "name": "python",
   "nbconvert_exporter": "python",
   "pygments_lexer": "ipython3",
   "version": "3.6.5"
  }
 },
 "nbformat": 4,
 "nbformat_minor": 2
}
