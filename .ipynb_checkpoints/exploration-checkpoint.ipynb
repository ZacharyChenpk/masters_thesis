{
 "cells": [
  {
   "cell_type": "code",
   "execution_count": 281,
   "metadata": {},
   "outputs": [],
   "source": [
    "import pandas as pd \n",
    "import numpy as np\n",
    "import sklearn.cluster as sk\n",
    "\n",
    "df = pandas.read_csv('block_400000.csv')"
   ]
  },
  {
   "cell_type": "code",
   "execution_count": 45,
   "metadata": {},
   "outputs": [
    {
     "name": "stdout",
     "output_type": "stream",
     "text": [
      "<class 'pandas.core.frame.DataFrame'>\n",
      "RangeIndex: 15882 entries, 0 to 15881\n",
      "Data columns (total 8 columns):\n",
      "iadr          15882 non-null object\n",
      "id_t          15882 non-null int64\n",
      "id_txi        15882 non-null int64\n",
      "id_txo_in     15882 non-null int64\n",
      "id_txo_out    15882 non-null int64\n",
      "input_val     15882 non-null float64\n",
      "oadr          15882 non-null object\n",
      "output_val    15882 non-null float64\n",
      "dtypes: float64(2), int64(4), object(2)\n",
      "memory usage: 992.7+ KB\n"
     ]
    }
   ],
   "source": [
    "df.info()"
   ]
  },
  {
   "cell_type": "code",
   "execution_count": 48,
   "metadata": {},
   "outputs": [
    {
     "name": "stdout",
     "output_type": "stream",
     "text": [
      "1MZTvC8K5P9ETDbczSdT7tj3uhaw5tpfc5    176\n",
      "16xfUv3htkF35sK6kx9GVNiTgeXguEp847    166\n",
      "1Hgg1utdsUVk2FRP2qNaxgcRHPJowfYLtM    114\n",
      "1158mZ1LfWVfNcF3Z368ZGi3T4gLFkXwht    100\n",
      "1CvEJFvXxJrNzAaJa7WbBJ9ji877asMuya     82\n",
      "1ERzRd5ARi5asQife8gS3Mj9ssuRaS7taU     71\n",
      "1EE1zieWFd2igqSuTrY2W3PUyMh5G7Go7C     71\n",
      "1CEZAXCXP19AUxBMk3rptpKtDqP1LxkPr1     71\n",
      "18KThMnBDFPkjUzojrpKr2mR3kjP2bieqa     71\n",
      "1KSZ3MukCQ3u5drmqAxudb2P6K9MvDXQut     71\n",
      "17AmSb8a3JxDxG6cbq1kuAjeTseHzV8T2x     66\n",
      "152DabwTA3MaaiFcnMfz1KWa67NzRQGer7     64\n",
      "1KZoTGrjogVsRxfzCH7Xgm3xDyQ1X4CGEM     49\n",
      "1MayBeJoAivJXy2aWDSQdEcZWEipqTRayv     48\n",
      "1ZGy19rVgtD23VZfacmoL6CJ5q6fmVkUV      48\n",
      "1GN8Vf4Zebctmtj68GtqXuxvY21Gy2wAN4     42\n",
      "1M39ZteE6EQvwrPknf4rwFKDAx2kPyPYWE     42\n",
      "1G1ERyRuTFdCHxTHp6AT7WmU5P8a4vmCnA     42\n",
      "16jnViWctkhWYcwMBL1Vk3SNCPDy2P1nsJ     42\n",
      "17dr8RECoz7As587HbAV4EEmibCpuVpL9p     38\n",
      "1BqKDhVup9JWKmRCEonM2VLsH5xeFgit9C     37\n",
      "14DTMe5mjbv2KZeAzDBG9DCjrfexj1BZ4h     36\n",
      "1GLRSB87t5U2cMUczBx2uqfkSALRNRovNk     34\n",
      "18WXRzJsJKaQUrMeQMHZK9yB6oPkLKkUj4     33\n",
      "1Ke9L6pzjcV2WW4SWgYKQy28AHAM5hjrBK     32\n",
      "1LKe26oiEmpjybYTxDDLxSspQgZ3EcppiD     32\n",
      "1BqGnyanvAfwbGXNtnPyUEW4b8jnbmnjMD     32\n",
      "13oa4GacbVR8XdwQiHiLP98p5q1E2AqAFn     32\n",
      "1EZbdA65zs9ZvekdZvhhYVAVLUNV59EEqQ     32\n",
      "1Lwj974KpHL9dDyXKjhm8wy9edNpPq8QdB     30\n",
      "                                     ... \n",
      "1PLcJ4B5XN4iriYuioRBNoQFLQXwbupV2F      1\n",
      "12skXeaHKQqdpp1mBVs7XMu1JfUGDUzip4      1\n",
      "1N2iutJ4wR3dFBZBiuhsW48EAcBUBRHTqR      1\n",
      "14A66wEypQzwxcCrifJKSBjfp7FwWpLwG2      1\n",
      "19Bj1VKT2esz4x6PREu6gN99JMPRfyU1Dt      1\n",
      "17u4sfcPBX9yjTfoxwnC7gq1G4WNU5rdL       1\n",
      "17AgpKubN1vt5fmiT4KZrqEhsPxn7gjnid      1\n",
      "1ASZkPgRGnZer7JfGYj2LQYat7EeGR5gJ1      1\n",
      "1FtdWoAk1oZVe5xBmUAN3AGwkhEePb2dxH      1\n",
      "1ESn6ZTDpgEbGj6ExEoHRHZs5ts1DraayF      1\n",
      "1Hgyci39yaRnkJwpekAgis9HoFQ8y9yr1H      1\n",
      "1LLkK3DpUuqrD33qSFrsPoL1N4pLdSD9cn      1\n",
      "17ZTA9x8vEa4rrmZfpZfV1GgveuhKvT22D      1\n",
      "19jnbUZinDcnzzYAiQjWTiaLPg8Xyjyd57      1\n",
      "12Df33Wac27GF9Hiy9PSXK9Yhscm9E4JQH      1\n",
      "1A3diFTGG3pT6YX6kgAdmQZwkprixRKBKk      1\n",
      "1HghRxoTV6SBZTZrf271FkVu8DYKeyFrrx      1\n",
      "16Fvn1rWnwr1CbTRhHKLi88U4xB9aqSoSV      1\n",
      "1ErbNt6BagwmZFrZfnXa1ZvMte3uZHchYK      1\n",
      "1L8URZ6pRUJMmmDege3RPVobjr44kokpjr      1\n",
      "17gL2zQVVCvZgd2frFvwaVgwsqfAkWRGcr      1\n",
      "1Q6B3445e6t5irwT1JxnLUzQgEML8GXuEy      1\n",
      "1HfiprT2c6y85r2xKgn12AjERQQz74Cd79      1\n",
      "1DyVGhgCiFMQ2B7GiMveAXhYR9ZCcSVoou      1\n",
      "1KqVnptMnN6SaKDExFL6yaWNmFWJ5SDLec      1\n",
      "1AuZvwZytY9SwxtBqWDZbcvyDgMuTDMS1k      1\n",
      "17H8h5QxJB6FDqgv8Ui8dB7SRDB3y86PFx      1\n",
      "1ahytvqKWSuXqy2eZcZHznnby8CtVBB1D       1\n",
      "1Eu4uoovzkaXxa9GhniLdfeFTqBxG8qhyw      1\n",
      "1KZFN1N6KWf2m9o3xUeSw2b1RV5XVAKcAV      1\n",
      "Name: iadr, Length: 3817, dtype: int64\n"
     ]
    }
   ],
   "source": [
    "print(df['iadr'].value_counts().sort_values(ascending=False))"
   ]
  },
  {
   "cell_type": "code",
   "execution_count": 156,
   "metadata": {},
   "outputs": [
    {
     "name": "stdout",
     "output_type": "stream",
     "text": [
      "1Jyjib7idDMDscVLhMJvTgjxMpxYHp1Dxg    324\n",
      "16HzNspMpPedrNocntGxDTqk7cqsb3Q7ND    162\n",
      "12FNes2xBtNGJBAeVKkKeo363XxK3EcG8r    142\n",
      "1HFgq6vnpwJxvaDsz8HGA2TgjYYU8HtyBQ    121\n",
      "14Emt9LGCu1rtipPrPGtKjkjiCJkC77mqj     93\n",
      "1DkkDjinCkXwSMtpDHYAarF6Bfjz1eDGn8     93\n",
      "1MzpFjuQ1UC8v9khaTxrzdt2tqqKpkRJNt     93\n",
      "16xfUv3htkF35sK6kx9GVNiTgeXguEp847     83\n",
      "1FYVhnRVyHjsP6SXrViTmR3oExnrhtz3tX     83\n",
      "176Gfc4gdBeoWLZiUXdDzsEreE8mcw4Mq4     60\n",
      "1Hgg1utdsUVk2FRP2qNaxgcRHPJowfYLtM     57\n",
      "1MENKBN8ZDQx3i1AdS6zagnGUwFyScfQpp     57\n",
      "188z786vHfSmjoToGLhVyNLXsBuYuKVbci     56\n",
      "16ZD98wpV86njGvh6WUxxiJbx92zofF3Vx     50\n",
      "1158mZ1LfWVfNcF3Z368ZGi3T4gLFkXwht     50\n",
      "1C8Ks1fjfDDNEYrs3hJKLERA1HDnNTfLq7     47\n",
      "19xgQafJ5eU5TJQn6oqnpzoqSvLgx75bt2     47\n",
      "1AZnsXDnF2tnZTGMXym2G9ELV9Af7zmrBm     46\n",
      "1CvEJFvXxJrNzAaJa7WbBJ9ji877asMuya     41\n",
      "13bKWQN84UL22ZHKQarvmzyRP7jy7DVz7x     41\n",
      "1LuckyY9fRzcJre7aou7ZhWVXktxjjBb9S     36\n",
      "1NZjqaXMNcu7wir7QbBYnpC4DQA8BDFVcR     36\n",
      "1798F49znRhX5MJPmRYRkrB5en7DtG7SM3     34\n",
      "1DPJUgUUFby63PvP1E1aULRdoui9q4onCs     34\n",
      "17AmSb8a3JxDxG6cbq1kuAjeTseHzV8T2x     33\n",
      "1BWzUxcEBn9ZEfLxc3TCULfCN2snAQpgqL     33\n",
      "1NtHN8Tx7MSGZ3XNx5iyNSRqsmQVnb3Ab6     33\n",
      "1ETSP9C7FDVm37iWs1yTR811tDrWSviHns     33\n",
      "12oZFFh2mWxCbE8auph1uSZHzSCWixoA2i     31\n",
      "1C3dZ31vPHbV3G3HRecVe9KLZYUqBTAVpn     31\n",
      "                                     ... \n",
      "1Mk2o6giw7vtgpc5wekoMsvMKYTnumgqiq      1\n",
      "16ZZ731jNtYtop38E9EqL3ECmdPBiVpwAG      1\n",
      "15MMyuxt9ywrAr9vfSMZ4Az8zY5XuwRxLw      1\n",
      "16yQCUMyNTevDpq5vjWJjbcQKAv2hXQS58      1\n",
      "1MH1g7pvUKy8pHFx2HKLka1KewRGZBVAn8      1\n",
      "16fZtwcbTLjdUk6eNv6ivZhTN4Aqqj9NPL      1\n",
      "1GjfDM2h5vRNEdi89RphKYP8yaMZbTThya      1\n",
      "1ML3fdeMPRPQqMw8hgLzcSRFavRoAKXZfE      1\n",
      "139HWKsoNrchv1CCLAg1ApTeosAwYP3mJR      1\n",
      "15JfhtzGj4vQ8tKpTZCtmAfcr3Ae4Ax3xR      1\n",
      "13riv7L2KKMR2qQsbSiuzg5EZSCP7MvaHF      1\n",
      "12gyQ6Pk5SSWDiGuP7JJBHRxMmNbnk7Krt      1\n",
      "1MR4Hif3Yrz1PPQnTnTMk1NtVhjrHfH8a3      1\n",
      "1PN6nQZ9F1XLrMLakw1gGtmpQmBiB8jhUq      1\n",
      "1HXar17CNuzeZJRDZMggkoxEbQkBctQDCx      1\n",
      "19vXCjFfnJn6SEiJuWv6449ohKkT1d3kVw      1\n",
      "1Au41aaGXNAKjiZ6a4PGFWarMeuKEQqitL      1\n",
      "18ooJddBp3Ce2RYcxJbbLXHNuj8LPZgmAr      1\n",
      "1tgyDyTNeNWeErehhuymq6XoFnGRc4jub       1\n",
      "1DoRv8aEBeNfZWskMX1txSnLkqDpY95Na3      1\n",
      "1UkNoT2YJigNNvc635fsdLZHj4bW4XqNK       1\n",
      "14F9iw2mc9enopRsurLoqpnPXxjPaTrDeW      1\n",
      "15dpHz39L91Ubto2DEcB6qQfCqyWjFXTPr      1\n",
      "1GL8VNXPSViyGnJPoaU8tfCFbGYWZ8dVuE      1\n",
      "1NWotjupVPiHqcZHvsJyJ4aYs5D4CVV7X9      1\n",
      "1GHeeH13Gcqjco91YpM9G3DW3qpFRJohX7      1\n",
      "1Cn5DPC94ABvKUq7YVvvoHfr2dWaYv5r1v      1\n",
      "12dpVzRLK6txFyfUvdzaQ1NaPEzuiTMokq      1\n",
      "1HkXqJaMpoJVxCPNBxYVaBxFXfMPiKb3E6      1\n",
      "1G6ahsHgH87UspmuZvTp7FG6ft96vUU31a      1\n",
      "Name: oadr, Length: 3431, dtype: int64\n"
     ]
    }
   ],
   "source": [
    "print(df['oadr'].value_counts().sort_values(ascending=False))"
   ]
  },
  {
   "cell_type": "code",
   "execution_count": 49,
   "metadata": {},
   "outputs": [
    {
     "data": {
      "text/plain": [
       "3431"
      ]
     },
     "execution_count": 49,
     "metadata": {},
     "output_type": "execute_result"
    }
   ],
   "source": [
    "len(df['oadr'].value_counts().sort_values(ascending=False))"
   ]
  },
  {
   "cell_type": "code",
   "execution_count": 58,
   "metadata": {},
   "outputs": [
    {
     "data": {
      "text/plain": [
       "3817"
      ]
     },
     "execution_count": 58,
     "metadata": {},
     "output_type": "execute_result"
    }
   ],
   "source": [
    "len(df['iadr'].value_counts().sort_values(ascending=False))"
   ]
  },
  {
   "cell_type": "code",
   "execution_count": 50,
   "metadata": {},
   "outputs": [
    {
     "name": "stdout",
     "output_type": "stream",
     "text": [
      "False\n",
      "False\n",
      "False\n",
      "False\n",
      "False\n",
      "False\n",
      "False\n",
      "False\n"
     ]
    }
   ],
   "source": [
    "#Check if any columns are unique\n",
    "for column in df:\n",
    "    print(df[column].is_unique)"
   ]
  },
  {
   "cell_type": "code",
   "execution_count": 51,
   "metadata": {},
   "outputs": [
    {
     "data": {
      "text/html": [
       "<div>\n",
       "<style scoped>\n",
       "    .dataframe tbody tr th:only-of-type {\n",
       "        vertical-align: middle;\n",
       "    }\n",
       "\n",
       "    .dataframe tbody tr th {\n",
       "        vertical-align: top;\n",
       "    }\n",
       "\n",
       "    .dataframe thead th {\n",
       "        text-align: right;\n",
       "    }\n",
       "</style>\n",
       "<table border=\"1\" class=\"dataframe\">\n",
       "  <thead>\n",
       "    <tr style=\"text-align: right;\">\n",
       "      <th></th>\n",
       "      <th>iadr</th>\n",
       "      <th>id_t</th>\n",
       "      <th>id_txi</th>\n",
       "      <th>id_txo_in</th>\n",
       "      <th>id_txo_out</th>\n",
       "      <th>input_val</th>\n",
       "      <th>oadr</th>\n",
       "      <th>output_val</th>\n",
       "    </tr>\n",
       "  </thead>\n",
       "  <tbody>\n",
       "    <tr>\n",
       "      <th>0</th>\n",
       "      <td>0</td>\n",
       "      <td>113000163</td>\n",
       "      <td>449165097</td>\n",
       "      <td>0</td>\n",
       "      <td>876891920</td>\n",
       "      <td>0.00000</td>\n",
       "      <td>1BQLNJtMDKmMZ4PyqVFfRuBNvoGhjigBKF</td>\n",
       "      <td>25.33350</td>\n",
       "    </tr>\n",
       "    <tr>\n",
       "      <th>1</th>\n",
       "      <td>1N8GuEfDx4yUn58uQtTghFkhahknqJjsuM</td>\n",
       "      <td>113001822</td>\n",
       "      <td>449169903</td>\n",
       "      <td>876434800</td>\n",
       "      <td>876895800</td>\n",
       "      <td>2.32804</td>\n",
       "      <td>12FNes2xBtNGJBAeVKkKeo363XxK3EcG8r</td>\n",
       "      <td>9.38549</td>\n",
       "    </tr>\n",
       "    <tr>\n",
       "      <th>2</th>\n",
       "      <td>1Bo4qMkRnxCNhCudGLQiS2PCeaYVRgna3x</td>\n",
       "      <td>113001822</td>\n",
       "      <td>449169902</td>\n",
       "      <td>876435041</td>\n",
       "      <td>876895800</td>\n",
       "      <td>2.29546</td>\n",
       "      <td>12FNes2xBtNGJBAeVKkKeo363XxK3EcG8r</td>\n",
       "      <td>9.38549</td>\n",
       "    </tr>\n",
       "    <tr>\n",
       "      <th>3</th>\n",
       "      <td>1MH4qxb8FjuzzMNq7RT8AGwowJLtNmwywe</td>\n",
       "      <td>113001822</td>\n",
       "      <td>449169901</td>\n",
       "      <td>876433818</td>\n",
       "      <td>876895800</td>\n",
       "      <td>1.31917</td>\n",
       "      <td>12FNes2xBtNGJBAeVKkKeo363XxK3EcG8r</td>\n",
       "      <td>9.38549</td>\n",
       "    </tr>\n",
       "    <tr>\n",
       "      <th>4</th>\n",
       "      <td>13oh25pY9GuN4aBQGeoYwcfBMQY1YCwu5s</td>\n",
       "      <td>113001822</td>\n",
       "      <td>449169900</td>\n",
       "      <td>876433463</td>\n",
       "      <td>876895800</td>\n",
       "      <td>1.25242</td>\n",
       "      <td>12FNes2xBtNGJBAeVKkKeo363XxK3EcG8r</td>\n",
       "      <td>9.38549</td>\n",
       "    </tr>\n",
       "  </tbody>\n",
       "</table>\n",
       "</div>"
      ],
      "text/plain": [
       "                                 iadr       id_t     id_txi  id_txo_in  \\\n",
       "0                                   0  113000163  449165097          0   \n",
       "1  1N8GuEfDx4yUn58uQtTghFkhahknqJjsuM  113001822  449169903  876434800   \n",
       "2  1Bo4qMkRnxCNhCudGLQiS2PCeaYVRgna3x  113001822  449169902  876435041   \n",
       "3  1MH4qxb8FjuzzMNq7RT8AGwowJLtNmwywe  113001822  449169901  876433818   \n",
       "4  13oh25pY9GuN4aBQGeoYwcfBMQY1YCwu5s  113001822  449169900  876433463   \n",
       "\n",
       "   id_txo_out  input_val                                oadr  output_val  \n",
       "0   876891920    0.00000  1BQLNJtMDKmMZ4PyqVFfRuBNvoGhjigBKF    25.33350  \n",
       "1   876895800    2.32804  12FNes2xBtNGJBAeVKkKeo363XxK3EcG8r     9.38549  \n",
       "2   876895800    2.29546  12FNes2xBtNGJBAeVKkKeo363XxK3EcG8r     9.38549  \n",
       "3   876895800    1.31917  12FNes2xBtNGJBAeVKkKeo363XxK3EcG8r     9.38549  \n",
       "4   876895800    1.25242  12FNes2xBtNGJBAeVKkKeo363XxK3EcG8r     9.38549  "
      ]
     },
     "execution_count": 51,
     "metadata": {},
     "output_type": "execute_result"
    }
   ],
   "source": [
    "df.head()\n"
   ]
  },
  {
   "cell_type": "code",
   "execution_count": 54,
   "metadata": {},
   "outputs": [],
   "source": [
    "df1 = df.loc[df['iadr'] == '1BQLNJtMDKmMZ4PyqVFfRuBNvoGhjigBKF']"
   ]
  },
  {
   "cell_type": "code",
   "execution_count": 55,
   "metadata": {},
   "outputs": [
    {
     "data": {
      "text/html": [
       "<div>\n",
       "<style scoped>\n",
       "    .dataframe tbody tr th:only-of-type {\n",
       "        vertical-align: middle;\n",
       "    }\n",
       "\n",
       "    .dataframe tbody tr th {\n",
       "        vertical-align: top;\n",
       "    }\n",
       "\n",
       "    .dataframe thead th {\n",
       "        text-align: right;\n",
       "    }\n",
       "</style>\n",
       "<table border=\"1\" class=\"dataframe\">\n",
       "  <thead>\n",
       "    <tr style=\"text-align: right;\">\n",
       "      <th></th>\n",
       "      <th>iadr</th>\n",
       "      <th>id_t</th>\n",
       "      <th>id_txi</th>\n",
       "      <th>id_txo_in</th>\n",
       "      <th>id_txo_out</th>\n",
       "      <th>input_val</th>\n",
       "      <th>oadr</th>\n",
       "      <th>output_val</th>\n",
       "    </tr>\n",
       "  </thead>\n",
       "  <tbody>\n",
       "  </tbody>\n",
       "</table>\n",
       "</div>"
      ],
      "text/plain": [
       "Empty DataFrame\n",
       "Columns: [iadr, id_t, id_txi, id_txo_in, id_txo_out, input_val, oadr, output_val]\n",
       "Index: []"
      ]
     },
     "execution_count": 55,
     "metadata": {},
     "output_type": "execute_result"
    }
   ],
   "source": [
    "df1.head()"
   ]
  },
  {
   "cell_type": "code",
   "execution_count": 151,
   "metadata": {},
   "outputs": [
    {
     "data": {
      "text/plain": [
       "99577.94773076"
      ]
     },
     "execution_count": 151,
     "metadata": {},
     "output_type": "execute_result"
    }
   ],
   "source": [
    "df.input_val.sum()"
   ]
  },
  {
   "cell_type": "code",
   "execution_count": null,
   "metadata": {},
   "outputs": [],
   "source": [
    "features = np.array([], dtype=np.int64).reshape(0,8)\n",
    "for val in df.id_t.value_counts().iteritems():\n",
    "    data = df[df.id_t==val[0]]\n",
    "    if data.input_val.sum() == 0:\n",
    "        continue\n",
    "    f = feature_extract(data)\n",
    "    features = np.concatenate([features,f])  "
   ]
  },
  {
   "cell_type": "code",
   "execution_count": 273,
   "metadata": {},
   "outputs": [],
   "source": [
    "def feature_extract(id_t,df):\n",
    "    total_val = df.input_val.sum()\n",
    "    num_in = df.nunique().id_txi\n",
    "    num_out = df.nunique().id_txo_out\n",
    "    ratio = num_in/float(num_out)\n",
    "    degree = num_in + num_out\n",
    "    num_unique_addr_in = df.nunique().iadr\n",
    "    num_unique_addr_out = df.nunique().oadr\n",
    "    data =  {'id':id_t,'total_val':total_val,'ratio':ratio,'num_in':num_in,'num_out':num_out,'degree':degree,'num_unique_addr_in':num_unique_addr_in,'num_unique_addr_out':num_unique_addr_out}\n",
    "    df_ = pd.DataFrame(data,index=[0])\n",
    "    return df_\n",
    "    "
   ]
  },
  {
   "cell_type": "code",
   "execution_count": 274,
   "metadata": {},
   "outputs": [],
   "source": [
    "col_names =  ['id','total_val','ratio','num_in','num_out','degree','num_unique_addr_in','num_unique_addr_out']\n",
    "features  = pd.DataFrame(columns = col_names)\n",
    "\n",
    "for val in df.id_t.value_counts().iteritems():\n",
    "    data = df[df.id_t==val[0]]\n",
    "    if data.input_val.sum() == 0:\n",
    "        continue\n",
    "    f = feature_extract(val[0],data)\n",
    "    features = features.append(f,'sort=True')\n",
    "\n",
    "features = features.set_index('id')"
   ]
  },
  {
   "cell_type": "markdown",
   "metadata": {},
   "source": [
    "# Evaluating K Means clustering performance using elbow method"
   ]
  },
  {
   "cell_type": "code",
   "execution_count": 295,
   "metadata": {},
   "outputs": [
    {
     "data": {
      "text/plain": [
       "([<matplotlib.axis.XTick at 0x1a1948af90>,\n",
       "  <matplotlib.axis.XTick at 0x113edfe10>,\n",
       "  <matplotlib.axis.XTick at 0x113f0eb90>,\n",
       "  <matplotlib.axis.XTick at 0x1a194c1290>,\n",
       "  <matplotlib.axis.XTick at 0x1a194c1850>,\n",
       "  <matplotlib.axis.XTick at 0x1a194c1e10>,\n",
       "  <matplotlib.axis.XTick at 0x1a195da410>,\n",
       "  <matplotlib.axis.XTick at 0x1a195da9d0>,\n",
       "  <matplotlib.axis.XTick at 0x1a195daf90>,\n",
       "  <matplotlib.axis.XTick at 0x1a195e3590>,\n",
       "  <matplotlib.axis.XTick at 0x1a195da090>,\n",
       "  <matplotlib.axis.XTick at 0x1a194b5d90>,\n",
       "  <matplotlib.axis.XTick at 0x1a195e3c50>,\n",
       "  <matplotlib.axis.XTick at 0x1a195ee250>,\n",
       "  <matplotlib.axis.XTick at 0x1a195ee810>,\n",
       "  <matplotlib.axis.XTick at 0x1a195eedd0>,\n",
       "  <matplotlib.axis.XTick at 0x1a195f93d0>,\n",
       "  <matplotlib.axis.XTick at 0x1a195f9990>],\n",
       " <a list of 18 Text xticklabel objects>)"
      ]
     },
     "execution_count": 295,
     "metadata": {},
     "output_type": "execute_result"
    },
    {
     "data": {
      "image/png": "[encoded data removed]",
      "text/plain": [
       "<Figure size 1080x360 with 1 Axes>"
      ]
     },
     "metadata": {},
     "output_type": "display_data"
    }
   ],
   "source": [
    "from sklearn.cluster import KMeans\n",
    "from matplotlib import pyplot as plt\n",
    "\n",
    "# Convert DataFrame to matrix\n",
    "mat = features.values\n",
    "distorsions = []\n",
    "x = range(2, 20)\n",
    "for k in x:\n",
    "    #Perform K Means\n",
    "    kmeans = KMeans(n_clusters=k)\n",
    "    kmeans.fit(mat)\n",
    "    distorsions.append(kmeans.inertia_)\n",
    "\n",
    "fig = plt.figure(figsize=(15, 5))\n",
    "plt.plot(x, distorsions)\n",
    "plt.grid(True)\n",
    "plt.title('Elbow curve')\n",
    "plt.show\n",
    "plt.xticks(x)"
   ]
  },
  {
   "cell_type": "markdown",
   "metadata": {},
   "source": [
    "# Run K Means and assign centroids to transactions"
   ]
  },
  {
   "cell_type": "code",
   "execution_count": 308,
   "metadata": {},
   "outputs": [],
   "source": [
    "# Convert DataFrame to matrix\n",
    "mat = features.values\n",
    "# Using sklearn\n",
    "km = sk.KMeans(n_clusters=4)\n",
    "km.fit(mat)\n",
    "# Get cluster assignment labels\n",
    "labels = km.labels_\n",
    "# Format results as a DataFrame\n",
    "data = {'transaction_id':features.index,'cluster_label':labels}\n",
    "results = pandas.DataFrame(data)"
   ]
  },
  {
   "cell_type": "markdown",
   "metadata": {},
   "source": [
    "# Trying to visualize K Means"
   ]
  },
  {
   "cell_type": "code",
   "execution_count": 317,
   "metadata": {},
   "outputs": [
    {
     "data": {
      "image/png": "[encoded data removed]",
      "text/plain": [
       "<Figure size 432x288 with 1 Axes>"
      ]
     },
     "metadata": {},
     "output_type": "display_data"
    },
    {
     "data": {
      "image/png": "[encoded data removed]",
      "text/plain": [
       "<Figure size 432x288 with 1 Axes>"
      ]
     },
     "metadata": {},
     "output_type": "display_data"
    }
   ],
   "source": [
    "from sklearn.decomposition import PCA\n",
    "import pylab as pl\n",
    "\n",
    "pca = PCA(n_components=2).fit(mat)\n",
    "pca_2d = pca.transform(mat)\n",
    "pl.figure('Reference Plot')\n",
    "pl.scatter(pca_2d[:, 0], pca_2d[:, 1])\n",
    "\n",
    "km = sk.KMeans(n_clusters=4)\n",
    "km.fit(mat)\n",
    "pl.figure('K-means with 4 clusters')\n",
    "pl.scatter(pca_2d[:, 0], pca_2d[:, 1], c=kmeans.labels_)\n",
    "pl.show()\n",
    "\n"
   ]
  },
  {
   "cell_type": "code",
   "execution_count": 313,
   "metadata": {},
   "outputs": [
    {
     "data": {
      "text/html": [
       "<div>\n",
       "<style scoped>\n",
       "    .dataframe tbody tr th:only-of-type {\n",
       "        vertical-align: middle;\n",
       "    }\n",
       "\n",
       "    .dataframe tbody tr th {\n",
       "        vertical-align: top;\n",
       "    }\n",
       "\n",
       "    .dataframe thead th {\n",
       "        text-align: right;\n",
       "    }\n",
       "</style>\n",
       "<table border=\"1\" class=\"dataframe\">\n",
       "  <thead>\n",
       "    <tr style=\"text-align: right;\">\n",
       "      <th></th>\n",
       "      <th>cluster_label</th>\n",
       "      <th>transaction_id</th>\n",
       "    </tr>\n",
       "  </thead>\n",
       "  <tbody>\n",
       "    <tr>\n",
       "      <th>0</th>\n",
       "      <td>1</td>\n",
       "      <td>113001531</td>\n",
       "    </tr>\n",
       "    <tr>\n",
       "      <th>1</th>\n",
       "      <td>2</td>\n",
       "      <td>113001583</td>\n",
       "    </tr>\n",
       "    <tr>\n",
       "      <th>2</th>\n",
       "      <td>0</td>\n",
       "      <td>113001526</td>\n",
       "    </tr>\n",
       "    <tr>\n",
       "      <th>3</th>\n",
       "      <td>0</td>\n",
       "      <td>113001591</td>\n",
       "    </tr>\n",
       "    <tr>\n",
       "      <th>4</th>\n",
       "      <td>2</td>\n",
       "      <td>113001523</td>\n",
       "    </tr>\n",
       "  </tbody>\n",
       "</table>\n",
       "</div>"
      ],
      "text/plain": [
       "   cluster_label  transaction_id\n",
       "0              1       113001531\n",
       "1              2       113001583\n",
       "2              0       113001526\n",
       "3              0       113001591\n",
       "4              2       113001523"
      ]
     },
     "execution_count": 313,
     "metadata": {},
     "output_type": "execute_result"
    }
   ],
   "source": [
    "results.head()"
   ]
  },
  {
   "cell_type": "code",
   "execution_count": 312,
   "metadata": {},
   "outputs": [
    {
     "name": "stdout",
     "output_type": "stream",
     "text": [
      "1    1507\n",
      "0      79\n",
      "2      12\n",
      "3       2\n",
      "Name: cluster_label, dtype: int64\n"
     ]
    }
   ],
   "source": [
    "print(results['cluster_label'].value_counts().sort_values(ascending=False))"
   ]
  },
  {
   "cell_type": "code",
   "execution_count": null,
   "metadata": {},
   "outputs": [],
   "source": [
    "#Plot the clusters obtained using k means\n",
    "fig = plt.figure()\n",
    "scatter = ax.scatter(wh1['Economy..GDP.per.Capita.'],wh1['Trust..Government.Corruption.'],\n",
    "                     c=kmeans[0],s=50)\n",
    "ax.set_title('K-Means Clustering')\n",
    "ax.set_xlabel('GDP per Capita')\n",
    "ax.set_ylabel('Corruption')\n",
    "plt.colorbar(scatter)"
   ]
  },
  {
   "cell_type": "code",
   "execution_count": 82,
   "metadata": {},
   "outputs": [
    {
     "data": {
      "text/plain": [
       "iadr\n",
       "13uXdRprNMmkWSJEFJqdNTP86K6pH5o5pV    986.753770\n",
       "1NFWd6PTmVftJNyGneMBsRWyy7HtaAFTJs    417.005500\n",
       "164Zi2ar5ojgdojHgNR9MmLQNLFpP51Uyz    412.928000\n",
       "1HDr3XF67KeR9QnRVmCByDfS94LtaXFuxo    314.528090\n",
       "13WFotXR1anUHCjHoq3iXk8BsBXtrPtPdq    307.791668\n",
       "1K5VvGsgiNtB5EghBtUMRFqACNhZ49rVHe    289.286650\n",
       "1HZaWdm6JqkoNV7GZXssCaFbQ5iE8QonLp    286.383382\n",
       "12ENq8dCDj4RUpAXeUSZDhaAvevbZj3N4v    270.242950\n",
       "16wbGvHMiWPeJQuwhRcV429XGy733QZWUK    259.766376\n",
       "1B2iAQpqoh9s8rTPbTQUjRVv5Xcbxyw4rK    236.677500\n",
       "16jme9EuA4eefPqAHXhSBqSYk2ErfYowU7    231.979652\n",
       "19joogGT8jjkChJddcJ34QYwuukom4WLMw    228.981617\n",
       "17EYjgTfYtksi4NdHzmk4pQySRnngvzwfq    195.401409\n",
       "1G4b9KnHs7FxiM4R5xUF6su6CGabBLMZMf    190.073777\n",
       "1GFhRUVSrdXYJntvkXLkzv7unbpnYDph4w    182.311850\n",
       "19pwYY17yH3cGDEFKfS5UcJDvWM6KUhPKj    178.866409\n",
       "1EpWvLxKRwrcdKWMGz5RTn5AfH3nPALuTo    157.093350\n",
       "1GcH4PvSwxjXrVWBxBaY8Y5wRLWKp55NRh    141.992400\n",
       "129vHnwBFgxboQWQZzpcJKPAPcwLWsbiRu    135.636950\n",
       "1Kufvk2rDRXfMyVU36cm4aXjXm7qXybuK1    131.074098\n",
       "1BwNZqMcvW3VTozs6ThJvkoA83fZy588F8    129.016450\n",
       "1KVe3BSF9GKBfCJmse44wixKnaxZxUZwgA    128.193500\n",
       "1NoH9E2pHpgoK6QTarQheAFKBtwcpvEQKS    127.913755\n",
       "1NAPCXHckGKnUoq7NfkrcH8wYR8ZQtykpx    127.593416\n",
       "1AyXjyxxk8E4K7DHx5Kee4qJgPodCU1rtc    127.587248\n",
       "1Da9ygKmAVB6HXDy2hRQxtj4qGpX4sAMZE    127.504424\n",
       "16utRTwWGMxTnskA8kkiCQBqk5ZZNnpSL2    127.469000\n",
       "1JZ8XbQydXKgphnJ2t8pZ2orTrXDhVzFAg    127.454956\n",
       "1Hd1LkN7Mb56iDc9SkYJtLMa1t4pnpnFLG    125.923444\n",
       "1Q3Knph5eKqtn9PW4mRLDtJDoA5piCJBJ1    125.139270\n",
       "                                         ...    \n",
       "1JU2FaDggehnPNmUietVz4ARAZLFjuHeyM      0.000271\n",
       "1DkTihqTmHtc68Qekw5ruptkq23iXCZtQ7      0.000271\n",
       "1Mn5AVucYwASJVDHEPPweGaxHAF9YVw15f      0.000224\n",
       "1EE1zieWFd2igqSuTrY2W3PUyMh5G7Go7C      0.000209\n",
       "1CEZAXCXP19AUxBMk3rptpKtDqP1LxkPr1      0.000209\n",
       "18KThMnBDFPkjUzojrpKr2mR3kjP2bieqa      0.000209\n",
       "1KSZ3MukCQ3u5drmqAxudb2P6K9MvDXQut      0.000209\n",
       "1ERzRd5ARi5asQife8gS3Mj9ssuRaS7taU      0.000209\n",
       "18QjM52qrbVNGkzppsLBDuNdhHMcLP7xpJ      0.000204\n",
       "19Xxk9Mi5ZwkJk7LuGS1oApdk4JsDsx8YE      0.000194\n",
       "1DoG2VjgQXBedKfGvR37SxYYj3eX2A2FXG      0.000194\n",
       "14i5GsvLx6rPnVas8cjffbwBG7vJJCvPCe      0.000194\n",
       "16KLYGdZtbv8yS741mGzF6ZJtNe2WidaQi      0.000190\n",
       "1Fr9YNCcfKukSLhVg3z2a3UPxkp7Kh5er8      0.000141\n",
       "148TbvrCAh36mLHYvBuM4tRtZtUH2cTvcK      0.000127\n",
       "1kZLZKfVmVuWyJh4GpW6kXhf2WbegnGRU       0.000127\n",
       "1BWxp9oEHoxFXNWwUCbogMbdLSRyQm1t2h      0.000102\n",
       "1AniPMV3Bzy1LB1xXhEtLwxCa49qhfiLKd      0.000102\n",
       "1875mrBCMaL4kbtyeXHzMhQro5EyM4PYzK      0.000100\n",
       "16A84a8eL2gRSnX81WqCKS74fgZEcW9NDu      0.000099\n",
       "18X9WwL68E7V6u8Ln7xK54gyCt2LLaftqv      0.000079\n",
       "1DzR66ntteVYhpNR2F3VhXDm1E9HSUsahT      0.000075\n",
       "1AiFurBKBpmftYXkubQw1NB7Wd2wAQvgzn      0.000074\n",
       "1ETmqtakrYdXMjJjBJHY8ebgPRn2hTpY1n      0.000070\n",
       "1AjC87AsjD2xbbQTt8Fhws3nzSn6g1MwaL      0.000070\n",
       "1EN1PdkTQpCPJWS5k4A5BqxSNHUF3DviNX      0.000045\n",
       "159JWumJR2anVzXjnjP6XLia6zsVo4zZk3      0.000045\n",
       "134yQ75zV1hgfN7PhVkQveoMp9EMv5rnbS      0.000040\n",
       "16wkAR4KTz34Wg1myjpL5GQPL1Kby4wSAA      0.000040\n",
       "1E9EBv3EjD4Cu4RAnrmZUzrBXQbph5HR7f      0.000030\n",
       "Name: output_val, Length: 3817, dtype: float64"
      ]
     },
     "execution_count": 82,
     "metadata": {},
     "output_type": "execute_result"
    }
   ],
   "source": [
    "df.groupby('iadr').output_val.mean().sort_values(ascending=False)"
   ]
  }
 ],
 "metadata": {
  "kernelspec": {
   "display_name": "Python 2",
   "language": "python",
   "name": "python2"
  },
  "language_info": {
   "codemirror_mode": {
    "name": "ipython",
    "version": 2
   },
   "file_extension": ".py",
   "mimetype": "text/x-python",
   "name": "python",
   "nbconvert_exporter": "python",
   "pygments_lexer": "ipython2",
   "version": "2.7.15"
  }
 },
 "nbformat": 4,
 "nbformat_minor": 2
}
