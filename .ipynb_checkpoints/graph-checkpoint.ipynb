{
 "cells": [
  {
   "cell_type": "code",
   "execution_count": null,
   "metadata": {},
   "outputs": [],
   "source": [
    "import math\n",
    "\n",
    "ig = igraph.Graph.TupleList(tups,directed=True)\n",
    "\n",
    "layout = ig.layout_kamada_kawai()\n",
    "visual_style = {}\n",
    "visual_style[\"layout\"] = layout\n",
    "visual_style[\"bbox\"]= (10000, 10000)\n",
    "visual_style[\"margin\"] = 50\n",
    "visual_style[\"autocurve\"] = True\n",
    "visual_style[\"arrow_size\"] = 0.01\n",
    "\n",
    "#visual_style[\"vertex_label\"] = ig.vs['label']\n",
    "#visual_style['edge_width'] = [0.03*i for i in ig.es['weight']]\n",
    "#visual_style['edge_color'] = [color[i] for i in ig.es['platform']]\n",
    "visual_style['keep_aspect_ratio'] = True\n",
    "\n",
    "size = []\n",
    "for i in ig.degree():\n",
    "    if i > 1:\n",
    "        size.append(20*math.log(i))\n",
    "    else:\n",
    "        size.append(i)\n",
    "visual_style[\"vertex_size\"] = size\n",
    "\n",
    "p = igraph.Plot(\"user_graph.png\", bbox=(10000, 10000), background=\"white\")\n",
    "p.add(ig, **visual_style)\n",
    "# p.redraw()\n",
    "\n",
    "fileName = 'hi.png'\n",
    "context = cairo.Context(p.surface)\n",
    "context.set_font_size(60)\n",
    "title = \"Address Graph of Block 400000\"\n",
    "#drawer = TextDrawer(context, text=title, halign=TextDrawer.CENTER)\n",
    "#drawer.draw_at(x=1745, y=100, width=600)\n",
    "p.save(fileName)\n",
    "#ig.write_graphml('./testing.graphml')\n",
    "ig.write_graphml('./hello2.graphml')"
   ]
  }
 ],
 "metadata": {
  "kernelspec": {
   "display_name": "Python 3",
   "language": "python",
   "name": "python3"
  },
  "language_info": {
   "codemirror_mode": {
    "name": "ipython",
    "version": 3
   },
   "file_extension": ".py",
   "mimetype": "text/x-python",
   "name": "python",
   "nbconvert_exporter": "python",
   "pygments_lexer": "ipython3",
   "version": "3.5.2"
  }
 },
 "nbformat": 4,
 "nbformat_minor": 2
}
