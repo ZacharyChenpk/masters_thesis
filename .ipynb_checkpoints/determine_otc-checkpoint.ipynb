{
 "cells": [
  {
   "cell_type": "code",
   "execution_count": 3,
   "metadata": {},
   "outputs": [],
   "source": [
    "import pandas as pd \n",
    "import py2neo\n",
    "import urllib3\n",
    "import pickle\n",
    "import time\n",
    "urllib3.disable_warnings(urllib3.exceptions.InsecureRequestWarning)"
   ]
  },
  {
   "cell_type": "code",
   "execution_count": null,
   "metadata": {},
   "outputs": [],
   "source": [
    "def query_database(query):\n",
    "    # REMEMBER TO BE CONNECTED TO IMPERIAL WIFI!\n",
    "    graph_db = py2neo.Graph(\"https://dsi-bitcoin.doc.ic.ac.uk:7473/db/data/\", auth=(\"adi\", \"aditi123\"))\n",
    "    return graph_db.run(query)\n",
    "\n",
    "def get_block_data(first_block, last_block):\n",
    "    query_string = \"\"\"\n",
    "                    MATCH (b:Block) <-[:MINED_IN]- (t:Tx) <-[:IN]- (txi:TxIn) <-[:UNLOCK]- (iadr:Address)\n",
    "                    WHERE b.height >= {} AND b.height <= {}\n",
    "                    MATCH (txi) <-[:SPENT]- (txo_in:TxOut) \n",
    "                    MATCH (oadr:Address) <-[:LOCK]- (txo_out:TxOut) <-[:OUT]- (t)\n",
    "                    \n",
    "                    RETURN iadr.address as iadr, oadr.address as oadr, txo_in.value as input_val, txo_out.value as output_val, ID(txo_in) as id_txo_in, ID(txi) as id_txi, ID(t) as id_t, ID(txo_out) as id_txo_out\n",
    "                    \"\"\".format(first_block, last_block)\n",
    "    return query_string\n",
    "\n",
    "def seen_before1(block, adr):\n",
    "    params = {'block':block,'adr':adr}\n",
    "    query_string = \"\"\"\n",
    "                    MATCH (a:Address) <-[:LOCK]- (to:TxOut) <-[:OUT]- (t1:Tx)-[:MINED_IN]->(b1:Block)\n",
    "                    WHERE a.address = \"{adr}\" AND b1.height<{block}\n",
    "                    RETURN b1.height LIMIT 1\n",
    "                    \"\"\".format(**params)\n",
    "    \n",
    "    data_fr = query_database(query_string).to_data_frame()\n",
    "    if data_fr.empty:\n",
    "        return False\n",
    "    return True\n",
    "\n",
    "def seen_before2(block, adr):\n",
    "    params = {'block':block,'adr':adr}\n",
    "    query_string = \"\"\"\n",
    "                    MATCH (a:Address) -[:UNLOCK]-> (ti:TxIn) -[:IN]-> (t2:Tx)-[:MINED_IN]->(b2:Block)\n",
    "                    WHERE a.address = \"{adr}\" AND b2.height<{block}\n",
    "                    RETURN b2.height LIMIT 1\n",
    "                    \"\"\".format(**params)\n",
    "    data_fr = query_database(query_string).to_data_frame()\n",
    "    if data_fr.empty:\n",
    "        return False\n",
    "\n",
    "    return True\n",
    "\n",
    "for block in range(200000,400001,25000):\n",
    "    print(\"Block = \", block)\n",
    "    result = query_database(get_block_data(block,block))\n",
    "    df = result.to_data_frame()\n",
    "\n",
    "    addresses = list(df.oadr.value_counts().index)\n",
    "\n",
    "    not_seen =[]\n",
    "    import time\n",
    "\n",
    "    temptime = time.time()\n",
    "    starttime = time.time()\n",
    "\n",
    "    for adr in addresses:\n",
    "        if seen_before1(block, adr) or seen_before2(block, adr):\n",
    "            continue\n",
    "        else:\n",
    "            not_seen.append(adr)\n",
    "    print(adr, \" processed in \", time.time()-temptime)\n",
    "    temptime = time.time()\n",
    "    \n",
    "    print(\"Total time to process: \", time.time()-starttime)\n",
    "    with open('otc_{}.pickle'.format(block),'wb') as f:\n",
    "        pickle.dump(not_seen,f)"
   ]
  },
  {
   "cell_type": "code",
   "execution_count": null,
   "metadata": {},
   "outputs": [],
   "source": [
    "addresses1 = list(df.oadr.value_counts()[df.oadr.value_counts()>1].index)\n",
    "addresses2 = list(df.oadr.value_counts()[df.oadr.value_counts()==1].index)"
   ]
  },
  {
   "cell_type": "code",
   "execution_count": null,
   "metadata": {},
   "outputs": [],
   "source": [
    "not_seen = [adr for adr in addresses1[:5] if not seen_before1(block, adr) and not seen_before2(block, adr)]"
   ]
  }
 ],
 "metadata": {
  "kernelspec": {
   "display_name": "Python 3",
   "language": "python",
   "name": "python3"
  },
  "language_info": {
   "codemirror_mode": {
    "name": "ipython",
    "version": 3
   },
   "file_extension": ".py",
   "mimetype": "text/x-python",
   "name": "python",
   "nbconvert_exporter": "python",
   "pygments_lexer": "ipython3",
   "version": "3.5.2"
  }
 },
 "nbformat": 4,
 "nbformat_minor": 2
}
