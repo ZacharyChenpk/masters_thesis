{
 "cells": [
  {
   "cell_type": "code",
   "execution_count": 67,
   "metadata": {},
   "outputs": [],
   "source": [
    "import pandas as pd \n",
    "import numpy as np\n",
    "import sklearn as sk\n",
    "from matplotlib import pyplot as plt\n",
    "\n",
    "import py2neo\n",
    "\n",
    "import urllib3\n",
    "urllib3.disable_warnings(urllib3.exceptions.InsecureRequestWarning)\n"
   ]
  },
  {
   "cell_type": "markdown",
   "metadata": {},
   "source": [
    "# Query Database"
   ]
  },
  {
   "cell_type": "code",
   "execution_count": 3,
   "metadata": {},
   "outputs": [],
   "source": [
    "def query_database(query):\n",
    "    # REMEMBER TO BE CONNECTED TO IMPERIAL WIFI!\n",
    "    graph_db = py2neo.Graph(\"https://dsi-bitcoin.doc.ic.ac.uk:7473/db/data/\", auth=(\"guest_ro\", \"imperialO_nly\"))\n",
    "    return graph_db.run(query)"
   ]
  },
  {
   "cell_type": "code",
   "execution_count": 4,
   "metadata": {},
   "outputs": [],
   "source": [
    "def get_block_data(first_block, last_block):\n",
    "    query_string = \"\"\"\n",
    "                    MATCH (b:Block) <-[:MINED_IN]- (t:Tx) <-[:IN]- (txi:TxIn) <-[:UNLOCK]- (iadr:Address)\n",
    "                    WHERE b.height >= {} AND b.height <= {}\n",
    "                    MATCH (txi) <-[:SPENT]- (txo_in:TxOut) \n",
    "                    MATCH (oadr:Address) <-[:LOCK]- (txo_out:TxOut) <-[:OUT]- (t)\n",
    "                    \n",
    "                    RETURN iadr.address as iadr, oadr.address as oadr, txo_in.value as input_val, txo_out.value as output_val, ID(txo_in) as id_txo_in, ID(txi) as id_txi, ID(t) as id_t, ID(txo_out) as id_txo_out\n",
    "                    \"\"\".format(first_block, last_block)\n",
    "    return query_string"
   ]
  },
  {
   "cell_type": "code",
   "execution_count": 5,
   "metadata": {},
   "outputs": [],
   "source": [
    "df = query_database(get_block_data(400000,400000)).to_data_frame()"
   ]
  },
  {
   "cell_type": "code",
   "execution_count": null,
   "metadata": {},
   "outputs": [],
   "source": [
    "#Check if any columns are unique\n",
    "for column in df:\n",
    "    print(df[column].is_unique)"
   ]
  },
  {
   "cell_type": "code",
   "execution_count": null,
   "metadata": {},
   "outputs": [],
   "source": [
    "print(df['oadr'].value_counts().sort_values(ascending=False))\n",
    "df1 = df.loc[df['iadr'] == '1BQLNJtMDKmMZ4PyqVFfRuBNvoGhjigBKF']"
   ]
  },
  {
   "cell_type": "markdown",
   "metadata": {},
   "source": [
    "# CLUSTERING"
   ]
  },
  {
   "cell_type": "code",
   "execution_count": 20,
   "metadata": {},
   "outputs": [],
   "source": [
    "cluster = (\n",
    "    df.groupby('id_t')\n",
    "    .agg({\n",
    "        'input_val': 'sum',\n",
    "        'id_txi': 'nunique',\n",
    "        'id_txo_out': 'nunique',\n",
    "        'iadr': 'nunique',\n",
    "        'oadr': 'nunique',       \n",
    "    }).rename(columns = {\n",
    "        'iadr':'num_unique_addr_in',\n",
    "        'oadr':'num_unique_addr_out'\n",
    "    })\n",
    ")\n",
    "\n",
    "cluster['ratio'] = cluster['id_txi'] / cluster['id_txo_out']\n",
    "cluster['degree'] = cluster['id_txi'] + cluster['id_txo_out'] \n",
    "\n",
    "cluster = cluster.drop(columns=['id_txi', 'id_txo_out'])"
   ]
  },
  {
   "cell_type": "code",
   "execution_count": 38,
   "metadata": {},
   "outputs": [
    {
     "data": {
      "text/html": [
       "<div>\n",
       "<style scoped>\n",
       "    .dataframe tbody tr th:only-of-type {\n",
       "        vertical-align: middle;\n",
       "    }\n",
       "\n",
       "    .dataframe tbody tr th {\n",
       "        vertical-align: top;\n",
       "    }\n",
       "\n",
       "    .dataframe thead th {\n",
       "        text-align: right;\n",
       "    }\n",
       "</style>\n",
       "<table border=\"1\" class=\"dataframe\">\n",
       "  <thead>\n",
       "    <tr style=\"text-align: right;\">\n",
       "      <th></th>\n",
       "      <th>num_unique_addr_in</th>\n",
       "      <th>input_val</th>\n",
       "      <th>num_unique_addr_out</th>\n",
       "      <th>ratio</th>\n",
       "      <th>degree</th>\n",
       "    </tr>\n",
       "    <tr>\n",
       "      <th>id_t</th>\n",
       "      <th></th>\n",
       "      <th></th>\n",
       "      <th></th>\n",
       "      <th></th>\n",
       "      <th></th>\n",
       "    </tr>\n",
       "  </thead>\n",
       "  <tbody>\n",
       "    <tr>\n",
       "      <th>113000164</th>\n",
       "      <td>1</td>\n",
       "      <td>0.192061</td>\n",
       "      <td>1</td>\n",
       "      <td>1.0</td>\n",
       "      <td>2</td>\n",
       "    </tr>\n",
       "    <tr>\n",
       "      <th>113000165</th>\n",
       "      <td>1</td>\n",
       "      <td>13.410992</td>\n",
       "      <td>2</td>\n",
       "      <td>1.5</td>\n",
       "      <td>5</td>\n",
       "    </tr>\n",
       "    <tr>\n",
       "      <th>113000166</th>\n",
       "      <td>1</td>\n",
       "      <td>3.210000</td>\n",
       "      <td>1</td>\n",
       "      <td>1.0</td>\n",
       "      <td>2</td>\n",
       "    </tr>\n",
       "    <tr>\n",
       "      <th>113000167</th>\n",
       "      <td>1</td>\n",
       "      <td>0.090000</td>\n",
       "      <td>1</td>\n",
       "      <td>1.0</td>\n",
       "      <td>2</td>\n",
       "    </tr>\n",
       "    <tr>\n",
       "      <th>113000168</th>\n",
       "      <td>1</td>\n",
       "      <td>1.546210</td>\n",
       "      <td>1</td>\n",
       "      <td>1.0</td>\n",
       "      <td>2</td>\n",
       "    </tr>\n",
       "  </tbody>\n",
       "</table>\n",
       "</div>"
      ],
      "text/plain": [
       "           num_unique_addr_in  input_val  num_unique_addr_out  ratio  degree\n",
       "id_t                                                                        \n",
       "113000164                   1   0.192061                    1    1.0       2\n",
       "113000165                   1  13.410992                    2    1.5       5\n",
       "113000166                   1   3.210000                    1    1.0       2\n",
       "113000167                   1   0.090000                    1    1.0       2\n",
       "113000168                   1   1.546210                    1    1.0       2"
      ]
     },
     "execution_count": 38,
     "metadata": {},
     "output_type": "execute_result"
    }
   ],
   "source": [
    "cluster.head()"
   ]
  },
  {
   "cell_type": "code",
   "execution_count": 46,
   "metadata": {},
   "outputs": [],
   "source": [
    "#Normalize data\n",
    "\n",
    "scaler = sk.preprocessing.StandardScaler()\n",
    "scaled_cluster = scaler.fit_transform(cluster)\n",
    "cluster_scaled = pd.DataFrame(scaled_cluster, columns=cluster.columns, index=cluster.index)"
   ]
  },
  {
   "cell_type": "code",
   "execution_count": 47,
   "metadata": {},
   "outputs": [
    {
     "data": {
      "text/html": [
       "<div>\n",
       "<style scoped>\n",
       "    .dataframe tbody tr th:only-of-type {\n",
       "        vertical-align: middle;\n",
       "    }\n",
       "\n",
       "    .dataframe tbody tr th {\n",
       "        vertical-align: top;\n",
       "    }\n",
       "\n",
       "    .dataframe thead th {\n",
       "        text-align: right;\n",
       "    }\n",
       "</style>\n",
       "<table border=\"1\" class=\"dataframe\">\n",
       "  <thead>\n",
       "    <tr style=\"text-align: right;\">\n",
       "      <th></th>\n",
       "      <th>num_unique_addr_in</th>\n",
       "      <th>input_val</th>\n",
       "      <th>num_unique_addr_out</th>\n",
       "      <th>ratio</th>\n",
       "      <th>degree</th>\n",
       "    </tr>\n",
       "    <tr>\n",
       "      <th>id_t</th>\n",
       "      <th></th>\n",
       "      <th></th>\n",
       "      <th></th>\n",
       "      <th></th>\n",
       "      <th></th>\n",
       "    </tr>\n",
       "  </thead>\n",
       "  <tbody>\n",
       "    <tr>\n",
       "      <th>113000164</th>\n",
       "      <td>-0.350696</td>\n",
       "      <td>-0.182966</td>\n",
       "      <td>-0.466723</td>\n",
       "      <td>-0.177293</td>\n",
       "      <td>-0.494307</td>\n",
       "    </tr>\n",
       "    <tr>\n",
       "      <th>113000165</th>\n",
       "      <td>-0.350696</td>\n",
       "      <td>-0.143984</td>\n",
       "      <td>-0.117934</td>\n",
       "      <td>-0.025747</td>\n",
       "      <td>-0.039946</td>\n",
       "    </tr>\n",
       "    <tr>\n",
       "      <th>113000166</th>\n",
       "      <td>-0.350696</td>\n",
       "      <td>-0.174067</td>\n",
       "      <td>-0.466723</td>\n",
       "      <td>-0.177293</td>\n",
       "      <td>-0.494307</td>\n",
       "    </tr>\n",
       "    <tr>\n",
       "      <th>113000167</th>\n",
       "      <td>-0.350696</td>\n",
       "      <td>-0.183267</td>\n",
       "      <td>-0.466723</td>\n",
       "      <td>-0.177293</td>\n",
       "      <td>-0.494307</td>\n",
       "    </tr>\n",
       "    <tr>\n",
       "      <th>113000168</th>\n",
       "      <td>-0.350696</td>\n",
       "      <td>-0.178973</td>\n",
       "      <td>-0.466723</td>\n",
       "      <td>-0.177293</td>\n",
       "      <td>-0.494307</td>\n",
       "    </tr>\n",
       "  </tbody>\n",
       "</table>\n",
       "</div>"
      ],
      "text/plain": [
       "           num_unique_addr_in  input_val  num_unique_addr_out     ratio  \\\n",
       "id_t                                                                      \n",
       "113000164           -0.350696  -0.182966            -0.466723 -0.177293   \n",
       "113000165           -0.350696  -0.143984            -0.117934 -0.025747   \n",
       "113000166           -0.350696  -0.174067            -0.466723 -0.177293   \n",
       "113000167           -0.350696  -0.183267            -0.466723 -0.177293   \n",
       "113000168           -0.350696  -0.178973            -0.466723 -0.177293   \n",
       "\n",
       "             degree  \n",
       "id_t                 \n",
       "113000164 -0.494307  \n",
       "113000165 -0.039946  \n",
       "113000166 -0.494307  \n",
       "113000167 -0.494307  \n",
       "113000168 -0.494307  "
      ]
     },
     "execution_count": 47,
     "metadata": {},
     "output_type": "execute_result"
    }
   ],
   "source": [
    "cluster_scaled.head()"
   ]
  },
  {
   "cell_type": "code",
   "execution_count": 48,
   "metadata": {},
   "outputs": [
    {
     "data": {
      "text/plain": [
       "<matplotlib.axes._subplots.AxesSubplot at 0x1a17320990>"
      ]
     },
     "execution_count": 48,
     "metadata": {},
     "output_type": "execute_result"
    },
    {
     "data": {
      "image/png": "[encoded data removed]",
      "text/plain": [
       "<Figure size 432x288 with 2 Axes>"
      ]
     },
     "metadata": {},
     "output_type": "display_data"
    }
   ],
   "source": [
    "data_corr = cluster.corr()\n",
    "\n",
    "import seaborn as sb ##includes convenient heatmaps and boxplots\n",
    "sb.heatmap(data_corr, cmap = 'bwr') #heatmap of correlation matrix"
   ]
  },
  {
   "cell_type": "code",
   "execution_count": 63,
   "metadata": {},
   "outputs": [],
   "source": [
    "#split data into train and test sets\n",
    "clus_train, clus_test = sk.model_selection.train_test_split(cluster_scaled, test_size=0.3, random_state=123)"
   ]
  },
  {
   "cell_type": "code",
   "execution_count": 69,
   "metadata": {},
   "outputs": [
    {
     "data": {
      "text/plain": [
       "Text(0.5,1,'Selecting k with the Elbow Method')"
      ]
     },
     "execution_count": 69,
     "metadata": {},
     "output_type": "execute_result"
    },
    {
     "data": {
      "image/png": "[encoded data removed]",
      "text/plain": [
       "<Figure size 432x288 with 1 Axes>"
      ]
     },
     "metadata": {},
     "output_type": "display_data"
    }
   ],
   "source": [
    "import scipy as sp\n",
    "\n",
    "clusters = range(1,10)\n",
    "meandist=[]\n",
    "\n",
    "for k in clusters:\n",
    "    model = sk.cluster.KMeans(n_clusters = k)\n",
    "    model.fit(clus_train)\n",
    "    clusassign=model.predict(clus_train)\n",
    "    meandist.append(sum(np.min(sp.spatial.distance.cdist(clus_train,model.cluster_centers_,'euclidean'),axis=1))/clus_train.shape[0])\n",
    "    \n",
    "plt.plot(clusters, meandist)\n",
    "plt.xlabel('Number of clusters')\n",
    "plt.ylabel('Average distance')\n",
    "plt.title('Selecting k with the Elbow Method')\n",
    "\n"
   ]
  },
  {
   "cell_type": "markdown",
   "metadata": {},
   "source": [
    "# Evaluating K Means clustering performance using elbow method"
   ]
  },
  {
   "cell_type": "code",
   "execution_count": 56,
   "metadata": {},
   "outputs": [
    {
     "data": {
      "text/plain": [
       "([<matplotlib.axis.XTick at 0x1a149f7c90>,\n",
       "  <matplotlib.axis.XTick at 0x1a15c4c590>,\n",
       "  <matplotlib.axis.XTick at 0x1a15c4cb10>,\n",
       "  <matplotlib.axis.XTick at 0x1a15ca7b50>,\n",
       "  <matplotlib.axis.XTick at 0x1a15c8a150>,\n",
       "  <matplotlib.axis.XTick at 0x1a15c8a710>,\n",
       "  <matplotlib.axis.XTick at 0x1a15c8acd0>,\n",
       "  <matplotlib.axis.XTick at 0x1a15c8c2d0>,\n",
       "  <matplotlib.axis.XTick at 0x1a15c8c890>,\n",
       "  <matplotlib.axis.XTick at 0x1a15c8a810>,\n",
       "  <matplotlib.axis.XTick at 0x1a15c8c550>,\n",
       "  <matplotlib.axis.XTick at 0x1a15c68110>,\n",
       "  <matplotlib.axis.XTick at 0x1a15c686d0>,\n",
       "  <matplotlib.axis.XTick at 0x1a15c68c90>,\n",
       "  <matplotlib.axis.XTick at 0x1a15c91290>,\n",
       "  <matplotlib.axis.XTick at 0x1a15c91850>,\n",
       "  <matplotlib.axis.XTick at 0x1a15c91e10>,\n",
       "  <matplotlib.axis.XTick at 0x1a16ed0410>],\n",
       " <a list of 18 Text xticklabel objects>)"
      ]
     },
     "execution_count": 56,
     "metadata": {},
     "output_type": "execute_result"
    },
    {
     "data": {
      "image/png": "[encoded data removed]",
      "text/plain": [
       "<Figure size 1080x360 with 1 Axes>"
      ]
     },
     "metadata": {},
     "output_type": "display_data"
    }
   ],
   "source": [
    "from sklearn.cluster import KMeans\n",
    "\n",
    "\n",
    "# Convert DataFrame to matrix\n",
    "mat = cluster_scaled.values\n",
    "distorsions = []\n",
    "x = range(2, 20)\n",
    "for k in x:\n",
    "    #Perform K Means\n",
    "    kmeans = sk.cluster.KMeans(n_clusters=k)\n",
    "    kmeans.fit(mat)\n",
    "    distorsions.append(kmeans.inertia_)\n",
    "\n",
    "fig = plt.figure(figsize=(15, 5))\n",
    "plt.plot(x, distorsions)\n",
    "plt.grid(True)\n",
    "plt.title('Elbow curve')\n",
    "plt.show\n",
    "plt.xticks(x)"
   ]
  },
  {
   "cell_type": "markdown",
   "metadata": {},
   "source": [
    "# Run K Means and assign centroids to transactions"
   ]
  },
  {
   "cell_type": "code",
   "execution_count": 53,
   "metadata": {},
   "outputs": [],
   "source": [
    "# Using sklearn\n",
    "km = sk.cluster.KMeans(n_clusters=5)\n",
    "km.fit(mat)\n",
    "# Get cluster assignment labels\n",
    "labels = km.labels_\n",
    "# Format results as a DataFrame\n",
    "data = {'transaction_id':cluster_scaled.index,'cluster_label':labels}\n",
    "results = pd.DataFrame(data)"
   ]
  },
  {
   "cell_type": "code",
   "execution_count": 54,
   "metadata": {},
   "outputs": [
    {
     "name": "stdout",
     "output_type": "stream",
     "text": [
      "<class 'pandas.core.frame.DataFrame'>\n",
      "RangeIndex: 1600 entries, 0 to 1599\n",
      "Data columns (total 2 columns):\n",
      "cluster_label     1600 non-null int32\n",
      "transaction_id    1600 non-null int64\n",
      "dtypes: int32(1), int64(1)\n",
      "memory usage: 18.8 KB\n"
     ]
    }
   ],
   "source": [
    "results.info()"
   ]
  },
  {
   "cell_type": "code",
   "execution_count": 55,
   "metadata": {},
   "outputs": [
    {
     "data": {
      "text/html": [
       "<div>\n",
       "<style scoped>\n",
       "    .dataframe tbody tr th:only-of-type {\n",
       "        vertical-align: middle;\n",
       "    }\n",
       "\n",
       "    .dataframe tbody tr th {\n",
       "        vertical-align: top;\n",
       "    }\n",
       "\n",
       "    .dataframe thead th {\n",
       "        text-align: right;\n",
       "    }\n",
       "</style>\n",
       "<table border=\"1\" class=\"dataframe\">\n",
       "  <thead>\n",
       "    <tr style=\"text-align: right;\">\n",
       "      <th></th>\n",
       "      <th>cluster_label</th>\n",
       "      <th>transaction_id</th>\n",
       "    </tr>\n",
       "  </thead>\n",
       "  <tbody>\n",
       "    <tr>\n",
       "      <th>0</th>\n",
       "      <td>2</td>\n",
       "      <td>113000164</td>\n",
       "    </tr>\n",
       "    <tr>\n",
       "      <th>1</th>\n",
       "      <td>2</td>\n",
       "      <td>113000165</td>\n",
       "    </tr>\n",
       "    <tr>\n",
       "      <th>2</th>\n",
       "      <td>2</td>\n",
       "      <td>113000166</td>\n",
       "    </tr>\n",
       "    <tr>\n",
       "      <th>3</th>\n",
       "      <td>2</td>\n",
       "      <td>113000167</td>\n",
       "    </tr>\n",
       "    <tr>\n",
       "      <th>4</th>\n",
       "      <td>2</td>\n",
       "      <td>113000168</td>\n",
       "    </tr>\n",
       "  </tbody>\n",
       "</table>\n",
       "</div>"
      ],
      "text/plain": [
       "   cluster_label  transaction_id\n",
       "0              2       113000164\n",
       "1              2       113000165\n",
       "2              2       113000166\n",
       "3              2       113000167\n",
       "4              2       113000168"
      ]
     },
     "execution_count": 55,
     "metadata": {},
     "output_type": "execute_result"
    }
   ],
   "source": [
    "results.head()"
   ]
  },
  {
   "cell_type": "markdown",
   "metadata": {},
   "source": [
    "# Trying to visualize K Means"
   ]
  },
  {
   "cell_type": "code",
   "execution_count": 58,
   "metadata": {},
   "outputs": [
    {
     "data": {
      "image/png": "[encoded data removed]",
      "text/plain": [
       "<Figure size 432x288 with 1 Axes>"
      ]
     },
     "metadata": {},
     "output_type": "display_data"
    },
    {
     "data": {
      "image/png": "[encoded data removed]",
      "text/plain": [
       "<Figure size 432x288 with 1 Axes>"
      ]
     },
     "metadata": {},
     "output_type": "display_data"
    }
   ],
   "source": [
    "import pylab as pl\n",
    "\n",
    "pca = sk.decomposition.PCA(n_components=2).fit(mat)\n",
    "pca_2d = pca.transform(mat)\n",
    "pl.figure('Reference Plot')\n",
    "pl.scatter(pca_2d[:, 0], pca_2d[:, 1])\n",
    "\n",
    "km = sk.cluster.KMeans(n_clusters=4)\n",
    "km.fit(mat)\n",
    "pl.figure('K-means with 4 clusters')\n",
    "pl.scatter(pca_2d[:, 0], pca_2d[:, 1], c=kmeans.labels_)\n",
    "pl.show()\n",
    "\n"
   ]
  },
  {
   "cell_type": "code",
   "execution_count": null,
   "metadata": {},
   "outputs": [],
   "source": [
    "from sklearn.manifold import TSNE\n",
    "\n",
    "mat_tsne = TSNE(n_components=2).fit_transform(mat)"
   ]
  },
  {
   "cell_type": "markdown",
   "metadata": {},
   "source": [
    "# Finding users by using heuristic measures"
   ]
  },
  {
   "cell_type": "code",
   "execution_count": 160,
   "metadata": {},
   "outputs": [],
   "source": [
    "from collections import defaultdict\n",
    "\n",
    "users_dict = defaultdict(lambda: {'iadr': set(), 'oadr': set()})\n",
    "address_dict = defaultdict(lambda: {'user':set()})"
   ]
  },
  {
   "cell_type": "code",
   "execution_count": 178,
   "metadata": {},
   "outputs": [
    {
     "data": {
      "text/html": [
       "<div>\n",
       "<style scoped>\n",
       "    .dataframe tbody tr th:only-of-type {\n",
       "        vertical-align: middle;\n",
       "    }\n",
       "\n",
       "    .dataframe tbody tr th {\n",
       "        vertical-align: top;\n",
       "    }\n",
       "\n",
       "    .dataframe thead th {\n",
       "        text-align: right;\n",
       "    }\n",
       "</style>\n",
       "<table border=\"1\" class=\"dataframe\">\n",
       "  <thead>\n",
       "    <tr style=\"text-align: right;\">\n",
       "      <th></th>\n",
       "      <th>iadr</th>\n",
       "      <th>id_t</th>\n",
       "      <th>id_txi</th>\n",
       "      <th>id_txo_in</th>\n",
       "      <th>id_txo_out</th>\n",
       "      <th>input_val</th>\n",
       "      <th>oadr</th>\n",
       "      <th>output_val</th>\n",
       "    </tr>\n",
       "  </thead>\n",
       "  <tbody>\n",
       "    <tr>\n",
       "      <th>0</th>\n",
       "      <td>1N8GuEfDx4yUn58uQtTghFkhahknqJjsuM</td>\n",
       "      <td>113001822</td>\n",
       "      <td>449169903</td>\n",
       "      <td>876434800</td>\n",
       "      <td>876895800</td>\n",
       "      <td>2.32804</td>\n",
       "      <td>12FNes2xBtNGJBAeVKkKeo363XxK3EcG8r</td>\n",
       "      <td>9.38549</td>\n",
       "    </tr>\n",
       "    <tr>\n",
       "      <th>1</th>\n",
       "      <td>1Bo4qMkRnxCNhCudGLQiS2PCeaYVRgna3x</td>\n",
       "      <td>113001822</td>\n",
       "      <td>449169902</td>\n",
       "      <td>876435041</td>\n",
       "      <td>876895800</td>\n",
       "      <td>2.29546</td>\n",
       "      <td>12FNes2xBtNGJBAeVKkKeo363XxK3EcG8r</td>\n",
       "      <td>9.38549</td>\n",
       "    </tr>\n",
       "    <tr>\n",
       "      <th>2</th>\n",
       "      <td>1MH4qxb8FjuzzMNq7RT8AGwowJLtNmwywe</td>\n",
       "      <td>113001822</td>\n",
       "      <td>449169901</td>\n",
       "      <td>876433818</td>\n",
       "      <td>876895800</td>\n",
       "      <td>1.31917</td>\n",
       "      <td>12FNes2xBtNGJBAeVKkKeo363XxK3EcG8r</td>\n",
       "      <td>9.38549</td>\n",
       "    </tr>\n",
       "    <tr>\n",
       "      <th>3</th>\n",
       "      <td>13oh25pY9GuN4aBQGeoYwcfBMQY1YCwu5s</td>\n",
       "      <td>113001822</td>\n",
       "      <td>449169900</td>\n",
       "      <td>876433463</td>\n",
       "      <td>876895800</td>\n",
       "      <td>1.25242</td>\n",
       "      <td>12FNes2xBtNGJBAeVKkKeo363XxK3EcG8r</td>\n",
       "      <td>9.38549</td>\n",
       "    </tr>\n",
       "    <tr>\n",
       "      <th>4</th>\n",
       "      <td>19pKKg6mRS2VsLy9qfzuGAHXTUukQvVrTT</td>\n",
       "      <td>113001822</td>\n",
       "      <td>449169899</td>\n",
       "      <td>876434908</td>\n",
       "      <td>876895800</td>\n",
       "      <td>1.20560</td>\n",
       "      <td>12FNes2xBtNGJBAeVKkKeo363XxK3EcG8r</td>\n",
       "      <td>9.38549</td>\n",
       "    </tr>\n",
       "  </tbody>\n",
       "</table>\n",
       "</div>"
      ],
      "text/plain": [
       "                                 iadr       id_t     id_txi  id_txo_in  \\\n",
       "0  1N8GuEfDx4yUn58uQtTghFkhahknqJjsuM  113001822  449169903  876434800   \n",
       "1  1Bo4qMkRnxCNhCudGLQiS2PCeaYVRgna3x  113001822  449169902  876435041   \n",
       "2  1MH4qxb8FjuzzMNq7RT8AGwowJLtNmwywe  113001822  449169901  876433818   \n",
       "3  13oh25pY9GuN4aBQGeoYwcfBMQY1YCwu5s  113001822  449169900  876433463   \n",
       "4  19pKKg6mRS2VsLy9qfzuGAHXTUukQvVrTT  113001822  449169899  876434908   \n",
       "\n",
       "   id_txo_out  input_val                                oadr  output_val  \n",
       "0   876895800    2.32804  12FNes2xBtNGJBAeVKkKeo363XxK3EcG8r     9.38549  \n",
       "1   876895800    2.29546  12FNes2xBtNGJBAeVKkKeo363XxK3EcG8r     9.38549  \n",
       "2   876895800    1.31917  12FNes2xBtNGJBAeVKkKeo363XxK3EcG8r     9.38549  \n",
       "3   876895800    1.25242  12FNes2xBtNGJBAeVKkKeo363XxK3EcG8r     9.38549  \n",
       "4   876895800    1.20560  12FNes2xBtNGJBAeVKkKeo363XxK3EcG8r     9.38549  "
      ]
     },
     "execution_count": 178,
     "metadata": {},
     "output_type": "execute_result"
    }
   ],
   "source": [
    "iadr = (\n",
    "    df.groupby('id_t')\n",
    "    .agg({\n",
    "        'iadr': 'nunique't    \n",
    "    })\n",
    ")\n",
    "\n",
    "oadr\n",
    "\n",
    "# users_dict = {user: iadr, oadr for (user, iadr, oadr) in df['id_']}\n",
    "\n",
    "df.head()"
   ]
  },
  {
   "cell_type": "code",
   "execution_count": 180,
   "metadata": {},
   "outputs": [
    {
     "name": "stdout",
     "output_type": "stream",
     "text": [
      "[1, 2]\n",
      "[1]\n",
      "[1, 2]\n",
      "[]\n"
     ]
    }
   ],
   "source": [
    "iadrs_to_trans_ids = {\n",
    "    1: [7, 8],\n",
    "    2: [7, 9]\n",
    "}\n",
    "\n",
    "trans_ids_to_iadrs = {\n",
    "    7: [1, 2],\n",
    "    8: [1],\n",
    "    9: [2]\n",
    "}\n",
    "\n",
    "to_inv = [1]\n",
    "while to_inv:\n",
    "    for id_t in iadrs_to_trans_ids[to_inv.pop()]:\n",
    "        to_inv = trans_ids_to_iadrs[id_t]\n",
    "        print(to_inv)\n"
   ]
  },
  {
   "cell_type": "code",
   "execution_count": 147,
   "metadata": {},
   "outputs": [
    {
     "data": {
      "text/plain": [
       "defaultdict(<function __main__.<lambda>>,\n",
       "            {123: {'inputs': {1, 2, 3, 4, 5}, 'outputs': {3, 4, 5, 6}}})"
      ]
     },
     "execution_count": 147,
     "metadata": {},
     "output_type": "execute_result"
    }
   ],
   "source": [
    "u = 123\n",
    "inputs = [1,2,3,4,5]\n",
    "outputs = [3,4,5,6]\n",
    "\n",
    "users_dict[u]['in_adr'].update(set(inputs))\n",
    "users_dict[u]['out_adr'].update(set(outputs))"
   ]
  },
  {
   "cell_type": "markdown",
   "metadata": {},
   "source": [
    "# Determining statistics of inputs, outputs of a transaction"
   ]
  },
  {
   "cell_type": "code",
   "execution_count": null,
   "metadata": {},
   "outputs": [],
   "source": [
    "tx_ids = []\n",
    "tx_id_val = []\n",
    "txo_in_ids = []\n",
    "txo_out_ids = []\n",
    "iadr = []\n",
    "oadr = []\n",
    "txi_ids = []\n",
    "\n",
    "\n",
    "for val in df.iadr.value_counts().iteritems():\n",
    "    iadr.append(val[0])\n",
    "\n",
    "for val in df.id_txi.value_counts().iteritems():\n",
    "    txi_ids.append(val[0])\n",
    "    \n",
    "    \n",
    "for val in df.oadr.value_counts().iteritems():\n",
    "    oadr.append(val[0])\n",
    "    \n",
    "for val in df.id_t.value_counts().iteritems():\n",
    "    tx_ids.append(val[0])\n",
    "    data = df[df.id_t==val[0]]\n",
    "    tx_id_val.append(data.output_val.sum())\n",
    "    \n",
    "\n",
    "for val in df.id_txo_in.value_counts().iteritems():\n",
    "    txo_in_ids.append(val[0])\n",
    "    \n",
    "for val in df.id_txo_out.value_counts().iteritems():\n",
    "    txo_out_ids.append(val[0])\n"
   ]
  },
  {
   "cell_type": "code",
   "execution_count": null,
   "metadata": {},
   "outputs": [],
   "source": [
    "print(len(txo_in_ids))\n",
    "print(len(txi_ids))\n",
    "print(len(tx_ids))\n",
    "print(len(txo_out_ids))"
   ]
  },
  {
   "cell_type": "code",
   "execution_count": null,
   "metadata": {},
   "outputs": [],
   "source": [
    "matches = set(txo_in_ids).intersection(txo_out_ids)\n",
    "print(len(matches))"
   ]
  },
  {
   "cell_type": "code",
   "execution_count": null,
   "metadata": {},
   "outputs": [],
   "source": [
    "print(len(iadr))\n",
    "print(len(oadr))"
   ]
  },
  {
   "cell_type": "code",
   "execution_count": null,
   "metadata": {},
   "outputs": [],
   "source": [
    "matches = set(iadr).intersection(oadr)\n",
    "len(matches)"
   ]
  },
  {
   "cell_type": "markdown",
   "metadata": {},
   "source": [
    "# Visualising the database using iGraph\n"
   ]
  },
  {
   "cell_type": "code",
   "execution_count": null,
   "metadata": {},
   "outputs": [],
   "source": [
    "import igraph\n",
    "import matplotlib.pyplot as plt\n",
    "import networkx as nx"
   ]
  },
  {
   "cell_type": "code",
   "execution_count": null,
   "metadata": {},
   "outputs": [],
   "source": [
    "result = query_database(get_block_data(400000,400000))\n",
    "\n",
    "tups1 = []\n",
    "tups2 = []\n",
    "for d in result:\n",
    "    tups1.append((d['id_txo_in'],d['id_t']))\n",
    "    tups2.append((d['id_t'],d['id_txo_out']))\n"
   ]
  },
  {
   "cell_type": "code",
   "execution_count": null,
   "metadata": {},
   "outputs": [],
   "source": [
    "result.get_graph()"
   ]
  },
  {
   "cell_type": "code",
   "execution_count": null,
   "metadata": {},
   "outputs": [],
   "source": [
    "ig = igraph.Graph.TupleList(tups1)\n",
    "\n",
    "visual_style = {}\n",
    "visual_style[\"vertex_size\"] = 0.5\n",
    "visual_style[\"layout\"] = \"fr\"\n",
    "\n",
    "igraph.plot(ig,**visual_style)"
   ]
  },
  {
   "cell_type": "code",
   "execution_count": null,
   "metadata": {},
   "outputs": [],
   "source": [
    "ig.vcount()"
   ]
  },
  {
   "cell_type": "code",
   "execution_count": null,
   "metadata": {},
   "outputs": [],
   "source": [
    "ig2 = igraph.Graph.TupleList(tups2, vertex_name_attr = 'tx')\n",
    "g.vs['out'] = \n",
    "igraph.plot(ig2,**visual_style)"
   ]
  },
  {
   "cell_type": "code",
   "execution_count": null,
   "metadata": {},
   "outputs": [],
   "source": [
    "g = igraph.Graph()"
   ]
  },
  {
   "cell_type": "code",
   "execution_count": null,
   "metadata": {},
   "outputs": [],
   "source": [
    "g.add_edge('A','B',weight = 20)\n"
   ]
  },
  {
   "cell_type": "code",
   "execution_count": null,
   "metadata": {},
   "outputs": [],
   "source": [
    "#Insert Transactions and value of each transaction into graph\n",
    "\n",
    "g.add_vertices(txo_out_ids)\n",
    "\n",
    "\n",
    "\n"
   ]
  },
  {
   "cell_type": "code",
   "execution_count": null,
   "metadata": {},
   "outputs": [],
   "source": [
    "g.add_vertices(txo_in_ids)"
   ]
  },
  {
   "cell_type": "code",
   "execution_count": null,
   "metadata": {},
   "outputs": [],
   "source": [
    "len(txo_out_ids)"
   ]
  },
  {
   "cell_type": "code",
   "execution_count": null,
   "metadata": {},
   "outputs": [],
   "source": [
    "len(tx_ids)"
   ]
  },
  {
   "cell_type": "code",
   "execution_count": null,
   "metadata": {},
   "outputs": [],
   "source": [
    "len(txo_in_ids)"
   ]
  },
  {
   "cell_type": "code",
   "execution_count": null,
   "metadata": {},
   "outputs": [],
   "source": [
    "g.vcount()"
   ]
  },
  {
   "cell_type": "code",
   "execution_count": null,
   "metadata": {},
   "outputs": [],
   "source": [
    "g.vs[3]"
   ]
  },
  {
   "cell_type": "code",
   "execution_count": null,
   "metadata": {},
   "outputs": [],
   "source": [
    "#Insert tx inputs into graph\n",
    "g.add_vertices(txo_in_ids)\n",
    "g.vs[\"type\"] = 'in'\n",
    "g.vs[\"in_ids\"] = txo_in_ids\n",
    "try:\n",
    "    del g.vs[\"name\"]\n",
    "except Exception: \n",
    "  pass    "
   ]
  },
  {
   "cell_type": "code",
   "execution_count": null,
   "metadata": {},
   "outputs": [],
   "source": [
    "#Insert tx outputs into graph\n",
    "g.add_vertices(txo_out_ids)\n",
    "g.vs[\"type\"] = 'out'\n",
    "g.vs[\"out_ids\"] = txo_out_ids\n",
    "try:\n",
    "    del g.vs[\"name\"]\n",
    "except Exception: \n",
    "  pass    "
   ]
  },
  {
   "cell_type": "code",
   "execution_count": null,
   "metadata": {},
   "outputs": [],
   "source": [
    "color_dict = {\"tx\": \"green\", \"in\": \"orange\", \"out\":'blue'}"
   ]
  },
  {
   "cell_type": "code",
   "execution_count": null,
   "metadata": {},
   "outputs": [],
   "source": [
    "visual_style = {}\n",
    "visual_style[\"vertex_size\"] = 2\n",
    "visual_style[\"layout\"] = \"fr\"\n",
    "visual_style[\"vertex_color\"] = [color_dict[type] for type in g.vs[\"type\"]]"
   ]
  },
  {
   "cell_type": "code",
   "execution_count": null,
   "metadata": {},
   "outputs": [],
   "source": [
    "igraph.plot(g, **visual_style)"
   ]
  },
  {
   "cell_type": "code",
   "execution_count": null,
   "metadata": {},
   "outputs": [],
   "source": [
    "tx_id = []\n",
    "for i in df.index():\n",
    "    edge = (df.ix[i, 'name1'], df.ix[i, 'name2'])\n",
    "    if edge not in edgelist:\n",
    "        edgelist.append(edge)\n",
    "        weights.append(1)\n",
    "    else:\n",
    "        weights[edgelist.index(edge)] += 1\n",
    "\n",
    "G = Graph()\n",
    "G.add_edges(edgelist)\n",
    "G.es['weight'] = weights"
   ]
  }
 ],
 "metadata": {
  "kernelspec": {
   "display_name": "Python 2",
   "language": "python",
   "name": "python2"
  },
  "language_info": {
   "codemirror_mode": {
    "name": "ipython",
    "version": 2
   },
   "file_extension": ".py",
   "mimetype": "text/x-python",
   "name": "python",
   "nbconvert_exporter": "python",
   "pygments_lexer": "ipython2",
   "version": "2.7.15"
  }
 },
 "nbformat": 4,
 "nbformat_minor": 2
}
