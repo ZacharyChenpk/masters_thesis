{
 "cells": [
  {
   "cell_type": "code",
   "execution_count": null,
   "metadata": {},
   "outputs": [],
   "source": [
    "import pandas as pd \n",
    "import numpy as np\n",
    "import sklearn.cluster as sk\n",
    "\n",
    "import py2neo\n",
    "\n",
    "import urllib3\n",
    "urllib3.disable_warnings(urllib3.exceptions.InsecureRequestWarning)\n",
    "\n",
    "df = pd.read_csv('block_400000.csv')"
   ]
  },
  {
   "cell_type": "markdown",
   "metadata": {},
   "source": [
    "# Query Database"
   ]
  },
  {
   "cell_type": "code",
   "execution_count": null,
   "metadata": {},
   "outputs": [],
   "source": [
    "def query_database(query):\n",
    "    # REMEMBER TO BE CONNECTED TO IMPERIAL WIFI!\n",
    "    graph_db = py2neo.Graph(\"https://dsi-bitcoin.doc.ic.ac.uk:7473/db/data/\", auth=(\"guest_ro\", \"imperialO_nly\"))\n",
    "    return graph_db.run(query)"
   ]
  },
  {
   "cell_type": "code",
   "execution_count": null,
   "metadata": {},
   "outputs": [],
   "source": [
    "def get_block_data(first_block, last_block):\n",
    "    query_string = \"\"\"\n",
    "                    MATCH (b:Block) <-[:MINED_IN]- (t:Tx) <-[:IN]- (txi:TxIn) <-[:UNLOCK]- (iadr:Address)\n",
    "                    WHERE b.height >= {} AND b.height <= {}\n",
    "                    MATCH (txi) <-[:SPENT]- (txo_in:TxOut) \n",
    "                    MATCH (oadr:Address) <-[:LOCK]- (txo_out:TxOut) <-[:OUT]- (t)\n",
    "                    \n",
    "                    RETURN iadr.address as iadr, oadr.address as oadr, txo_in.value as input_val, txo_out.value as output_val, ID(txo_in) as id_txo_in, ID(txi) as id_txi, ID(t) as id_t, ID(txo_out) as id_txo_out\n",
    "                    \"\"\".format(first_block, last_block)\n",
    "    return query_string"
   ]
  },
  {
   "cell_type": "code",
   "execution_count": null,
   "metadata": {},
   "outputs": [],
   "source": [
    "print(df['iadr'].value_counts().sort_values(ascending=False))"
   ]
  },
  {
   "cell_type": "code",
   "execution_count": null,
   "metadata": {},
   "outputs": [],
   "source": [
    "print(df['oadr'].value_counts().sort_values(ascending=False))"
   ]
  },
  {
   "cell_type": "code",
   "execution_count": null,
   "metadata": {},
   "outputs": [],
   "source": [
    "len(df['oadr'].value_counts().sort_values(ascending=False))"
   ]
  },
  {
   "cell_type": "code",
   "execution_count": null,
   "metadata": {},
   "outputs": [],
   "source": [
    "len(df['iadr'].value_counts().sort_values(ascending=False))"
   ]
  },
  {
   "cell_type": "code",
   "execution_count": null,
   "metadata": {},
   "outputs": [],
   "source": [
    "#Check if any columns are unique\n",
    "for column in df:\n",
    "    print(df[column].is_unique)"
   ]
  },
  {
   "cell_type": "code",
   "execution_count": null,
   "metadata": {},
   "outputs": [],
   "source": [
    "df1 = df.loc[df['iadr'] == '1BQLNJtMDKmMZ4PyqVFfRuBNvoGhjigBKF']"
   ]
  },
  {
   "cell_type": "markdown",
   "metadata": {},
   "source": [
    "# Feature extraction"
   ]
  },
  {
   "cell_type": "code",
   "execution_count": null,
   "metadata": {},
   "outputs": [],
   "source": [
    "features = np.array([], dtype=np.int64).reshape(0,8)\n",
    "for val in df.id_t.value_counts().iteritems():\n",
    "    data = df[df.id_t==val[0]]\n",
    "    if data.input_val.sum() == 0:\n",
    "        continue\n",
    "    f = feature_extract(data)\n",
    "    features = np.concatenate([features,f])  "
   ]
  },
  {
   "cell_type": "code",
   "execution_count": null,
   "metadata": {},
   "outputs": [],
   "source": [
    "def feature_extract(id_t,df):\n",
    "    total_val = df.input_val.sum()\n",
    "    num_in = df.nunique().id_txi\n",
    "    num_out = df.nunique().id_txo_out\n",
    "    ratio = num_in/float(num_out)\n",
    "    degree = num_in + num_out\n",
    "    num_unique_addr_in = df.nunique().iadr\n",
    "    num_unique_addr_out = df.nunique().oadr\n",
    "    data =  {'id':id_t,'total_val':total_val,'ratio':ratio,'num_in':num_in,'num_out':num_out,'degree':degree,'num_unique_addr_in':num_unique_addr_in,'num_unique_addr_out':num_unique_addr_out}\n",
    "    df_ = pd.DataFrame(data,index=[0])\n",
    "    return df_\n",
    "    "
   ]
  },
  {
   "cell_type": "code",
   "execution_count": null,
   "metadata": {},
   "outputs": [],
   "source": [
    "col_names =  ['id','total_val','ratio','num_in','num_out','degree','num_unique_addr_in','num_unique_addr_out']\n",
    "features  = pd.DataFrame(columns = col_names)\n",
    "tx_ids = []\n",
    "tx_id_val = []\n",
    "\n",
    "for val in df.id_t.value_counts().iteritems():\n",
    "    data = df[df.id_t==val[0]]\n",
    "    tx_ids.append(val[0])\n",
    "    tx_id_val.append(data.output_val.sum())\n",
    "    if data.input_val.sum() == 0:\n",
    "        continue\n",
    "    f = feature_extract(val[0],data)\n",
    "    features = features.append(f,'sort=True')\n",
    "    \n",
    "\n",
    "features = features.set_index('id')"
   ]
  },
  {
   "cell_type": "markdown",
   "metadata": {},
   "source": [
    "# Evaluating K Means clustering performance using elbow method"
   ]
  },
  {
   "cell_type": "code",
   "execution_count": null,
   "metadata": {},
   "outputs": [],
   "source": [
    "from sklearn.cluster import KMeans\n",
    "from matplotlib import pyplot as plt\n",
    "\n",
    "# Convert DataFrame to matrix\n",
    "mat = features.values\n",
    "distorsions = []\n",
    "x = range(2, 20)\n",
    "for k in x:\n",
    "    #Perform K Means\n",
    "    kmeans = KMeans(n_clusters=k)\n",
    "    kmeans.fit(mat)\n",
    "    distorsions.append(kmeans.inertia_)\n",
    "\n",
    "fig = plt.figure(figsize=(15, 5))\n",
    "plt.plot(x, distorsions)\n",
    "plt.grid(True)\n",
    "plt.title('Elbow curve')\n",
    "plt.show\n",
    "plt.xticks(x)"
   ]
  },
  {
   "cell_type": "markdown",
   "metadata": {},
   "source": [
    "# Run K Means and assign centroids to transactions"
   ]
  },
  {
   "cell_type": "code",
   "execution_count": null,
   "metadata": {},
   "outputs": [],
   "source": [
    "# Convert DataFrame to matrix\n",
    "mat = features.values\n",
    "# Using sklearn\n",
    "km = sk.KMeans(n_clusters=4)\n",
    "km.fit(mat)\n",
    "# Get cluster assignment labels\n",
    "labels = km.labels_\n",
    "# Format results as a DataFrame\n",
    "data = {'transaction_id':features.index,'cluster_label':labels}\n",
    "results = pandas.DataFrame(data)"
   ]
  },
  {
   "cell_type": "markdown",
   "metadata": {},
   "source": [
    "# Trying to visualize K Means"
   ]
  },
  {
   "cell_type": "code",
   "execution_count": null,
   "metadata": {},
   "outputs": [],
   "source": [
    "from sklearn.decomposition import PCA\n",
    "import pylab as pl\n",
    "\n",
    "pca = PCA(n_components=2).fit(mat)\n",
    "pca_2d = pca.transform(mat)\n",
    "pl.figure('Reference Plot')\n",
    "pl.scatter(pca_2d[:, 0], pca_2d[:, 1])\n",
    "\n",
    "km = sk.KMeans(n_clusters=4)\n",
    "km.fit(mat)\n",
    "pl.figure('K-means with 4 clusters')\n",
    "pl.scatter(pca_2d[:, 0], pca_2d[:, 1], c=kmeans.labels_)\n",
    "pl.show()\n",
    "\n"
   ]
  },
  {
   "cell_type": "markdown",
   "metadata": {},
   "source": [
    "# Determining statistics of inputs, outputs of a transaction"
   ]
  },
  {
   "cell_type": "code",
   "execution_count": null,
   "metadata": {},
   "outputs": [],
   "source": [
    "tx_ids = []\n",
    "tx_id_val = []\n",
    "txo_in_ids = []\n",
    "txo_out_ids = []\n",
    "iadr = []\n",
    "oadr = []\n",
    "txi_ids = []\n",
    "\n",
    "\n",
    "for val in df.iadr.value_counts().iteritems():\n",
    "    iadr.append(val[0])\n",
    "\n",
    "for val in df.id_txi.value_counts().iteritems():\n",
    "    txi_ids.append(val[0])\n",
    "    \n",
    "    \n",
    "for val in df.oadr.value_counts().iteritems():\n",
    "    oadr.append(val[0])\n",
    "    \n",
    "for val in df.id_t.value_counts().iteritems():\n",
    "    tx_ids.append(val[0])\n",
    "    data = df[df.id_t==val[0]]\n",
    "    tx_id_val.append(data.output_val.sum())\n",
    "    \n",
    "\n",
    "for val in df.id_txo_in.value_counts().iteritems():\n",
    "    txo_in_ids.append(val[0])\n",
    "    \n",
    "for val in df.id_txo_out.value_counts().iteritems():\n",
    "    txo_out_ids.append(val[0])\n"
   ]
  },
  {
   "cell_type": "code",
   "execution_count": null,
   "metadata": {},
   "outputs": [],
   "source": [
    "print(len(txo_in_ids))\n",
    "print(len(txi_ids))\n",
    "print(len(tx_ids))\n",
    "print(len(txo_out_ids))"
   ]
  },
  {
   "cell_type": "code",
   "execution_count": null,
   "metadata": {},
   "outputs": [],
   "source": [
    "matches = set(txo_in_ids).intersection(txo_out_ids)\n",
    "print(len(matches))"
   ]
  },
  {
   "cell_type": "code",
   "execution_count": null,
   "metadata": {},
   "outputs": [],
   "source": [
    "print(len(iadr))\n",
    "print(len(oadr))"
   ]
  },
  {
   "cell_type": "code",
   "execution_count": null,
   "metadata": {},
   "outputs": [],
   "source": [
    "matches = set(iadr).intersection(oadr)\n",
    "len(matches)"
   ]
  },
  {
   "cell_type": "markdown",
   "metadata": {},
   "source": [
    "# Visualising the database using iGraph\n"
   ]
  },
  {
   "cell_type": "code",
   "execution_count": null,
   "metadata": {},
   "outputs": [],
   "source": [
    "import igraph\n",
    "import matplotlib.pyplot as plt\n",
    "import networkx as nx"
   ]
  },
  {
   "cell_type": "code",
   "execution_count": null,
   "metadata": {},
   "outputs": [],
   "source": [
    "result = query_database(get_block_data(339000,339000))\n",
    "\n",
    "tups1 = []\n",
    "tups2 = []\n",
    "for d in result:\n",
    "    tups1.append((d['id_txo_in'],d['id_t']))\n",
    "    tups2.append((d['id_t'],d['id_txo_out']))\n"
   ]
  },
  {
   "cell_type": "code",
   "execution_count": null,
   "metadata": {},
   "outputs": [],
   "source": [
    "result.get_graph()"
   ]
  },
  {
   "cell_type": "code",
   "execution_count": null,
   "metadata": {},
   "outputs": [],
   "source": [
    "ig = igraph.Graph.TupleList(tups1)\n",
    "\n",
    "visual_style = {}\n",
    "visual_style[\"vertex_size\"] = 0.5\n",
    "visual_style[\"layout\"] = \"fr\"\n",
    "\n",
    "igraph.plot(ig,**visual_style)"
   ]
  },
  {
   "cell_type": "code",
   "execution_count": null,
   "metadata": {},
   "outputs": [],
   "source": [
    "ig.vcount()"
   ]
  },
  {
   "cell_type": "code",
   "execution_count": null,
   "metadata": {},
   "outputs": [],
   "source": [
    "ig2 = igraph.Graph.TupleList(tups2, vertex_name_attr = 'tx')\n",
    "g.vs['out'] = \n",
    "igraph.plot(ig2,**visual_style)"
   ]
  },
  {
   "cell_type": "code",
   "execution_count": null,
   "metadata": {},
   "outputs": [],
   "source": [
    "g = igraph.Graph()"
   ]
  },
  {
   "cell_type": "code",
   "execution_count": null,
   "metadata": {},
   "outputs": [],
   "source": [
    "g.add_edge('A','B',weight = 20)\n"
   ]
  },
  {
   "cell_type": "code",
   "execution_count": null,
   "metadata": {},
   "outputs": [],
   "source": [
    "#Insert Transactions and value of each transaction into graph\n",
    "\n",
    "g.add_vertices(txo_out_ids)\n",
    "\n",
    "\n",
    "\n"
   ]
  },
  {
   "cell_type": "code",
   "execution_count": null,
   "metadata": {},
   "outputs": [],
   "source": [
    "g.add_vertices(txo_in_ids)"
   ]
  },
  {
   "cell_type": "code",
   "execution_count": null,
   "metadata": {},
   "outputs": [],
   "source": [
    "len(txo_out_ids)"
   ]
  },
  {
   "cell_type": "code",
   "execution_count": null,
   "metadata": {},
   "outputs": [],
   "source": [
    "len(tx_ids)"
   ]
  },
  {
   "cell_type": "code",
   "execution_count": null,
   "metadata": {},
   "outputs": [],
   "source": [
    "len(txo_in_ids)"
   ]
  },
  {
   "cell_type": "code",
   "execution_count": null,
   "metadata": {},
   "outputs": [],
   "source": [
    "g.vcount()"
   ]
  },
  {
   "cell_type": "code",
   "execution_count": null,
   "metadata": {},
   "outputs": [],
   "source": [
    "g.vs[3]"
   ]
  },
  {
   "cell_type": "code",
   "execution_count": null,
   "metadata": {},
   "outputs": [],
   "source": [
    "#Insert tx inputs into graph\n",
    "g.add_vertices(txo_in_ids)\n",
    "g.vs[\"type\"] = 'in'\n",
    "g.vs[\"in_ids\"] = txo_in_ids\n",
    "try:\n",
    "    del g.vs[\"name\"]\n",
    "except Exception: \n",
    "  pass    "
   ]
  },
  {
   "cell_type": "code",
   "execution_count": null,
   "metadata": {},
   "outputs": [],
   "source": [
    "#Insert tx outputs into graph\n",
    "g.add_vertices(txo_out_ids)\n",
    "g.vs[\"type\"] = 'out'\n",
    "g.vs[\"out_ids\"] = txo_out_ids\n",
    "try:\n",
    "    del g.vs[\"name\"]\n",
    "except Exception: \n",
    "  pass    "
   ]
  },
  {
   "cell_type": "code",
   "execution_count": null,
   "metadata": {},
   "outputs": [],
   "source": [
    "color_dict = {\"tx\": \"green\", \"in\": \"orange\", \"out\":'blue'}"
   ]
  },
  {
   "cell_type": "code",
   "execution_count": null,
   "metadata": {},
   "outputs": [],
   "source": [
    "visual_style = {}\n",
    "visual_style[\"vertex_size\"] = 2\n",
    "visual_style[\"layout\"] = \"fr\"\n",
    "visual_style[\"vertex_color\"] = [color_dict[type] for type in g.vs[\"type\"]]"
   ]
  },
  {
   "cell_type": "code",
   "execution_count": null,
   "metadata": {},
   "outputs": [],
   "source": [
    "igraph.plot(g, **visual_style)"
   ]
  },
  {
   "cell_type": "code",
   "execution_count": null,
   "metadata": {},
   "outputs": [],
   "source": [
    "tx_id = []\n",
    "for i in df.index():\n",
    "    edge = (df.ix[i, 'name1'], df.ix[i, 'name2'])\n",
    "    if edge not in edgelist:\n",
    "        edgelist.append(edge)\n",
    "        weights.append(1)\n",
    "    else:\n",
    "        weights[edgelist.index(edge)] += 1\n",
    "\n",
    "G = Graph()\n",
    "G.add_edges(edgelist)\n",
    "G.es['weight'] = weights"
   ]
  }
 ],
 "metadata": {
  "kernelspec": {
   "display_name": "Python 2",
   "language": "python",
   "name": "python2"
  },
  "language_info": {
   "codemirror_mode": {
    "name": "ipython",
    "version": 2
   },
   "file_extension": ".py",
   "mimetype": "text/x-python",
   "name": "python",
   "nbconvert_exporter": "python",
   "pygments_lexer": "ipython2",
   "version": "2.7.15"
  }
 },
 "nbformat": 4,
 "nbformat_minor": 2
}
