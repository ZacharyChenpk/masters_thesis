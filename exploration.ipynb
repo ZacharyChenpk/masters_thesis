{
 "cells": [
  {
   "cell_type": "code",
   "execution_count": null,
   "metadata": {},
   "outputs": [],
   "source": [
    "import pandas as pd \n",
    "import numpy as np\n",
    "import sklearn as sk\n",
    "from matplotlib import pyplot as plt\n",
    "import py2neo\n",
    "\n",
    "import urllib3\n",
    "urllib3.disable_warnings(urllib3.exceptions.InsecureRequestWarning)"
   ]
  },
  {
   "cell_type": "markdown",
   "metadata": {},
   "source": [
    "# Query Database"
   ]
  },
  {
   "cell_type": "code",
   "execution_count": null,
   "metadata": {},
   "outputs": [],
   "source": [
    "def query_database(query):\n",
    "    # REMEMBER TO BE CONNECTED TO IMPERIAL WIFI!\n",
    "    graph_db = py2neo.Graph(\"https://dsi-bitcoin.doc.ic.ac.uk:7473/db/data/\", auth=(\"guest_ro\", \"imperialO_nly\"))\n",
    "    return graph_db.run(query)"
   ]
  },
  {
   "cell_type": "code",
   "execution_count": null,
   "metadata": {},
   "outputs": [],
   "source": [
    "def get_block_data(first_block, last_block):\n",
    "    query_string = \"\"\"\n",
    "                    MATCH (b:Block) <-[:MINED_IN]- (t:Tx) <-[:IN]- (txi:TxIn) <-[:UNLOCK]- (iadr:Address)\n",
    "                    WHERE b.height >= {} AND b.height <= {}\n",
    "                    MATCH (txi) <-[:SPENT]- (txo_in:TxOut) \n",
    "                    MATCH (oadr:Address) <-[:LOCK]- (txo_out:TxOut) <-[:OUT]- (t)\n",
    "                    \n",
    "                    RETURN iadr.address as iadr, oadr.address as oadr, txo_in.value as input_val, txo_out.value as output_val, ID(txo_in) as id_txo_in, ID(txi) as id_txi, ID(t) as id_t, ID(txo_out) as id_txo_out\n",
    "                    \"\"\".format(first_block, last_block)\n",
    "    return query_string"
   ]
  },
  {
   "cell_type": "code",
   "execution_count": null,
   "metadata": {},
   "outputs": [],
   "source": [
    "df = query_database(get_block_data(400000,400000)).to_data_frame()"
   ]
  },
  {
   "cell_type": "code",
   "execution_count": null,
   "metadata": {},
   "outputs": [],
   "source": [
    "#Check if any columns are unique\n",
    "for column in df:\n",
    "    print(df[column].is_unique)"
   ]
  },
  {
   "cell_type": "code",
   "execution_count": null,
   "metadata": {},
   "outputs": [],
   "source": [
    "print(df['oadr'].value_counts().sort_values(ascending=False))\n",
    "df1 = df.loc[df['iadr'] == '1BQLNJtMDKmMZ4PyqVFfRuBNvoGhjigBKF']"
   ]
  },
  {
   "cell_type": "markdown",
   "metadata": {},
   "source": [
    "# CLUSTERING"
   ]
  },
  {
   "cell_type": "code",
   "execution_count": null,
   "metadata": {},
   "outputs": [],
   "source": [
    "cluster = (\n",
    "    df.groupby('id_t')\n",
    "    .agg({\n",
    "        'input_val': 'sum',\n",
    "        'id_txi': 'nunique',\n",
    "        'id_txo_out': 'nunique',\n",
    "        'iadr': 'nunique',\n",
    "        'oadr': 'nunique',       \n",
    "    }).rename(columns = {\n",
    "        'iadr':'num_unique_addr_in',\n",
    "        'oadr':'num_unique_addr_out'\n",
    "    })\n",
    ")\n",
    "\n",
    "cluster['ratio'] = cluster['id_txi'] / cluster['id_txo_out']\n",
    "cluster['degree'] = cluster['id_txi'] + cluster['id_txo_out'] \n",
    "\n",
    "cluster = cluster.drop(columns=['id_txi', 'id_txo_out'])"
   ]
  },
  {
   "cell_type": "code",
   "execution_count": null,
   "metadata": {},
   "outputs": [],
   "source": []
  },
  {
   "cell_type": "code",
   "execution_count": null,
   "metadata": {},
   "outputs": [],
   "source": [
    "cluster.head()"
   ]
  },
  {
   "cell_type": "code",
   "execution_count": null,
   "metadata": {},
   "outputs": [],
   "source": [
    "#Normalize data\n",
    "\n",
    "scaler = sk.preprocessing.StandardScaler()\n",
    "scaled_cluster = scaler.fit_transform(cluster)\n",
    "cluster_scaled = pd.DataFrame(scaled_cluster, columns=cluster.columns, index=cluster.index)"
   ]
  },
  {
   "cell_type": "code",
   "execution_count": null,
   "metadata": {},
   "outputs": [],
   "source": [
    "cluster_scaled.head()"
   ]
  },
  {
   "cell_type": "code",
   "execution_count": null,
   "metadata": {},
   "outputs": [],
   "source": [
    "data_corr = cluster_scaled.corr()\n",
    "\n",
    "import seaborn as sb ##includes convenient heatmaps and boxplots\n",
    "sb.heatmap(data_corr, cmap = 'bwr') #heatmap of correlation matrix"
   ]
  },
  {
   "cell_type": "code",
   "execution_count": null,
   "metadata": {},
   "outputs": [],
   "source": [
    "#split data into train and test sets\n",
    "clus_train, clus_test = sk.model_selection.train_test_split(cluster_scaled, test_size=0.3, random_state=123)"
   ]
  },
  {
   "cell_type": "code",
   "execution_count": null,
   "metadata": {},
   "outputs": [],
   "source": [
    "import scipy as sp\n",
    "\n",
    "clusters = range(1,10)\n",
    "meandist=[]\n",
    "\n",
    "for k in clusters:\n",
    "    model = sk.cluster.KMeans(n_clusters = k)\n",
    "    model.fit(clus_train)\n",
    "    clusassign=model.predict(clus_train)\n",
    "    meandist.append(sum(np.min(sp.spatial.distance.cdist(clus_train,model.cluster_centers_,'euclidean'),axis=1))/clus_train.shape[0])\n",
    "    \n",
    "plt.plot(clusters, meandist)\n",
    "plt.xlabel('Number of clusters')\n",
    "plt.ylabel('Average distance')\n",
    "plt.title('Selecting k with the Elbow Method')\n",
    "\n"
   ]
  },
  {
   "cell_type": "markdown",
   "metadata": {},
   "source": [
    "# Evaluating K Means clustering performance using elbow method"
   ]
  },
  {
   "cell_type": "code",
   "execution_count": null,
   "metadata": {},
   "outputs": [],
   "source": [
    "from sklearn.cluster import KMeans\n",
    "\n",
    "\n",
    "# Convert DataFrame to matrix\n",
    "mat = cluster_scaled.values\n",
    "distorsions = []\n",
    "x = range(2, 20)\n",
    "for k in x:\n",
    "    #Perform K Means\n",
    "    kmeans = sk.cluster.KMeans(n_clusters=k)\n",
    "    kmeans.fit(mat)\n",
    "    distorsions.append(kmeans.inertia_)\n",
    "\n",
    "fig = plt.figure(figsize=(15, 5))\n",
    "plt.plot(x, distorsions)\n",
    "plt.grid(True)\n",
    "plt.title('Elbow curve')\n",
    "plt.show\n",
    "plt.xticks(x)"
   ]
  },
  {
   "cell_type": "markdown",
   "metadata": {},
   "source": [
    "# Run K Means and assign centroids to transactions"
   ]
  },
  {
   "cell_type": "code",
   "execution_count": null,
   "metadata": {},
   "outputs": [],
   "source": [
    "# Using sklearn\n",
    "km = sk.cluster.KMeans(n_clusters=5)\n",
    "km.fit(mat)\n",
    "# Get cluster assignment labels\n",
    "labels = km.labels_\n",
    "# Format results as a DataFrame\n",
    "data = {'transaction_id':cluster_scaled.index,'cluster_label':labels}\n",
    "results = pd.DataFrame(data)"
   ]
  },
  {
   "cell_type": "code",
   "execution_count": null,
   "metadata": {},
   "outputs": [],
   "source": [
    "results.info()"
   ]
  },
  {
   "cell_type": "code",
   "execution_count": null,
   "metadata": {},
   "outputs": [],
   "source": [
    "results.head()"
   ]
  },
  {
   "cell_type": "markdown",
   "metadata": {},
   "source": [
    "# Trying to visualize K Means"
   ]
  },
  {
   "cell_type": "code",
   "execution_count": null,
   "metadata": {},
   "outputs": [],
   "source": [
    "import pylab as pl\n",
    "\n",
    "pca = sk.decomposition.PCA(n_components=2).fit(mat)\n",
    "pca_2d = pca.transform(mat)\n",
    "pl.figure('Reference Plot')\n",
    "pl.scatter(pca_2d[:, 0], pca_2d[:, 1])\n",
    "\n",
    "km = sk.cluster.KMeans(n_clusters=4)\n",
    "km.fit(mat)\n",
    "pl.figure('K-means with 4 clusters')\n",
    "pl.scatter(pca_2d[:, 0], pca_2d[:, 1], c=kmeans.labels_)\n",
    "pl.show()\n",
    "\n"
   ]
  },
  {
   "cell_type": "code",
   "execution_count": null,
   "metadata": {},
   "outputs": [],
   "source": [
    "from sklearn.manifold import TSNE\n",
    "\n",
    "mat_tsne = TSNE(n_components=2).fit_transform(mat)"
   ]
  },
  {
   "cell_type": "markdown",
   "metadata": {},
   "source": [
    "# Finding users by using heuristic measures"
   ]
  },
  {
   "cell_type": "code",
   "execution_count": null,
   "metadata": {},
   "outputs": [],
   "source": [
    "from collections import defaultdict\n",
    "\n",
    "users_dict = defaultdict(lambda: {'iadr': set(), 'oadr': set()})\n",
    "address_dict = defaultdict(lambda: {'user':set()})"
   ]
  },
  {
   "cell_type": "code",
   "execution_count": null,
   "metadata": {},
   "outputs": [],
   "source": [
    "iadr = (\n",
    "    df.groupby('id_t')\n",
    "    .agg({\n",
    "        'iadr': 'nunique't    \n",
    "    })\n",
    ")\n",
    "\n",
    "# users_dict = {user: iadr, oadr for (user, iadr, oadr) in df['id_']}\n",
    "\n",
    "df.head()"
   ]
  },
  {
   "cell_type": "code",
   "execution_count": null,
   "metadata": {},
   "outputs": [],
   "source": [
    "u = 123\n",
    "inputs = [1,2,3,4,5]\n",
    "outputs = [3,4,5,6]\n",
    "\n",
    "users_dict[u]['in_adr'].update(set(inputs))\n",
    "users_dict[u]['out_adr'].update(set(outputs))"
   ]
  },
  {
   "cell_type": "code",
   "execution_count": null,
   "metadata": {},
   "outputs": [],
   "source": [
    "def iadrs_from_tx(id_t):\n",
    "    d = {\n",
    "        1: [7, 8],\n",
    "        2: [7, 9]\n",
    "    }\n",
    "    return set(d[id_t])\n",
    "\n",
    "def tx_from_iadr(iadr):\n",
    "    d = {\n",
    "        7: [1, 2],\n",
    "        8: [1],\n",
    "        9: [2],\n",
    "        10: [3]\n",
    "    }\n",
    "    return set(d[iadr])"
   ]
  },
  {
   "cell_type": "code",
   "execution_count": null,
   "metadata": {},
   "outputs": [],
   "source": [
    "def iadrs_from_tx(id_t):\n",
    "    return set(df['iadr'][df[\"id_t\"] == id_t])\n",
    "\n",
    "def oadrs_from_tx(id_t):\n",
    "    return set(df['oadr'][df[\"id_t\"] == id_t])\n",
    "\n",
    "def tx_from_iadr(iadr):\n",
    "    return set(df['id_t'][df[\"iadr\"] == iadr])\n",
    "\n",
    "def get_user(input_adr):\n",
    "    to_inv = [input_adr]\n",
    "    user_iadrs = set()\n",
    "    seen_txs = set()\n",
    "    while to_inv:\n",
    "        current_iadr = to_inv.pop(0)\n",
    "        user_iadrs.add(current_iadr)\n",
    "        for id_t in tx_from_iadr(current_iadr):\n",
    "\n",
    "            if id_t not in seen_txs:\n",
    "                \n",
    "                seen_txs.add(id_t)\n",
    "                iadrs = iadrs_from_tx(id_t)\n",
    "                to_inv += iadrs.difference(user_iadrs) #Adding addr\n",
    "                user_iadrs.update(iadrs)\n",
    "            \n",
    "    return User(user_iadrs, seen_txs)"
   ]
  },
  {
   "cell_type": "code",
   "execution_count": null,
   "metadata": {},
   "outputs": [],
   "source": [
    "users = []\n",
    "\n",
    "class User:\n",
    "    def __init__(self, iadrs, txs):\n",
    "        self.iadr = set(iadrs)\n",
    "        self.tx = set(txs)\n",
    "\n",
    "already_seen = set()\n",
    "for input_adr in df.iadr:\n",
    "    if input_adr not in already_seen:\n",
    "        user = get_user(input_adr)\n",
    "        users.append(user)\n",
    "        already_seen.update(user.iadr)\n",
    "        \n",
    "def user_from_oadr(oadr):\n",
    "    for i,user in enumerate(users):\n",
    "        if oadr in user.iadr:\n",
    "            return i"
   ]
  },
  {
   "cell_type": "code",
   "execution_count": null,
   "metadata": {},
   "outputs": [],
   "source": [
    "edges = defaultdict(int)\n",
    "\n",
    "for i,user in enumerate(users):\n",
    "    for tx_id in user.tx:\n",
    "        for oadr in oadrs_from_tx(tx_id):\n",
    "            if oadr in already_seen:\n",
    "                if(i!=user_from_oadr(oadr)):\n",
    "                    edges[(i, user_from_oadr(oadr))]+=1               "
   ]
  },
  {
   "cell_type": "code",
   "execution_count": null,
   "metadata": {},
   "outputs": [],
   "source": [
    "len(edges)"
   ]
  },
  {
   "cell_type": "code",
   "execution_count": null,
   "metadata": {},
   "outputs": [],
   "source": [
    "len(users)"
   ]
  },
  {
   "cell_type": "code",
   "execution_count": null,
   "metadata": {},
   "outputs": [],
   "source": [
    "#Average number of addresses per user\n",
    "sum(len(user) for user in users)/len(users)"
   ]
  },
  {
   "cell_type": "code",
   "execution_count": null,
   "metadata": {},
   "outputs": [],
   "source": [
    "import collections as c\n",
    "\n",
    "count = c.defaultdict(int) \n",
    "\n",
    "for user in users:\n",
    "    count[len(user)]+=1\n",
    "    "
   ]
  },
  {
   "cell_type": "code",
   "execution_count": null,
   "metadata": {},
   "outputs": [],
   "source": [
    "df.iadr.nunique()"
   ]
  },
  {
   "cell_type": "code",
   "execution_count": null,
   "metadata": {},
   "outputs": [],
   "source": [
    "plt.plot(count.keys(),count.values())"
   ]
  },
  {
   "cell_type": "code",
   "execution_count": null,
   "metadata": {},
   "outputs": [],
   "source": [
    "matches = set(df.iadr).intersection(df.oadr)\n",
    "print(matches)\n"
   ]
  },
  {
   "cell_type": "code",
   "execution_count": null,
   "metadata": {},
   "outputs": [],
   "source": []
  },
  {
   "cell_type": "markdown",
   "metadata": {},
   "source": [
    "# Determining statistics of inputs, outputs of a transaction"
   ]
  },
  {
   "cell_type": "code",
   "execution_count": null,
   "metadata": {},
   "outputs": [],
   "source": [
    "tx_ids = []\n",
    "tx_id_val = []\n",
    "txo_in_ids = []\n",
    "txo_out_ids = []\n",
    "iadr = []\n",
    "oadr = []\n",
    "txi_ids = []\n",
    "\n",
    "\n",
    "for val in df.iadr.value_counts().iteritems():\n",
    "    iadr.append(val[0])\n",
    "\n",
    "for val in df.id_txi.value_counts().iteritems():\n",
    "    txi_ids.append(val[0])\n",
    "    \n",
    "    \n",
    "for val in df.oadr.value_counts().iteritems():\n",
    "    oadr.append(val[0])\n",
    "    \n",
    "for val in df.id_t.value_counts().iteritems():\n",
    "    tx_ids.append(val[0])\n",
    "    data = df[df.id_t==val[0]]\n",
    "    tx_id_val.append(data.output_val.sum())\n",
    "    \n",
    "\n",
    "for val in df.id_txo_in.value_counts().iteritems():\n",
    "    txo_in_ids.append(val[0])\n",
    "    \n",
    "for val in df.id_txo_out.value_counts().iteritems():\n",
    "    txo_out_ids.append(val[0])\n"
   ]
  },
  {
   "cell_type": "code",
   "execution_count": null,
   "metadata": {},
   "outputs": [],
   "source": [
    "print(len(txo_in_ids))\n",
    "print(len(txi_ids))\n",
    "print(len(tx_ids))\n",
    "print(len(txo_out_ids))"
   ]
  },
  {
   "cell_type": "code",
   "execution_count": null,
   "metadata": {},
   "outputs": [],
   "source": [
    "matches = set(txo_in_ids).intersection(txo_out_ids)\n",
    "print(len(matches))"
   ]
  },
  {
   "cell_type": "code",
   "execution_count": null,
   "metadata": {},
   "outputs": [],
   "source": [
    "print(len(iadr))\n",
    "print(len(oadr))"
   ]
  },
  {
   "cell_type": "code",
   "execution_count": null,
   "metadata": {},
   "outputs": [],
   "source": [
    "matches = set(iadr).intersection(oadr)\n",
    "len(matches)"
   ]
  },
  {
   "cell_type": "markdown",
   "metadata": {},
   "source": [
    "# Visualising the database using iGraph\n"
   ]
  },
  {
   "cell_type": "code",
   "execution_count": null,
   "metadata": {},
   "outputs": [],
   "source": [
    "import igraph\n",
    "import matplotlib.pyplot as plt\n",
    "import networkx as nx"
   ]
  },
  {
   "cell_type": "code",
   "execution_count": null,
   "metadata": {},
   "outputs": [],
   "source": [
    "result = query_database(get_block_data(400000,400000))\n",
    "\n",
    "tups1 = []\n",
    "tups2 = []\n",
    "for d in result:\n",
    "    tups1.append((d['id_txo_in'],d['id_t']))\n",
    "    tups2.append((d['id_t'],d['id_txo_out']))\n"
   ]
  },
  {
   "cell_type": "code",
   "execution_count": null,
   "metadata": {},
   "outputs": [],
   "source": [
    "result.get_graph()"
   ]
  },
  {
   "cell_type": "code",
   "execution_count": null,
   "metadata": {},
   "outputs": [],
   "source": [
    "ig = igraph.Graph.TupleList(tups1)\n",
    "\n",
    "visual_style = {}\n",
    "visual_style[\"vertex_size\"] = 0.5\n",
    "visual_style[\"layout\"] = \"fr\"\n",
    "\n",
    "igraph.plot(ig,**visual_style)"
   ]
  },
  {
   "cell_type": "code",
   "execution_count": null,
   "metadata": {},
   "outputs": [],
   "source": [
    "ig.vcount()"
   ]
  },
  {
   "cell_type": "code",
   "execution_count": null,
   "metadata": {},
   "outputs": [],
   "source": [
    "ig2 = igraph.Graph.TupleList(tups2, vertex_name_attr = 'tx')\n",
    "g.vs['out'] = \n",
    "igraph.plot(ig2,**visual_style)"
   ]
  },
  {
   "cell_type": "code",
   "execution_count": null,
   "metadata": {},
   "outputs": [],
   "source": [
    "g = igraph.Graph()"
   ]
  },
  {
   "cell_type": "code",
   "execution_count": null,
   "metadata": {},
   "outputs": [],
   "source": [
    "g.add_edge('A','B',weight = 20)\n"
   ]
  },
  {
   "cell_type": "code",
   "execution_count": null,
   "metadata": {},
   "outputs": [],
   "source": [
    "#Insert Transactions and value of each transaction into graph\n",
    "\n",
    "g.add_vertices(txo_out_ids)\n",
    "\n",
    "\n",
    "\n"
   ]
  },
  {
   "cell_type": "code",
   "execution_count": null,
   "metadata": {},
   "outputs": [],
   "source": [
    "g.add_vertices(txo_in_ids)"
   ]
  },
  {
   "cell_type": "code",
   "execution_count": null,
   "metadata": {},
   "outputs": [],
   "source": [
    "len(txo_out_ids)"
   ]
  },
  {
   "cell_type": "code",
   "execution_count": null,
   "metadata": {},
   "outputs": [],
   "source": [
    "len(tx_ids)"
   ]
  },
  {
   "cell_type": "code",
   "execution_count": null,
   "metadata": {},
   "outputs": [],
   "source": [
    "len(txo_in_ids)"
   ]
  },
  {
   "cell_type": "code",
   "execution_count": null,
   "metadata": {},
   "outputs": [],
   "source": [
    "g.vcount()"
   ]
  },
  {
   "cell_type": "code",
   "execution_count": null,
   "metadata": {},
   "outputs": [],
   "source": [
    "g.vs[3]"
   ]
  },
  {
   "cell_type": "code",
   "execution_count": null,
   "metadata": {},
   "outputs": [],
   "source": [
    "#Insert tx inputs into graph\n",
    "g.add_vertices(txo_in_ids)\n",
    "g.vs[\"type\"] = 'in'\n",
    "g.vs[\"in_ids\"] = txo_in_ids\n",
    "try:\n",
    "    del g.vs[\"name\"]\n",
    "except Exception: \n",
    "  pass    "
   ]
  },
  {
   "cell_type": "code",
   "execution_count": null,
   "metadata": {},
   "outputs": [],
   "source": [
    "#Insert tx outputs into graph\n",
    "g.add_vertices(txo_out_ids)\n",
    "g.vs[\"type\"] = 'out'\n",
    "g.vs[\"out_ids\"] = txo_out_ids\n",
    "try:\n",
    "    del g.vs[\"name\"]\n",
    "except Exception: \n",
    "  pass    "
   ]
  },
  {
   "cell_type": "code",
   "execution_count": null,
   "metadata": {},
   "outputs": [],
   "source": [
    "color_dict = {\"tx\": \"green\", \"in\": \"orange\", \"out\":'blue'}"
   ]
  },
  {
   "cell_type": "code",
   "execution_count": null,
   "metadata": {},
   "outputs": [],
   "source": [
    "visual_style = {}\n",
    "visual_style[\"vertex_size\"] = 2\n",
    "visual_style[\"layout\"] = \"fr\"\n",
    "visual_style[\"vertex_color\"] = [color_dict[type] for type in g.vs[\"type\"]]"
   ]
  },
  {
   "cell_type": "code",
   "execution_count": null,
   "metadata": {},
   "outputs": [],
   "source": [
    "igraph.plot(g, **visual_style)"
   ]
  },
  {
   "cell_type": "code",
   "execution_count": null,
   "metadata": {},
   "outputs": [],
   "source": [
    "tx_id = []\n",
    "for i in df.index():\n",
    "    edge = (df.ix[i, 'name1'], df.ix[i, 'name2'])\n",
    "    if edge not in edgelist:\n",
    "        edgelist.append(edge)\n",
    "        weights.append(1)\n",
    "    else:\n",
    "        weights[edgelist.index(edge)] += 1\n",
    "\n",
    "G = Graph()\n",
    "G.add_edges(edgelist)\n",
    "G.es['weight'] = weights"
   ]
  }
 ],
 "metadata": {
  "kernelspec": {
   "display_name": "Python 3",
   "language": "python",
   "name": "python3"
  },
  "language_info": {
   "codemirror_mode": {
    "name": "ipython",
    "version": 3
   },
   "file_extension": ".py",
   "mimetype": "text/x-python",
   "name": "python",
   "nbconvert_exporter": "python",
   "pygments_lexer": "ipython3",
   "version": "3.6.5"
  }
 },
 "nbformat": 4,
 "nbformat_minor": 2
}
