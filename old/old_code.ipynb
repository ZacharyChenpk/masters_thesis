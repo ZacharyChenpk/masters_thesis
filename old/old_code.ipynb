{
 "cells": [
  {
   "cell_type": "code",
   "execution_count": null,
   "metadata": {},
   "outputs": [],
   "source": [
    "def feature_extract(id_t,df):\n",
    "    total_val = df.input_val.sum()\n",
    "    num_in = df.nunique().id_txi\n",
    "    num_out = df.nunique().id_txo_out\n",
    "    ratio = num_in/float(num_out)\n",
    "    degree = num_in + num_out\n",
    "    num_unique_addr_in = df.nunique().iadr \n",
    "    num_unique_addr_out = df.nunique().oadr\n",
    "    data =  {'id':id_t,'total_val':float(total_val),'ratio':float(ratio),'degree':float(degree),'num_unique_addr_in':float(num_unique_addr_in),'num_unique_addr_out':float(num_unique_addr_out)}\n",
    "    df_ = pd.DataFrame(data,index=[0])\n",
    "    return df_\n",
    "    "
   ]
  },
  {
   "cell_type": "code",
   "execution_count": null,
   "metadata": {},
   "outputs": [],
   "source": [
    "col_names =  ['id','total_val','ratio','degree','num_unique_addr_in','num_unique_addr_out']\n",
    "features  = pd.DataFrame(columns = col_names)\n",
    "tx_ids = []\n",
    "tx_id_val = []\n",
    "\n",
    "for val in df.id_t.value_counts().iteritems():\n",
    "    data = df[df.id_t==val[0]]\n",
    "    tx_ids.append(val[0])\n",
    "    tx_id_val.append(data.output_val.sum())\n",
    "    if data.input_val.sum() == 0:\n",
    "        continue\n",
    "    f = feature_extract(val[0],data)\n",
    "    features = features.append(f,'sort=True')\n",
    "    \n",
    "\n",
    "features = features.set_index('id')"
   ]
  },
  {
   "cell_type": "code",
   "execution_count": null,
   "metadata": {},
   "outputs": [],
   "source": [
    "import pandas.testing as pdt\n",
    "pdt.assert_frame_equal(features,features2)"
   ]
  },
  {
   "cell_type": "code",
   "execution_count": null,
   "metadata": {},
   "outputs": [],
   "source": [
    "\"\"\"\n",
    "BEGIN multiple steps to merge cluster assignment with clustering variable \n",
    "to examine cluster variable means by cluster\n",
    "\"\"\"\n",
    "#create a unique identifier variable from the index for the cluster training\n",
    "#data to merge with the cluster assignment variable\n",
    "\n",
    "clus_train.reset_index(level=0,inplace=True)\n",
    "#create a list that has new index variable\n",
    "cluslist = list(clus_train.index)\n",
    "#create a list of cluster assignments\n",
    "labels = list(model.labels_)\n",
    "#combine index variable list with cluster assignment list into a dictionary\n",
    "newlist = dict(zip(cluslist,labels))\n",
    "newlist\n",
    "#convert newlist dictionary to a dataframe\n",
    "newclus=pd.DataFrame.from_dict(newlist,orient='index')\n",
    "newclus\n",
    "\n",
    "#now do the same for the cluster assignment variable\n",
    "#rename the cluster assignment column\n",
    "newclus.columns = ['cluster']\n",
    "#create a unique identifier variable from the index for the cluster assignment dataframe\n",
    "#to merge with cluster training data\n",
    "newclus.reset_index(level=0, inplace=True)\n",
    "#merge the cluster assignment dataframe with the cluster training variable dataframe by the index variable\n",
    "merged_train = pd.merge(clus_train, newclus, on='index')\n",
    "merged_train.head(n=100)\n",
    "#cluster frequencies\n",
    "merged_train.cluster.value_counts()\n",
    "\n"
   ]
  },
  {
   "cell_type": "code",
   "execution_count": null,
   "metadata": {},
   "outputs": [],
   "source": [
    "import csv\n",
    "from bs4 import BeautifulSoup\n",
    "\n",
    "outfile = open(\"table_data.csv\",\"w\",newline='')\n",
    "writer = csv.writer(outfile)\n",
    "\n",
    "tree = BeautifulSoup(html,\"lxml\")\n",
    "table_tag = tree.select(\"table\")[0]\n",
    "tab_data = [[item.text for item in row_data.select(\"th,td\")]\n",
    "                for row_data in table_tag.select(\"tr\")]\n",
    "\n",
    "for data in tab_data:\n",
    "    writer.writerow(data)\n",
    "    print(' '.join(data))"
   ]
  },
  {
   "cell_type": "code",
   "execution_count": null,
   "metadata": {},
   "outputs": [],
   "source": [
    "from bs4 import BeautifulSoup\n",
    "import requests\n",
    "import csv\n",
    "\n",
    "outfile = open(\"table_data.csv\",\"w\",newline='')\n",
    "writer = csv.writer(outfile)\n",
    "\n",
    "req = requests.get('https://www.walletexplorer.com/wallet/Bittrex.com/addresses')\n",
    "soup = BeautifulSoup(req.text)\n",
    "table = soup.findAll('table')\n",
    "\n",
    "tab_data = [[item.text for item in row_data.select(\"th,td\")]\n",
    "                for row_data in table.select(\"tr\")]\n",
    "\n",
    "for data in tab_data:\n",
    "    writer.writerow(data)\n",
    "    print(' '.join(data))\n",
    "    \n",
    "    \n",
    "    import urllib.request as ur\n",
    "html = ur.urlopen(url).read()\n",
    "#html = urllib3.urlopen(url).read()\n",
    "soup = BeautifulSoup(html)\n",
    "table = soup.findAll('table')\n",
    "# python3 just use th.text\n",
    "headers = [header.text for header in table[0].find_all('th')]\n",
    "\n",
    "df = pd.read_html(table[0].find_all('tr'))"
   ]
  }
 ],
 "metadata": {
  "kernelspec": {
   "display_name": "Python 3",
   "language": "python",
   "name": "python3"
  },
  "language_info": {
   "codemirror_mode": {
    "name": "ipython",
    "version": 3
   },
   "file_extension": ".py",
   "mimetype": "text/x-python",
   "name": "python",
   "nbconvert_exporter": "python",
   "pygments_lexer": "ipython3",
   "version": "3.5.2"
  }
 },
 "nbformat": 4,
 "nbformat_minor": 2
}
