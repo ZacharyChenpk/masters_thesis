{
 "cells": [
  {
   "cell_type": "code",
   "execution_count": 2,
   "metadata": {},
   "outputs": [],
   "source": [
    "from functions import *"
   ]
  },
  {
   "cell_type": "code",
   "execution_count": null,
   "metadata": {},
   "outputs": [],
   "source": [
    "no_exchanges = [400063,400529,400573,400583,400618,401091,416710,416756,420087,420249]\n",
    "no_gambling = [386504,387300,388841,389135,400063,401122,401181,402169,416710,416756,420129,420249,420285,420407,420495,420499,420506]"
   ]
  },
  {
   "cell_type": "code",
   "execution_count": null,
   "metadata": {},
   "outputs": [
    {
     "name": "stdout",
     "output_type": "stream",
     "text": [
      "400010\n",
      "400010\n",
      "400011\n",
      "400012\n",
      "400013\n",
      "400014\n",
      "make miner users\n",
      "make other users\n"
     ]
    }
   ],
   "source": [
    "user_df_labelled = pd.DataFrame()\n",
    "\n",
    "for i in range(400010,401370,5):\n",
    "    print(i)\n",
    "    df = pd.DataFrame()\n",
    "    block_list = []\n",
    "    for block in range(i,i+5):\n",
    "        if(os.path.exists(\"../pickles/df/{}.pickle\".format(block)) and os.path.exists(\"../pickles/otc/otc_{}.pickle\".format(block))):\n",
    "            print(block)\n",
    "            block_list.append(block)\n",
    "            temp_df = pd.read_pickle(\"../pickles/df/{}.pickle\".format(block))\n",
    "            if temp_df.empty:\n",
    "                print('oh no')\n",
    "            temp_df['block_no']=block\n",
    "            df = df.append(temp_df)\n",
    "    df = df.reset_index()\n",
    "    # New columns for number of input and output transaction ids\n",
    "    df['num_txo'] = df.groupby('id_t')['id_txo_out'].transform('nunique')\n",
    "    df['num_txi'] = df.groupby('id_t')['id_txi'].transform('nunique')\n",
    "    \n",
    "    users, edges = get_user_heur1(df)\n",
    "    \n",
    "    users = get_user_heur2(block_list, users, df)\n",
    "    \n",
    "    users = assignBlocks(users, df)\n",
    "    \n",
    "    to_combine = getCouples(users) \n",
    "    while to_combine:\n",
    "        print(\"to_combine length \", len(to_combine))\n",
    "        st = set(users)\n",
    "        for tple in to_combine:\n",
    "            user1 = users[tple[0]]\n",
    "            user2 = users[tple[1]]\n",
    "            if user1 in st and user2 in st:\n",
    "                #print(tple)\n",
    "                st.remove(user1)\n",
    "                st.remove(user2)\n",
    "                user1.adr = user1.adr.union(user2.adr)\n",
    "                st.add(user1)\n",
    "        users = list(st)\n",
    "        print(len(users))\n",
    "        to_combine = getCouples(users)\n",
    "    \n",
    "    check_adrs_txs(users)\n",
    "    \n",
    "    df, users, tups = construct_user_graph(df, users)\n",
    "    \n",
    "    user_df = get_user_features_df(df, users)\n",
    "    \n",
    "    user_df, user_label, dic_userlabels = tag_users(users, user_df, df)  \n",
    "    user_df_labelled = user_df_labelled.append(user_df)\n",
    "    \n",
    "    user_df_labelled.to_pickle(\"./user_df_labelled_5.pickle\")"
   ]
  },
  {
   "cell_type": "markdown",
   "metadata": {},
   "source": [
    "## Randomly select same length slice to get unknown data to train against"
   ]
  },
  {
   "cell_type": "code",
   "execution_count": null,
   "metadata": {},
   "outputs": [],
   "source": [
    "block_list = [401195,401196,401197,401198,401199]"
   ]
  },
  {
   "cell_type": "code",
   "execution_count": null,
   "metadata": {},
   "outputs": [],
   "source": [
    "df = pd.DataFrame()\n",
    "for block in block_list:\n",
    "    if(os.path.exists(\"../pickles/df/{}.pickle\".format(block)) and os.path.exists(\"../pickles/otc/otc_{}.pickle\".format(block))):\n",
    "        print(block)\n",
    "        temp_df = pd.read_pickle(\"../pickles/df/{}.pickle\".format(block))\n",
    "        if temp_df.empty:\n",
    "            print('fuck')\n",
    "        temp_df['block_no']=block\n",
    "        df = df.append(temp_df)\n",
    "df = df.reset_index()\n",
    "# New columns for number of input and output transaction ids\n",
    "df['num_txo'] = df.groupby('id_t')['id_txo_out'].transform('nunique')\n",
    "df['num_txi'] = df.groupby('id_t')['id_txi'].transform('nunique')\n",
    "\n",
    "users, edges = get_user_heur1(df)\n",
    "\n",
    "users = get_user_heur2(block_list, users, df)\n",
    "\n",
    "users = assignBlocks(users, df)\n",
    "\n",
    "to_combine = getCouples(users) \n",
    "while to_combine:\n",
    "    print(\"to_combine length \", len(to_combine))\n",
    "    st = set(users)\n",
    "    for tple in to_combine:\n",
    "        user1 = users[tple[0]]\n",
    "        user2 = users[tple[1]]\n",
    "        if user1 in st and user2 in st:\n",
    "            #print(tple)\n",
    "            st.remove(user1)\n",
    "            st.remove(user2)\n",
    "            user1.adr = user1.adr.union(user2.adr)\n",
    "            st.add(user1)\n",
    "    users = list(st)\n",
    "    print(len(users))\n",
    "    to_combine = getCouples(users)\n",
    "\n",
    "check_adrs_txs(users)\n",
    "\n",
    "df, users, tups = construct_user_graph(df, users)\n",
    "\n",
    "user_df = get_user_features_df(df, users)\n",
    "\n",
    "user_df, user_label, dic_userlabels = tag_users(users, user_df, df)  \n",
    "\n",
    "user_df.to_pickle(\"./user_df_unknown.pickle\")"
   ]
  },
  {
   "cell_type": "code",
   "execution_count": null,
   "metadata": {},
   "outputs": [],
   "source": [
    "user_df.category.value_counts()"
   ]
  }
 ],
 "metadata": {
  "kernelspec": {
   "display_name": "Python 3",
   "language": "python",
   "name": "python3"
  },
  "language_info": {
   "codemirror_mode": {
    "name": "ipython",
    "version": 3
   },
   "file_extension": ".py",
   "mimetype": "text/x-python",
   "name": "python",
   "nbconvert_exporter": "python",
   "pygments_lexer": "ipython3",
   "version": "3.5.2"
  }
 },
 "nbformat": 4,
 "nbformat_minor": 2
}
