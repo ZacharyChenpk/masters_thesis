{
 "cells": [
  {
   "cell_type": "code",
   "execution_count": 4,
   "metadata": {},
   "outputs": [],
   "source": [
    "import pandas as pd\n",
    "data = pd.read_csv('../../wallet_explorer/wexplorergambling.csv')\n",
    "pools = []\n",
    "for i in range(len(data)):\n",
    "    pools.append(data.iloc[i]['Col'])\n",
    "    \n",
    "pool_df = pd.DataFrame()\n",
    "for pool in pools:\n",
    "    df = pd.read_pickle('../../wallet_explorer/gambling/{}'.format(pool))\n",
    "    pool_df = pool_df.append(df)\n",
    "pool_df = pool_df.reset_index()\n",
    "pool_df.to_pickle(\"../pickles/services/gambling.pickle\")"
   ]
  },
  {
   "cell_type": "code",
   "execution_count": null,
   "metadata": {},
   "outputs": [],
   "source": [
    "# first_block = 389646\n",
    "# last_block = 401221"
   ]
  },
  {
   "cell_type": "code",
   "execution_count": 23,
   "metadata": {},
   "outputs": [],
   "source": [
    "service_df = pd.read_pickle('../pickles/services/pools.pickle')\n",
    "x = service_df['last used in block'].value_counts()\n",
    "x = x.to_frame()\n",
    "x = x[x.index <= 425000]\n",
    "x = x.iloc[:50]\n",
    "block_list = set(x.index)\n",
    "block_list = sorted(block_list)"
   ]
  },
  {
   "cell_type": "code",
   "execution_count": 106,
   "metadata": {},
   "outputs": [
    {
     "name": "stdout",
     "output_type": "stream",
     "text": [
      "390639\n",
      "400033\n",
      "400035\n",
      "400050\n",
      "400059\n",
      "400068\n",
      "400085\n",
      "400107\n",
      "400133\n",
      "400164\n",
      "400175\n",
      "400184\n",
      "400200\n",
      "400212\n",
      "400259\n",
      "400261\n",
      "400266\n",
      "400279\n",
      "400293\n",
      "400305\n",
      "400311\n",
      "400365\n",
      "400374\n",
      "400384\n",
      "400389\n",
      "400393\n",
      "400404\n",
      "400423\n",
      "400455\n",
      "400478\n",
      "400483\n",
      "400495\n",
      "400524\n",
      "400546\n",
      "400549\n",
      "400562\n",
      "400571\n",
      "400593\n",
      "400598\n",
      "400600\n",
      "400615\n",
      "400620\n",
      "400629\n",
      "400633\n",
      "401187\n",
      "401196\n",
      "401196\n",
      "401212\n",
      "401214\n",
      "401214\n"
     ]
    }
   ],
   "source": [
    "import numpy as np\n",
    "import os\n",
    "import pickle\n",
    "\n",
    "service_df = pd.read_pickle('../pickles/services/pools.pickle')\n",
    "x = service_df['last used in block'].value_counts()\n",
    "y = x[x.index <= 402175]\n",
    "y = y[y.index >= 379568]\n",
    "block_list = set(y.index)\n",
    "block_list = sorted(block_list)\n",
    "train_blocks = []\n",
    "for block in block_list:\n",
    "    if(os.path.exists(\"../pickles/df/{}.pickle\".format(block)) and os.path.exists(\"../pickles/otc/otc_{}.pickle\".format(block))):\n",
    "            train_blocks.append(block)\n",
    "\n",
    "train_blocks = sorted(list(np.random.choice(train_blocks, size=50)))\n",
    "\n",
    "blocks_df = pd.DataFrame()\n",
    "#for block in range(first_block,last_block+1,1):\n",
    "for block in train_blocks:\n",
    "    if(os.path.exists(\"../pickles/df/{}.pickle\".format(block)) and os.path.exists(\"../pickles/otc/otc_{}.pickle\".format(block))):\n",
    "        #print(block)\n",
    "        df = pd.read_pickle(\"../pickles/df/{}.pickle\".format(block))\n",
    "        if df.empty:\n",
    "            print('fuck')\n",
    "        blocks_df = blocks_df.append(df)\n",
    "blocks_df = blocks_df.reset_index()\n",
    "blocks_df.to_pickle(\"../pickles/df/all_blocks.pickle\")\n",
    "\n",
    "with open('../pickles/ml/train_blocks','wb') as f:    \n",
    "    pickle.dump(train_blocks,f)"
   ]
  },
  {
   "cell_type": "code",
   "execution_count": 110,
   "metadata": {},
   "outputs": [],
   "source": []
  }
 ],
 "metadata": {
  "kernelspec": {
   "display_name": "Python 3",
   "language": "python",
   "name": "python3"
  },
  "language_info": {
   "codemirror_mode": {
    "name": "ipython",
    "version": 3
   },
   "file_extension": ".py",
   "mimetype": "text/x-python",
   "name": "python",
   "nbconvert_exporter": "python",
   "pygments_lexer": "ipython3",
   "version": "3.5.2"
  }
 },
 "nbformat": 4,
 "nbformat_minor": 2
}
