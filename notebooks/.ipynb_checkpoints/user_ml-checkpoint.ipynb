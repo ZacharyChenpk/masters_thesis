{
 "cells": [
  {
   "cell_type": "markdown",
   "metadata": {},
   "source": [
    "## User Feature Extraction"
   ]
  },
  {
   "cell_type": "code",
   "execution_count": null,
   "metadata": {},
   "outputs": [],
   "source": [
    "import pandas as pd \n",
    "import time\n",
    "import pickle\n",
    "first_block = 401180\n",
    "last_block = 401200\n",
    "\n",
    "class User:\n",
    "    def __init__(self, adrs, txs):\n",
    "        self.adr = set(adrs)\n",
    "        self.sending_tx = set(txs)\n",
    "        self.cadr = set()\n",
    "        self.receiving_tx = set(txs)\n",
    "#Read Users found\n",
    "with open('../pickles/users/users_{}_to_{}.pickle'.format(first_block,last_block), 'rb') as f:\n",
    "   users = pickle.load(f)\n",
    "df = pd.read_pickle('../pickles/df/{}_to_{}_users.pickle'.format(first_block,last_block))"
   ]
  },
  {
   "cell_type": "code",
   "execution_count": null,
   "metadata": {},
   "outputs": [],
   "source": [
    "# user input features\n",
    "user_input_df = df.groupby('input_user').agg({\n",
    "    'id_txo_out': 'nunique', #Num unique times paid out\n",
    "    'oadr':'nunique', #Num of unique out addresses paid out\n",
    "    'output_user': 'nunique', #Num of unique users paid out (Out Degree)\n",
    "    #'id_txi': 'nunique', #Num unique times paid in\n",
    "    'id_t': 'nunique', #Num Txs involved in\n",
    "    'input_val': ['max', 'min']\n",
    "})\n",
    "\n",
    "user_input_df.columns = ['_'.join(col) for col in user_input_df.columns]\n",
    "\n",
    "user_input_df.rename(columns={\n",
    "    'id_txo_out_nunique': 'unique_sent',\n",
    "    'oadr_nunique': 'unique_sent_adr',\n",
    "    'output_user_nunique': 'unique_sent_user',  # (Out Degree)\n",
    "    'id_t_nunique': 'tx1',\n",
    "    'input_val_max': 'max_sent',\n",
    "    'input_val_min': 'min_sent'\n",
    "}, inplace=True)\n",
    "\n",
    "user_input_df['total_sent'] = (df['input_val'] / df['num_txo']).groupby(df['input_user']).sum()\n",
    "#dummy1 = (df['input_val'] / df['num_txo']).groupby(df['input_user']).sum()\n",
    "#dummy2 = (df['output_val'] / df['num_txi']).groupby(df['input_user']).sum()\n",
    "\n",
    "#print(user_df.tail())\n",
    "\n",
    "user_input_df.head()"
   ]
  },
  {
   "cell_type": "code",
   "execution_count": null,
   "metadata": {},
   "outputs": [],
   "source": [
    "# user output features\n",
    "user_out_df = df.groupby('output_user').agg({\n",
    "    'id_txi': 'nunique', #Num unique times paid in\n",
    "    'iadr': ['nunique', lambda x: (x == str(0)).any()], #Num of unique in addresses paid this user\n",
    "    'input_user': 'nunique', #Num of unique users paid in (In Degree)\n",
    "    #'id_txo_out': 'nunique', #Num unique times paid\n",
    "    'id_t': 'nunique', #Num Txs involved in\n",
    "    'output_val': ['max', 'min']\n",
    "})\n",
    "\n",
    "user_out_df.columns = ['_'.join(col) for col in user_out_df.columns]\n",
    "\n",
    "user_out_df.rename(columns={\n",
    "    'id_txi_nunique': 'unique_rec',\n",
    "    'iadr_nunique': 'unique_rec_adr',\n",
    "    'iadr_<lambda>': 'is_miner',\n",
    "    'input_user_nunique': 'unique_rec_user',  # (In Degree)\n",
    "    'id_t_nunique': 'tx2',\n",
    "    'output_val_max': 'max_rec',\n",
    "    'output_val_min': 'min_rec'\n",
    "}, inplace=True)\n",
    "\n",
    "user_out_df['total_rec'] = (df['output_val'] / df['num_txi']).groupby(df['output_user']).sum()\n",
    "\n",
    "user_out_df.head()"
   ]
  },
  {
   "cell_type": "code",
   "execution_count": null,
   "metadata": {},
   "outputs": [],
   "source": [
    "# Merge input and output user features\n",
    "user_df = user_input_df.merge(user_out_df, how='left', left_index=True, right_index=True)\n",
    "\n",
    "# Append miners\n",
    "user_df = user_df.append(user_out_df[user_out_df['is_miner']])\n",
    "\n",
    "# Name index\n",
    "user_df.index.name = 'user'\n",
    "\n",
    "# Fill in NA values\n",
    "user_df['is_miner'].fillna(False, inplace=True)\n",
    "user_df.fillna(0, inplace=True)\n",
    "\n",
    "# New columns\n",
    "user_df['num_tx'] = user_df['tx1'] + user_df['tx2']\n",
    "# user_df = user_df.drop(['tx1', 'tx2'], axis=1)\n",
    "\n",
    "#Add column to indicate labelled users\n",
    "user_df[\"activity\"] = 0\n",
    "\n",
    "user_total_sent = [(user,total_rec) for (user, total_rec) in user_df['total_sent'].iteritems()]\n",
    "users_identified = list(user_df.index.values) "
   ]
  },
  {
   "cell_type": "code",
   "execution_count": null,
   "metadata": {},
   "outputs": [],
   "source": [
    "# Totals\n",
    "total_amt_spent = (df['input_val'] / df['num_txo']).sum() ##Total amount spent in this block?\n",
    "total_amt_recieved = (df['output_val'] / df['num_txi']).sum() ##Total amount received in this block?"
   ]
  },
  {
   "cell_type": "markdown",
   "metadata": {},
   "source": [
    "## Tag Users with data from walletexplorer.com"
   ]
  },
  {
   "cell_type": "code",
   "execution_count": null,
   "metadata": {},
   "outputs": [],
   "source": [
    "#Dictionary structure - \n",
    "#'Address': 'Service'\n",
    "data = pd.read_csv(\"../../wallet_explorer/wexplorergambling.csv\")\n",
    "service = []\n",
    "for i in range(len(data)):\n",
    "    service.append(data.iloc[i]['Col'])\n",
    "    \n",
    "dic_userlabels = {}\n",
    "starttime = time.time() \n",
    "for block in range(first_block,last_block+1,1):\n",
    "    for i in service:  \n",
    "        service_df = pd.read_pickle('../../wallet_explorer/gambling/{}'.format(i))\n",
    "        addr = service_df.loc[service_df['last used in block'] == block]['address'].tolist()\n",
    "        if(len(addr)!=0):\n",
    "            for a in addr:\n",
    "                dic_userlabels[a] = i\n",
    "print(\"Total time to construct dictionary mapping addresses to labels:\", time.time()-starttime)\n",
    "\n",
    "for i, user in enumerate(users):\n",
    "    for key in dic_userlabels:\n",
    "        if key in user.adr or key in user.cadr:\n",
    "            user_df.loc[i, 'activity'] = 1"
   ]
  }
 ],
 "metadata": {
  "kernelspec": {
   "display_name": "Python 3",
   "language": "python",
   "name": "python3"
  },
  "language_info": {
   "codemirror_mode": {
    "name": "ipython",
    "version": 3
   },
   "file_extension": ".py",
   "mimetype": "text/x-python",
   "name": "python",
   "nbconvert_exporter": "python",
   "pygments_lexer": "ipython3",
   "version": "3.5.2"
  }
 },
 "nbformat": 4,
 "nbformat_minor": 2
}
