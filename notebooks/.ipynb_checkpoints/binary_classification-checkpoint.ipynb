{
 "cells": [
  {
   "cell_type": "code",
   "execution_count": 2,
   "metadata": {},
   "outputs": [],
   "source": [
    "import pandas as pd\n",
    "import numpy as np\n",
    "import pandas as pd\n",
    "import sklearn\n",
    "import seaborn as sns\n",
    "import matplotlib.pyplot as plt\n",
    "\n",
    "sns.set(style=\"whitegrid\", color_codes=True)\n",
    "\n",
    "import imblearn"
   ]
  },
  {
   "cell_type": "code",
   "execution_count": 3,
   "metadata": {},
   "outputs": [],
   "source": [
    "label_df = pd.read_pickle(\"../pickles/upsampled_users/user_df_labelled.pickle\")\n",
    "unknown_df = pd.read_pickle(\"../pickles/upsampled_users/user_df_unknown.pickle\")\n",
    "x1 = label_df.loc[label_df['category']=='exchanges']\n",
    "x2 = unknown_df.loc[unknown_df['category']=='unknown']"
   ]
  },
  {
   "cell_type": "code",
   "execution_count": 4,
   "metadata": {},
   "outputs": [],
   "source": [
    "#Prepare data\n",
    "df = x1.append(x2, sort=True)\n",
    "df = df.reset_index()\n",
    "df = df.drop(columns = [\"user\"])"
   ]
  },
  {
   "cell_type": "code",
   "execution_count": null,
   "metadata": {},
   "outputs": [],
   "source": [
    "df = df.drop(columns = [\n",
    "       'num_receiving_tx_b',  'num_sending_tx_b', \n",
    "       'num_tx_a', 'num_tx_b', 'total_rec_a', 'total_rec_b',\n",
    "       'total_rec_t',  'total_sent_a', 'total_sent_b',\n",
    "       'total_sent_t', 'unique_rec_adr_b',\n",
    "       'unique_rec_b', 'unique_rec_user_b',\n",
    "       'unique_sent_adr_b', 'unique_sent_b',\n",
    "       'unique_sent_user_b'])"
   ]
  },
  {
   "cell_type": "markdown",
   "metadata": {},
   "source": [
    "## Visualise Correlation"
   ]
  },
  {
   "cell_type": "code",
   "execution_count": null,
   "metadata": {},
   "outputs": [],
   "source": [
    "data_correlation = df.corr(method='spearman')\n",
    "print(\"correlation: \")\n",
    "data_correlation.style.format(\"{:.2}\").background_gradient(cmap=plt.cm.Greens, axis=1)"
   ]
  },
  {
   "cell_type": "code",
   "execution_count": null,
   "metadata": {},
   "outputs": [],
   "source": [
    "data_correlation[(abs(data_correlation) > 0.8) & ( data_correlation != 1.0)].dropna(how=\"all\", axis=(0,1))"
   ]
  },
  {
   "cell_type": "code",
   "execution_count": null,
   "metadata": {},
   "outputs": [],
   "source": [
    "indices = data_correlation.index\n",
    "fig = plt.figure(figsize = (12,12))\n",
    "ax = fig.add_subplot(111)\n",
    "cax = ax.matshow(data_correlation, vmin=-1, vmax=1, cmap=plt.cm.Greens)\n",
    "fig.colorbar(cax)\n",
    "ticks = np.arange(0,len(indices),1)\n",
    "ax.set_xticks(ticks)\n",
    "ax.set_yticks(ticks)\n",
    "plt.xticks(rotation=90)\n",
    "ax.set_xticklabels(indices, fontsize=8)\n",
    "ax.set_yticklabels(indices, fontsize=8)\n",
    "plt.grid()\n",
    "plt.savefig(\"correlation_matrix.pdf\")"
   ]
  },
  {
   "cell_type": "markdown",
   "metadata": {},
   "source": [
    "## Visualize classes "
   ]
  },
  {
   "cell_type": "code",
   "execution_count": 6,
   "metadata": {},
   "outputs": [
    {
     "data": {
      "text/plain": [
       "<matplotlib.text.Text at 0x7f49d8452d30>"
      ]
     },
     "execution_count": 6,
     "metadata": {},
     "output_type": "execute_result"
    },
    {
     "data": {
      "image/png": "[encoded data removed]",
      "text/plain": [
       "<matplotlib.figure.Figure at 0x7f49d84b4ac8>"
      ]
     },
     "metadata": {},
     "output_type": "display_data"
    }
   ],
   "source": [
    "# imbalanced dataset! - factor of ~10\n",
    "gambling = np.sum(df[\"category\"] == 'exchanges') # or just sum over column, bc its binary\n",
    "other = np.sum(df[\"category\"] == 'unknown')\n",
    "\n",
    "fig, ax = plt.subplots()\n",
    "other, gambling = plt.bar((0,1), (other, gambling))\n",
    "other.set_facecolor('dimgray')\n",
    "gambling.set_facecolor('lightgray')\n",
    "ax.set_xticks((0,1))\n",
    "for p in (ax.patches):\n",
    "    ax.annotate(str(p.get_height()), (p.get_x()+0.34, p.get_height() +100), fontsize=10)\n",
    "ax.set_xticklabels(['Other', 'Exchanges'])\n",
    "ax.set_ylabel('Number of users')\n",
    "#ax.set_title('Number of customers that stayed and churned')"
   ]
  },
  {
   "cell_type": "markdown",
   "metadata": {},
   "source": [
    "## Decision Tree"
   ]
  },
  {
   "cell_type": "code",
   "execution_count": 7,
   "metadata": {},
   "outputs": [
    {
     "name": "stderr",
     "output_type": "stream",
     "text": [
      "/usr/lib/python3.5/importlib/_bootstrap.py:222: RuntimeWarning: numpy.dtype size changed, may indicate binary incompatibility. Expected 96, got 88\n",
      "  return f(*args, **kwds)\n"
     ]
    }
   ],
   "source": [
    "from sklearn import tree\n",
    "import pydot\n",
    "from sklearn.metrics import recall_score, precision_score, f1_score, confusion_matrix, accuracy_score\n",
    "from sklearn.model_selection import train_test_split"
   ]
  },
  {
   "cell_type": "code",
   "execution_count": 8,
   "metadata": {},
   "outputs": [],
   "source": [
    "def plot_confusion_matrix(y_true, y_pred, filename): \n",
    "    plt.figure()\n",
    "    mat = confusion_matrix(y_true, y_pred)\n",
    "    sns.heatmap(mat, square=True, annot=True, fmt='d', cmap=\"YlGnBu\", cbar=True)\n",
    "    plt.ylabel('true label'),\n",
    "    plt.xlabel('predicted label')\n",
    "    plt.savefig(filename+\".pdf\")\n",
    "    plt.figure()\n",
    "    mat_normalized = mat / mat.sum(axis=1)\n",
    "    sns.heatmap(mat_normalized, fmt=\"f\", square=True, annot=True, cmap=\"YlGnBu\", cbar=True)\n",
    "    plt.ylabel('true label'),\n",
    "    plt.xlabel('predicted label')\n",
    "    print(\"confusion matrix normalized: \")\n",
    "    plt.savefig(filename+\"_normalized.pdf\")\n",
    "    \n",
    "def get_best_dec_tree(X_train,y_train,X_test, y_test):\n",
    "    best_acc = 0\n",
    "    best_depth = 0\n",
    "    for i in range(3,20):\n",
    "        dec_tree = tree.DecisionTreeClassifier(max_depth = i, random_state=42, class_weight='balanced')\n",
    "        dec_tree = dec_tree.fit(X_train, y_train)\n",
    "        y_pred = dec_tree.predict(X_test)\n",
    "        acc_score = accuracy_score(y_test, y_pred)\n",
    "        if acc_score > best_acc: \n",
    "            best_acc = acc_score\n",
    "            best_depth = i\n",
    "    dec_tree = tree.DecisionTreeClassifier(max_depth = best_depth, random_state=42)\n",
    "    dec_tree.fit(X_train, y_train)\n",
    "    y_pred = dec_tree.predict(X_test)\n",
    "    print(\"the accuracy = \" + str(accuracy_score(y_test, y_pred)))\n",
    "    return dec_tree, y_pred\n",
    "\n",
    "def plot_dec_tree(decision_tree, feature_names, filename):\n",
    "    dot_data = tree.export_graphviz(decision_tree, out_file=None, \n",
    "                                feature_names=feature_names,\n",
    "                                filled=True,\n",
    "                                rounded=True) \n",
    "    graph = pydot.graph_from_dot_data(dot_data)\n",
    "    graph[0].write_png(filename+\".png\")"
   ]
  },
  {
   "cell_type": "code",
   "execution_count": 9,
   "metadata": {},
   "outputs": [],
   "source": [
    "Y = df.category\n",
    "#Y = LabelEncoder().fit_transform(Y)\n",
    "classes, Y = np.unique(Y, return_inverse=True)\n",
    "X = df.drop(columns = [\"category\"])"
   ]
  },
  {
   "cell_type": "code",
   "execution_count": 10,
   "metadata": {},
   "outputs": [],
   "source": [
    "X_train, X_test, y_train, y_test = train_test_split(X, Y)"
   ]
  },
  {
   "cell_type": "code",
   "execution_count": 11,
   "metadata": {
    "scrolled": true
   },
   "outputs": [
    {
     "name": "stdout",
     "output_type": "stream",
     "text": [
      "the accuracy = 0.8945739257101238\n"
     ]
    }
   ],
   "source": [
    "dec_tree_classifier, y_pred = get_best_dec_tree(X_train=X_train, y_train=y_train,\n",
    "                                       X_test=X_test, y_test=y_test)"
   ]
  },
  {
   "cell_type": "code",
   "execution_count": null,
   "metadata": {},
   "outputs": [],
   "source": [
    "sum(y_pred == y_test) / len(y_test)"
   ]
  },
  {
   "cell_type": "code",
   "execution_count": 14,
   "metadata": {},
   "outputs": [
    {
     "name": "stdout",
     "output_type": "stream",
     "text": [
      "saving confusion matrix for decision tree...\n"
     ]
    },
    {
     "name": "stderr",
     "output_type": "stream",
     "text": [
      "/homes/ac2917/.local/lib/python3.5/site-packages/pandas/core/computation/check.py:17: UserWarning: The installed version of numexpr 2.4.3 is not supported in pandas and will be not be used\n",
      "The minimum supported version is 2.4.6\n",
      "\n",
      "  ver=ver, min_ver=_MIN_NUMEXPR_VERSION), UserWarning)\n"
     ]
    },
    {
     "name": "stdout",
     "output_type": "stream",
     "text": [
      "confusion matrix normalized: \n"
     ]
    },
    {
     "data": {
      "image/png": "[encoded data removed]",
      "text/plain": [
       "<matplotlib.figure.Figure at 0x7f49d3c56898>"
      ]
     },
     "metadata": {},
     "output_type": "display_data"
    },
    {
     "data": {
      "image/png": "[encoded data removed]",
      "text/plain": [
       "<matplotlib.figure.Figure at 0x7f49d3c61080>"
      ]
     },
     "metadata": {},
     "output_type": "display_data"
    }
   ],
   "source": [
    "print(\"saving confusion matrix for decision tree...\")\n",
    "plot_confusion_matrix(y_test, y_pred, \"decision_tree_downsampled_conf_matrix\")"
   ]
  },
  {
   "cell_type": "code",
   "execution_count": 13,
   "metadata": {},
   "outputs": [
    {
     "name": "stdout",
     "output_type": "stream",
     "text": [
      "0.8945739257101238\n",
      "0.6255283178360102\n",
      "0.8447488584474886\n",
      "0.7187955318115591\n"
     ]
    }
   ],
   "source": [
    "print(accuracy_score(y_test, y_pred))\n",
    "print(recall_score(y_test, y_pred))\n",
    "print(precision_score(y_test, y_pred))\n",
    "print(f1_score(y_test, y_pred))"
   ]
  },
  {
   "cell_type": "code",
   "execution_count": 15,
   "metadata": {},
   "outputs": [
    {
     "name": "stdout",
     "output_type": "stream",
     "text": [
      "save decision tree with few depth layers for visualization: \n",
      "0.8233794610342317\n"
     ]
    }
   ],
   "source": [
    "print(\"save decision tree with few depth layers for visualization: \")\n",
    "dec_tree = tree.DecisionTreeClassifier(max_depth = 4, random_state=42)\n",
    "dec_tree = dec_tree.fit(X_train, y_train)\n",
    "y_pred = dec_tree.predict(X_test)\n",
    "print(accuracy_score(y_test, y_pred))"
   ]
  },
  {
   "cell_type": "code",
   "execution_count": 16,
   "metadata": {},
   "outputs": [],
   "source": [
    "plot_dec_tree(dec_tree, feature_names=X_train.columns, filename=\"Decision Tree\")"
   ]
  },
  {
   "cell_type": "markdown",
   "metadata": {},
   "source": [
    "## Random Forest"
   ]
  },
  {
   "cell_type": "code",
   "execution_count": null,
   "metadata": {},
   "outputs": [],
   "source": [
    "from sklearn.ensemble import RandomForestClassifier"
   ]
  },
  {
   "cell_type": "code",
   "execution_count": null,
   "metadata": {},
   "outputs": [],
   "source": [
    "def get_best_random_forest(X_train,y_train,X_test, y_test):\n",
    "    best_acc = 0\n",
    "    best_depth = 0\n",
    "    for i in range(3,40):\n",
    "        rf = RandomForestClassifier(max_depth=i, random_state=42)\n",
    "        rf.fit(X_train, y_train)\n",
    "        y_pred = rf.predict(X_test)\n",
    "        acc_score = accuracy_score(y_test, y_pred)\n",
    "        if acc_score > best_acc: \n",
    "            best_acc = acc_score\n",
    "            best_depth = i\n",
    "    rf = RandomForestClassifier(max_depth=best_depth, random_state=42)\n",
    "    rf.fit(X_train, y_train)\n",
    "    y_pred = rf.predict(X_test)\n",
    "    print(\"accuracy = \" + str(accuracy_score(y_test, y_pred)))\n",
    "    return rf, y_pred"
   ]
  },
  {
   "cell_type": "code",
   "execution_count": null,
   "metadata": {},
   "outputs": [],
   "source": [
    "rf_classifier, y_pred = get_best_random_forest(X_train=X_train, y_train=y_train,\n",
    "                                       X_test=X_test, y_test=y_test)"
   ]
  },
  {
   "cell_type": "code",
   "execution_count": null,
   "metadata": {},
   "outputs": [],
   "source": [
    "print(\"saving confusion matrix ...\")\n",
    "plot_confusion_matrix(y_test, y_pred, \"random_forest_conf_mat.pdf\")"
   ]
  },
  {
   "cell_type": "code",
   "execution_count": null,
   "metadata": {},
   "outputs": [],
   "source": [
    "print(accuracy_score(y_test, y_pred))\n",
    "print(recall_score(y_test, y_pred))\n",
    "print(precision_score(y_test, y_pred))"
   ]
  },
  {
   "cell_type": "markdown",
   "metadata": {},
   "source": [
    "## Normalise Data"
   ]
  },
  {
   "cell_type": "code",
   "execution_count": 17,
   "metadata": {},
   "outputs": [],
   "source": [
    "from sklearn.preprocessing import StandardScaler, MinMaxScaler\n",
    "# have to scale the data s.t. the relative variance can be distinguished for PCA\n",
    "X_train_min_max = MinMaxScaler().fit_transform(X_train)\n",
    "X_test_min_max  = MinMaxScaler().fit_transform(X_test)\n",
    "\n",
    "X_train_standard = StandardScaler().fit_transform(X_train)\n",
    "X_test_standard  = StandardScaler().fit_transform(X_test)"
   ]
  },
  {
   "cell_type": "code",
   "execution_count": 18,
   "metadata": {},
   "outputs": [
    {
     "name": "stderr",
     "output_type": "stream",
     "text": [
      "/usr/lib/python3.5/importlib/_bootstrap.py:222: RuntimeWarning: numpy.dtype size changed, may indicate binary incompatibility. Expected 96, got 88\n",
      "  return f(*args, **kwds)\n"
     ]
    }
   ],
   "source": [
    "from sklearn.decomposition import PCA\n",
    "def pca_and_plot(X_train, y_train):\n",
    "    pca = PCA(n_components=2)\n",
    "    principalComponents = pca.fit_transform(X_train)\n",
    "    y_df = pd.DataFrame(data = y_train, columns=[\"category\"])\n",
    "    principalDf = pd.DataFrame(data = principalComponents, columns = ['principal component 1', 'principal component 2'])\n",
    "    finalDf = pd.concat([principalDf, y_df], axis=1)\n",
    "    # 2d plot: \n",
    "    fig = plt.figure(figsize = (8,8))\n",
    "    ax = fig.add_subplot(111)\n",
    "    ax.set_xlabel('Principal Component 1')\n",
    "    ax.set_ylabel('Principal Component 2')\n",
    "    ax.set_title('2 component PCA')\n",
    "    targets = [0,1]\n",
    "    colors = ['gray', '#127161']\n",
    "    markers = ['^','o']\n",
    "    for target, color in zip(targets,colors):\n",
    "        indicesToKeep = finalDf['category'] == target\n",
    "        ax.scatter(finalDf.loc[indicesToKeep, 'principal component 1']\n",
    "                   , finalDf.loc[indicesToKeep, 'principal component 2']\n",
    "                   , c = color\n",
    "                   , marker=markers[target]\n",
    "                   , s = 40)\n",
    "    ax.legend(targets)\n",
    "    ax.grid()"
   ]
  },
  {
   "cell_type": "code",
   "execution_count": null,
   "metadata": {},
   "outputs": [],
   "source": [
    "pca_and_plot(X_train=X_train, y_train=y_train)"
   ]
  },
  {
   "cell_type": "code",
   "execution_count": null,
   "metadata": {},
   "outputs": [],
   "source": [
    "pca_and_plot(X_train=X_train_standard, y_train=y_train)"
   ]
  },
  {
   "cell_type": "code",
   "execution_count": null,
   "metadata": {},
   "outputs": [],
   "source": [
    "pca_and_plot(X_train=X_train_min_max, y_train=y_train)"
   ]
  },
  {
   "cell_type": "markdown",
   "metadata": {},
   "source": [
    "### Nearest neighbour classification on PCA data  "
   ]
  },
  {
   "cell_type": "code",
   "execution_count": null,
   "metadata": {},
   "outputs": [],
   "source": [
    "from sklearn.neighbors import KNeighborsClassifier"
   ]
  },
  {
   "cell_type": "code",
   "execution_count": null,
   "metadata": {},
   "outputs": [],
   "source": [
    "def get_best_pca_components(X_train, X_test, y_train, y_test): \n",
    "    best_acc = 0\n",
    "    best_n_components = 0\n",
    "    best_n_neighbours = 0\n",
    "    for i in range(1,X_train.shape[1]):\n",
    "        pca = PCA(n_components=i)\n",
    "        principalComponents = pca.fit_transform(X_train)\n",
    "        principalComponentsTest = pca.fit_transform(X_test)\n",
    "        for j in range(1,10):\n",
    "            knn = KNeighborsClassifier(n_neighbors=j)\n",
    "            knn.fit(principalComponents, y_train) \n",
    "            y_pred = knn.predict(principalComponentsTest)\n",
    "            acc = accuracy_score(y_test, y_pred)\n",
    "            if acc > best_acc:\n",
    "                best_acc = acc\n",
    "                best_n_components = i\n",
    "                best_n_neighbours = j\n",
    "    pca = PCA(n_components=best_n_components)\n",
    "    principalComponents = pca.fit_transform(X_train)\n",
    "    principalComponentsTest = pca.fit_transform(X_test)\n",
    "    knn = KNeighborsClassifier(n_neighbors=best_n_neighbours)\n",
    "    knn.fit(principalComponents, y_train) \n",
    "    y_pred = knn.predict(principalComponentsTest)\n",
    "    print(accuracy_score(y_test, y_pred))\n",
    "    return knn, pca, principalComponents, principalComponentsTest, y_pred"
   ]
  },
  {
   "cell_type": "markdown",
   "metadata": {},
   "source": [
    "## LDA"
   ]
  },
  {
   "cell_type": "code",
   "execution_count": null,
   "metadata": {},
   "outputs": [],
   "source": [
    "from sklearn.discriminant_analysis import LinearDiscriminantAnalysis"
   ]
  },
  {
   "cell_type": "code",
   "execution_count": null,
   "metadata": {},
   "outputs": [],
   "source": [
    "lda = LinearDiscriminantAnalysis()\n",
    "lda_result = lda.fit(X_train_standard, y_train).transform(X_train_standard)\n",
    "y_pred = lda.predict(X_test_standard)\n",
    "accuracy_score(y_test, y_pred)"
   ]
  },
  {
   "cell_type": "markdown",
   "metadata": {},
   "source": [
    "## t-SNE"
   ]
  },
  {
   "cell_type": "code",
   "execution_count": null,
   "metadata": {},
   "outputs": [],
   "source": [
    "from sklearn.manifold import TSNE\n",
    "from sklearn.manifold import Isomap"
   ]
  },
  {
   "cell_type": "code",
   "execution_count": null,
   "metadata": {},
   "outputs": [],
   "source": [
    "tsne = TSNE()\n",
    "tsne_result = tsne.fit_transform(X_train_standard,y_train)\n"
   ]
  },
  {
   "cell_type": "code",
   "execution_count": null,
   "metadata": {},
   "outputs": [],
   "source": [
    "plt.figure()\n",
    "colors = ['navy', 'turquoise']\n",
    "for color, i, target_name in zip(colors, [0,1], [0,1]):\n",
    "    plt.scatter(tsne_result[y_train == i,0], tsne_result[y_train == i,1], alpha=.8, color=color,label=target_name)\n",
    "plt.legend(labels=[\"0\",\"1\"])"
   ]
  },
  {
   "cell_type": "code",
   "execution_count": null,
   "metadata": {},
   "outputs": [],
   "source": [
    "isomap = Isomap(10,2)"
   ]
  },
  {
   "cell_type": "code",
   "execution_count": null,
   "metadata": {},
   "outputs": [],
   "source": [
    "isomap_result = isomap.fit_transform(X_train_standard)\n",
    "# isomap_result.dump(\"isomap_result.pickle\")\n",
    "# isomap_result = np.load(\"isomap_result.pickle\")"
   ]
  },
  {
   "cell_type": "code",
   "execution_count": null,
   "metadata": {},
   "outputs": [],
   "source": [
    "plt.figure()\n",
    "colors = ['navy', 'turquoise']\n",
    "for color, i, target_name in zip(colors, [0,1], [0,1]):\n",
    "    plt.scatter(isomap_result[y_train == i,0], isomap_result[y_train == i,1], alpha=.8, color=color,label=target_name)\n",
    "plt.legend(labels=[\"0\",\"1\"])"
   ]
  },
  {
   "cell_type": "markdown",
   "metadata": {},
   "source": [
    "## SVM"
   ]
  },
  {
   "cell_type": "code",
   "execution_count": null,
   "metadata": {},
   "outputs": [],
   "source": [
    "from sklearn import svm\n",
    "clf = svm.SVC()\n",
    "clf.fit(X_train_standard, y_train)  \n",
    "y_pred = clf.predict(X_test)\n",
    "print(accuracy_score(y_test, y_pred))\n",
    "print(recall_score(y_test, y_pred))\n",
    "print(precision_score(y_test, y_pred))"
   ]
  },
  {
   "cell_type": "markdown",
   "metadata": {},
   "source": [
    "### Logistic regression "
   ]
  },
  {
   "cell_type": "code",
   "execution_count": null,
   "metadata": {},
   "outputs": [],
   "source": [
    "from sklearn.linear_model import LogisticRegression\n",
    "logisticRegr = LogisticRegression()\n",
    "logisticRegr.fit(X_train_standard,y_train)\n",
    "y_pred = logisticRegr.predict(X_test_standard)\n",
    "print(accuracy_score(y_test, y_pred))\n",
    "print(recall_score(y_test, y_pred))\n",
    "print(precision_score(y_test, y_pred))"
   ]
  }
 ],
 "metadata": {
  "kernelspec": {
   "display_name": "Python 3",
   "language": "python",
   "name": "python3"
  },
  "language_info": {
   "codemirror_mode": {
    "name": "ipython",
    "version": 3
   },
   "file_extension": ".py",
   "mimetype": "text/x-python",
   "name": "python",
   "nbconvert_exporter": "python",
   "pygments_lexer": "ipython3",
   "version": "3.5.2"
  }
 },
 "nbformat": 4,
 "nbformat_minor": 2
}
