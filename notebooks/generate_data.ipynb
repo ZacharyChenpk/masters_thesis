{
 "cells": [
  {
   "cell_type": "code",
   "execution_count": null,
   "metadata": {},
   "outputs": [],
   "source": [
    "import pandas as pd \n",
    "import pickle\n",
    "import time\n",
    "import py2neo\n",
    "import urllib3\n",
    "urllib3.disable_warnings(urllib3.exceptions.InsecureRequestWarning)\n",
    "\n",
    "def query_database(query):\n",
    "    # REMEMBER TO BE CONNECTED TO IMPERIAL WIFI!\n",
    "    graph_db = py2neo.Graph(\"https://dsi-bitcoin.doc.ic.ac.uk:7473/db/data/\", auth=(\"adi\", \"aditi123\"))\n",
    "    return graph_db.run(query)\n",
    "\n",
    "def get_block_data(first_block, last_block):\n",
    "    query_string = \"\"\"\n",
    "                    MATCH (b:Block) <-[:MINED_IN]- (t:Tx) <-[:IN]- (txi:TxIn) <-[:UNLOCK]- (iadr:Address)\n",
    "                    WHERE b.height >= {} AND b.height <= {}\n",
    "                    MATCH (txi) <-[:SPENT]- (txo_in:TxOut) \n",
    "                    MATCH (oadr:Address) <-[:LOCK]- (txo_out:TxOut) <-[:OUT]- (t)\n",
    "                    \n",
    "                    RETURN iadr.address as iadr, oadr.address as oadr, txo_in.value as input_val, txo_out.value as output_val, ID(txo_in) as id_txo_in, ID(txi) as id_txi, ID(t) as id_t, ID(txo_out) as id_txo_out\n",
    "                    \"\"\".format(first_block, last_block)\n",
    "    return query_string\n",
    "\n",
    "def get_coinbase(blk):\n",
    "    query_string = \"\"\"\n",
    "                    MATCH (b:Block) <-[:MINED_IN]- (t:Tx)<-[:IN]-(cb:CBscript)\n",
    "                    MATCH (oadr:Address) <-[:LOCK]- (txo_out:TxOut) <-[:OUT]- (t)\n",
    "                    WHERE b.height = {}\n",
    "                    RETURN                       oadr.address as oadr,                            txo_out.value as output_val,                          ID(cb) as id_txi, ID(t) as id_t, ID(txo_out) as id_txo_out             \n",
    "                    \"\"\".format(blk)\n",
    "    return query_string\n",
    "\n",
    "def check_block(first_block, last_block):\n",
    "    query_string = \"\"\" \n",
    "                    MATCH (b:Block) \n",
    "                    WHERE b.height >= {} AND b.height <= {}\n",
    "                    RETURN b\n",
    "                    \"\"\".format(first_block, last_block)\n",
    "    return query_string\n",
    "\n",
    "def write_to_csv(result,string):\n",
    "\n",
    "    df = result.to_data_frame()\n",
    "\n",
    "    if (df.empty):\n",
    "        print(\"Something went wrong, there is no data for this/these blocks\")\n",
    "    else:\n",
    "        df.to_csv('{}.csv'.format(string), encoding='utf-8', index=False)\n",
    "        \n",
    "def seen_before_out(block, adr):\n",
    "    params = {'block':block,'adr':adr}\n",
    "    query_string = \"\"\"\n",
    "                    MATCH (a:Address) <-[:LOCK]- (to:TxOut) <-[:OUT]- (t1:Tx)-[:MINED_IN]->(b1:Block)\n",
    "                    WHERE a.address = \"{adr}\" AND b1.height<{block}\n",
    "                    RETURN b1.height LIMIT 1\n",
    "                    \"\"\".format(**params)\n",
    "    \n",
    "    data_fr = query_database(query_string).to_data_frame()\n",
    "    if data_fr.empty:\n",
    "        return False\n",
    "    return True\n",
    "\n",
    "def seen_before_in(block, adr):\n",
    "    params = {'block':block,'adr':adr}\n",
    "    query_string = \"\"\"\n",
    "                    MATCH (a:Address) -[:UNLOCK]-> (ti:TxIn) -[:IN]-> (t2:Tx)-[:MINED_IN]->(b2:Block)\n",
    "                    WHERE a.address = \"{adr}\" AND b2.height<{block}\n",
    "                    RETURN b2.height LIMIT 1\n",
    "                    \"\"\".format(**params)\n",
    "    data_fr = query_database(query_string).to_data_frame()\n",
    "    if data_fr.empty:\n",
    "        return False\n",
    "    return True"
   ]
  },
  {
   "cell_type": "code",
   "execution_count": null,
   "metadata": {},
   "outputs": [],
   "source": [
    "first_block = 401221\n",
    "last_block = 401221"
   ]
  },
  {
   "cell_type": "markdown",
   "metadata": {},
   "source": [
    "## Get block(s) data"
   ]
  },
  {
   "cell_type": "code",
   "execution_count": null,
   "metadata": {},
   "outputs": [],
   "source": [
    "result = query_database(get_block_data(first_block,last_block))\n",
    "df = result.to_data_frame()\n",
    "\n",
    "#Append coinbase txs to dataframe\n",
    "df_cb = pd.DataFrame()\n",
    "for blk in range(first_block,last_block+1,1):\n",
    "    print(blk)\n",
    "    result_cb = query_database(get_coinbase(blk))\n",
    "    temp = result_cb.to_data_frame()\n",
    "    temp.insert(0, 'iadr', '0')\n",
    "    temp.insert(3, 'id_txo_in', 0)\n",
    "    temp.insert(5, 'input_val', 0)\n",
    "    df_cb = df_cb.append(temp)\n",
    "df_cb = df_cb.reset_index()\n",
    "df_cb = df_cb.drop(columns=['index'])\n",
    "df = df.append(df_cb)\n",
    "df = df.reset_index()\n",
    "df = df.drop(columns=['index'])\n",
    "\n",
    "df.to_pickle(\"../pickles/df/{}_to_{}.pickle\".format(first_block,last_block))"
   ]
  },
  {
   "cell_type": "markdown",
   "metadata": {},
   "source": [
    "## Determine addresses (per Block) seen for the first time"
   ]
  },
  {
   "cell_type": "code",
   "execution_count": null,
   "metadata": {},
   "outputs": [],
   "source": [
    "for block in range(first_block,last_block+1,1):\n",
    "    print(\"Block = \", block)\n",
    "    result = query_database(get_block_data(block,block))\n",
    "    df = result.to_data_frame()\n",
    "\n",
    "    addresses = list(df.oadr.value_counts().index)\n",
    "\n",
    "    not_seen =[]\n",
    "    import time\n",
    "\n",
    "    temptime = time.time()\n",
    "    starttime = time.time()\n",
    "\n",
    "    for adr in addresses:\n",
    "        if seen_before_in(block, adr) or seen_before_out(block, adr):\n",
    "            continue\n",
    "        else:\n",
    "            not_seen.append(adr)\n",
    "        #print(adr, \" processed in \", time.time()-temptime)\n",
    "        temptime = time.time()\n",
    "    \n",
    "    with open('../pickles/otc/out.txt', 'a') as f:\n",
    "        print(\"Total time to process block {}: {}\".format(block, time.time()-starttime), file=f)\n",
    "        \n",
    "    with open('../pickles/otc/otc_{}.pickle'.format(block),'wb') as f:\n",
    "        pickle.dump(not_seen,f)"
   ]
  },
  {
   "cell_type": "code",
   "execution_count": null,
   "metadata": {},
   "outputs": [],
   "source": [
    "pool_df = pd.read_pickle('../pickles/services/pools.pickle')\n",
    "#print(pool_df['last used in block'].value_counts().sort_values(ascending=False))"
   ]
  },
  {
   "cell_type": "code",
   "execution_count": null,
   "metadata": {},
   "outputs": [],
   "source": [
    "addresses1 = list(df.oadr.value_counts()[df.oadr.value_counts()>1].index)\n",
    "addresses2 = list(df.oadr.value_counts()[df.oadr.value_counts()==1].index)"
   ]
  },
  {
   "cell_type": "code",
   "execution_count": null,
   "metadata": {},
   "outputs": [],
   "source": [
    "not_seen = [adr for adr in addresses1[:5] if not seen_before_in(block, adr) and not seen_before_out(block, adr)]"
   ]
  }
 ],
 "metadata": {
  "kernelspec": {
   "display_name": "Python 3",
   "language": "python",
   "name": "python3"
  },
  "language_info": {
   "codemirror_mode": {
    "name": "ipython",
    "version": 3
   },
   "file_extension": ".py",
   "mimetype": "text/x-python",
   "name": "python",
   "nbconvert_exporter": "python",
   "pygments_lexer": "ipython3",
   "version": "3.5.2"
  }
 },
 "nbformat": 4,
 "nbformat_minor": 2
}
