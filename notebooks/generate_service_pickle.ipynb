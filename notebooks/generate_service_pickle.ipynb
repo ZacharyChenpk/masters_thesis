{
 "cells": [
  {
   "cell_type": "code",
   "execution_count": 18,
   "metadata": {},
   "outputs": [],
   "source": [
    "import pandas as pd\n",
    "data = pd.read_csv('../../wallet_explorer/wexplorerpool.csv')\n",
    "pools = []\n",
    "for i in range(len(data)):\n",
    "    pools.append(data.iloc[i]['Col'])\n",
    "    \n",
    "pool_df = pd.DataFrame()\n",
    "for pool in pools:\n",
    "    df = pd.read_pickle('../../wallet_explorer/mining_pool/{}'.format(pool))\n",
    "    pool_df = pool_df.append(df)\n",
    "pool_df = pool_df.reset_index()\n",
    "pool_df.to_pickle(\"../pickles/pools.pickle\")"
   ]
  },
  {
   "cell_type": "code",
   "execution_count": null,
   "metadata": {},
   "outputs": [],
   "source": [
    "pool_df.loc[pool_df['last used in block'] == 401199]"
   ]
  },
  {
   "cell_type": "code",
   "execution_count": 19,
   "metadata": {},
   "outputs": [
    {
     "data": {
      "text/plain": [
       "401135    1214\n",
       "402169    1205\n",
       "401122    1187\n",
       "402175     671\n",
       "390624     641\n",
       "390612     619\n",
       "401073     532\n",
       "401977     521\n",
       "401982     487\n",
       "401241     462\n",
       "401091     444\n",
       "390678     443\n",
       "390607     438\n",
       "390594     416\n",
       "401081     409\n",
       "389135     400\n",
       "401970     381\n",
       "388721     379\n",
       "397019     377\n",
       "389616     376\n",
       "401115     373\n",
       "401974     373\n",
       "400845     372\n",
       "388847     360\n",
       "385568     332\n",
       "385571     331\n",
       "391847     327\n",
       "385592     320\n",
       "388713     308\n",
       "388503     296\n",
       "          ... \n",
       "184908       1\n",
       "277073       1\n",
       "242272       1\n",
       "238178       1\n",
       "305395       1\n",
       "508526       1\n",
       "358729       1\n",
       "346447       1\n",
       "493607       1\n",
       "307584       1\n",
       "256043       1\n",
       "430148       1\n",
       "426054       1\n",
       "284765       1\n",
       "256107       1\n",
       "361088       1\n",
       "307328       1\n",
       "127630       1\n",
       "235685       1\n",
       "166759       1\n",
       "436419       1\n",
       "522473       1\n",
       "209136       1\n",
       "395687       1\n",
       "405776       1\n",
       "285501       1\n",
       "364948       1\n",
       "411999       1\n",
       "237922       1\n",
       "209291       1\n",
       "Name: last used in block, Length: 11727, dtype: int64"
      ]
     },
     "execution_count": 19,
     "metadata": {},
     "output_type": "execute_result"
    }
   ],
   "source": [
    "pool_df['last used in block'].value_counts()"
   ]
  },
  {
   "cell_type": "code",
   "execution_count": 16,
   "metadata": {},
   "outputs": [
    {
     "data": {
      "text/plain": [
       "1"
      ]
     },
     "execution_count": 16,
     "metadata": {},
     "output_type": "execute_result"
    }
   ],
   "source": [
    "x.pop(0)"
   ]
  },
  {
   "cell_type": "code",
   "execution_count": 17,
   "metadata": {},
   "outputs": [
    {
     "data": {
      "text/plain": [
       "[2]"
      ]
     },
     "execution_count": 17,
     "metadata": {},
     "output_type": "execute_result"
    }
   ],
   "source": [
    "x"
   ]
  },
  {
   "cell_type": "code",
   "execution_count": 10,
   "metadata": {},
   "outputs": [],
   "source": [
    "y = set([6,5,6])"
   ]
  },
  {
   "cell_type": "code",
   "execution_count": 11,
   "metadata": {},
   "outputs": [],
   "source": [
    "if y.intersection(x):\n",
    "    print('yay')"
   ]
  }
 ],
 "metadata": {
  "kernelspec": {
   "display_name": "Python 3",
   "language": "python",
   "name": "python3"
  },
  "language_info": {
   "codemirror_mode": {
    "name": "ipython",
    "version": 3
   },
   "file_extension": ".py",
   "mimetype": "text/x-python",
   "name": "python",
   "nbconvert_exporter": "python",
   "pygments_lexer": "ipython3",
   "version": "3.5.2"
  }
 },
 "nbformat": 4,
 "nbformat_minor": 2
}
