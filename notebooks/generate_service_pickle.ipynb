{
 "cells": [
  {
   "cell_type": "code",
   "execution_count": null,
   "metadata": {},
   "outputs": [],
   "source": [
    "import pandas as pd\n",
    "data = pd.read_csv('../../wallet_explorer/wexplorerpool.csv')\n",
    "pools = []\n",
    "for i in range(len(data)):\n",
    "    pools.append(data.iloc[i]['Col'])\n",
    "    \n",
    "pool_df = pd.DataFrame()\n",
    "for pool in pools:\n",
    "    df = pd.read_pickle('../../wallet_explorer/mining_pool/{}'.format(pool))\n",
    "    pool_df = pool_df.append(df)\n",
    "pool_df = pool_df.reset_index()\n",
    "pool_df.to_pickle(\"../pickles/pools.pickle\")"
   ]
  },
  {
   "cell_type": "code",
   "execution_count": null,
   "metadata": {},
   "outputs": [],
   "source": [
    "pool_df.loc[pool_df['last used in block'] == 401199]"
   ]
  },
  {
   "cell_type": "code",
   "execution_count": null,
   "metadata": {},
   "outputs": [],
   "source": [
    "pool_df['last used in block'].value_counts()"
   ]
  }
 ],
 "metadata": {
  "kernelspec": {
   "display_name": "Python 3",
   "language": "python",
   "name": "python3"
  },
  "language_info": {
   "codemirror_mode": {
    "name": "ipython",
    "version": 3
   },
   "file_extension": ".py",
   "mimetype": "text/x-python",
   "name": "python",
   "nbconvert_exporter": "python",
   "pygments_lexer": "ipython3",
   "version": "3.5.2"
  }
 },
 "nbformat": 4,
 "nbformat_minor": 2
}
