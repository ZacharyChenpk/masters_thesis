{
 "cells": [
  {
   "cell_type": "code",
   "execution_count": 29,
   "metadata": {},
   "outputs": [],
   "source": [
    "import pandas as pd \n",
    "from functools import reduce\n",
    "import pickle\n",
    "import time\n",
    "from collections import defaultdict\n",
    "import os\n",
    "import numpy as np\n",
    "import matplotlib.pyplot as plt\n",
    "\n",
    "block_list = [400000]\n",
    "\n",
    "df = pd.read_pickle('../../pickles/df/400000.pickle')\n",
    "\n",
    "# New columns for number of input and output transaction ids\n",
    "df['num_txo'] = df.groupby('id_t')['id_txo_out'].transform('nunique')\n",
    "df['num_txi'] = df.groupby('id_t')['id_txi'].transform('nunique')"
   ]
  },
  {
   "cell_type": "code",
   "execution_count": 2,
   "metadata": {},
   "outputs": [],
   "source": [
    "#CHANGE LATER TO QUERY DATABASE INSTEAD\n",
    "\n",
    "def tx_from_iadr(iadr):\n",
    "    return set(df['id_t'][df[\"iadr\"] == iadr])\n",
    "\n",
    "def tx_from_oadr(oadr):\n",
    "    return set(df['id_t'][df[\"oadr\"] == oadr])\n",
    "\n",
    "def iadrs_from_tx(id_t):\n",
    "    return set(df['iadr'][df[\"id_t\"] == id_t])\n",
    "\n",
    "def oadrs_from_tx(id_t):\n",
    "    return set(df['oadr'][df[\"id_t\"] == id_t])\n",
    "\n",
    "def block_from_tx(id_t):\n",
    "    return set(df['block_no'][df[\"id_t\"] == id_t])\n",
    "\n",
    "class Addr:\n",
    "    def __init__(self):\n",
    "        self.adr = None\n",
    "        self.sending_tx = set()\n",
    "        self.receiving_tx = set()\n",
    "        self.blocks = set()\n",
    "        self.adr_rec_from = set()\n",
    "        self.adr_sent_to = set()\n",
    "        self.iadr_shared = set()\n",
    "        self.oadr_shared = set()\n",
    "\n",
    "adrs = []\n",
    "already_seen_adr = set()\n",
    "\n",
    "for iadr in set(df.iadr):\n",
    "    a = Addr()\n",
    "    a.adr = iadr\n",
    "    st = tx_from_iadr(iadr)\n",
    "    rt = tx_from_oadr(iadr)\n",
    "    a.sending_tx.update(st)\n",
    "    a.receiving_tx.update(rt)\n",
    "    for t in st:\n",
    "        a.adr_sent_to.update(oadrs_from_tx(t))\n",
    "        shared = iadrs_from_tx(t)\n",
    "        shared.remove(iadr)\n",
    "        if shared:\n",
    "            a.iadr_shared.update(shared)\n",
    "    for t in rt:\n",
    "        a.adr_rec_from.update(iadrs_from_tx(t))\n",
    "        shared = oadrs_from_tx(t)\n",
    "        shared.remove(iadr)\n",
    "        if shared:\n",
    "            a.oadr_shared.update(shared)\n",
    "    already_seen_adr.add(iadr)\n",
    "    adrs.append(a)\n",
    "    \n",
    "for oadr in set(df.oadr):\n",
    "    if oadr not in already_seen_adr:\n",
    "        a = Addr()\n",
    "        a.adr = oadr\n",
    "        rt = tx_from_oadr(oadr)\n",
    "        a.receiving_tx.update(rt)\n",
    "        for t in rt:\n",
    "            a.adr_rec_from.update(iadrs_from_tx(t))\n",
    "            shared = oadrs_from_tx(t)\n",
    "            shared.remove(oadr)\n",
    "            if shared:\n",
    "                a.oadr_shared.update(shared)\n",
    "        already_seen_adr.add(oadr) \n",
    "        adrs.append(a)\n",
    "        \n",
    "# #WHICH addrS IN HAVE TRANSACTED WITH EACH OTHER\n",
    "# edges = []\n",
    "# for adr in adrs:\n",
    "#     a_s=adr.adr_sent_to\n",
    "#     a_r=adr.adr_rec_from\n",
    "#     if(a_s):\n",
    "#         for sadr in a_s:\n",
    "#             edges.append((adr.adr,sadr)) \n",
    "#     if(a_r):\n",
    "#         for radr in a_r:\n",
    "#             edges.append((radr,adr.adr))\n",
    "\n",
    "# _adrs = [_adr.adr for _adr in adrs]\n",
    "# _num_iadr_shared = [len(_adr.iadr_shared) for _adr in adrs]\n",
    "# _num_oadr_shared = [len(_adr.oadr_shared) for _adr in adrs]\n",
    "# _num_send_tx = [len(_adr.sending_tx) for _adr in adrs]\n",
    "# _num_rec_tx = [len(_adr.receiving_tx) for _adr in adrs]\n",
    "\n",
    "# adr_df = pd.DataFrame(_adrs,columns=['addrs'])\n",
    "# adr_df['num_iadr_shared'] = _num_iadr_shared\n",
    "# adr_df['num_oadr_shared'] = _num_oadr_shared\n",
    "# adr_df['num_send_tx'] = _num_send_tx\n",
    "# adr_df['num_rec_tx'] = _num_rec_tx\n",
    "# adr_df['category'] = 'unknown'\n",
    "\n",
    "adr_df=adr_df.set_index('addrs')\n",
    "adr_df.isnull().values.any()\n",
    "\n",
    "#Max Sent\n",
    "#Min Sent\n",
    "#Max Rec\n",
    "#Min_Rec\n",
    "#Total_Sent\n",
    "#Total_Rec"
   ]
  },
  {
   "cell_type": "code",
   "execution_count": 48,
   "metadata": {},
   "outputs": [],
   "source": [
    "# addr input features\n",
    "addr_input_df = df.groupby('iadr').agg({\n",
    "    'id_txo_out': 'nunique', #Num unique times paid out\n",
    "    'oadr':'nunique', #Num of unique out addresses paid out\n",
    "    'id_t': 'nunique', #Num Txs involved in\n",
    "    'input_val': ['max', 'min']\n",
    "})\n",
    "\n",
    "addr_input_df.columns = ['_'.join(col) for col in addr_input_df.columns]\n",
    "\n",
    "addr_input_df.rename(columns={\n",
    "    'id_txo_out_nunique': 'unique_sent', #Num of unique outputs coming from the transaction\n",
    "    'oadr_nunique': 'unique_sent_adr',\n",
    "    'id_t_nunique': 'num_send_tx',\n",
    "    'input_val_max': 'max_sent',\n",
    "    'input_val_min': 'min_sent'\n",
    "}, inplace=True)\n",
    "\n",
    "addr_input_df['total_sent'] = (df['input_val'] / df['num_txo']).groupby(df['iadr']).sum()\n",
    "\n",
    "# addr input features\n",
    "addr_out_df = df.groupby('oadr').agg({\n",
    "    'id_txi': 'nunique', #Num unique times paid in\n",
    "    'iadr': 'nunique', #Num of unique in addresses paid this address\n",
    "    'id_t': 'nunique', #Num Txs involved in\n",
    "    'output_val': ['max', 'min']\n",
    "})\n",
    "\n",
    "addr_out_df.columns = ['_'.join(col) for col in addr_out_df.columns]\n",
    "\n",
    "addr_out_df.rename(columns={\n",
    "    'id_txi_nunique': 'unique_rec',\n",
    "    'iadr_nunique': 'unique_rec_adr',\n",
    "    'id_t_nunique': 'num_receiving_tx',\n",
    "    'output_val_max': 'max_rec',\n",
    "    'output_val_min': 'min_rec'\n",
    "}, inplace=True)\n",
    "\n",
    "addr_out_df['total_rec'] = (df['output_val'] / df['num_txi']).groupby(df['oadr']).sum()\n",
    "\n",
    "adr_df = addr_input_df.merge(addr_out_df, how='outer', left_index=True, right_index=True)\n",
    "\n",
    "adr_df.isnull().values.any()"
   ]
  },
  {
   "cell_type": "markdown",
   "metadata": {},
   "source": [
    "## Tag addresses"
   ]
  },
  {
   "cell_type": "code",
   "execution_count": 7,
   "metadata": {},
   "outputs": [
    {
     "name": "stdout",
     "output_type": "stream",
     "text": [
      "Total time to dict: 2.1810550689697266\n"
     ]
    }
   ],
   "source": [
    "#Dictionary structure - \n",
    "#'Address': 'Category'\n",
    "categories = ['exchanges','gambling','pool']\n",
    "dic_addrlabels = defaultdict(set)\n",
    "starttime = time.time() \n",
    "\n",
    "for category in categories:\n",
    "    #for block in range(first_block,last_block+1,1):\n",
    "    for block in block_list:\n",
    "        category_df = pd.read_pickle('../../pickles/categories/{}.pickle'.format(category))\n",
    "        addr = category_df.loc[category_df['last used in block'] == block]['address'].tolist()\n",
    "        if(len(addr)!=0):\n",
    "            for a in addr:\n",
    "                dic_addrlabels[a].add(category)\n",
    "print(\"Total time to dict:\", time.time()-starttime)"
   ]
  },
  {
   "cell_type": "code",
   "execution_count": 13,
   "metadata": {},
   "outputs": [],
   "source": [
    "for key in dic_addrlabels:\n",
    "    adr_df.loc[key, 'category'] = dic_addrlabels[key] #label[cat.pop()]  \n",
    "adr_df = adr_df.dropna(axis=0,how='any')"
   ]
  },
  {
   "cell_type": "code",
   "execution_count": 30,
   "metadata": {},
   "outputs": [
    {
     "data": {
      "text/plain": [
       "[<matplotlib.text.Text at 0x7f5adffe9cc0>,\n",
       " <matplotlib.text.Text at 0x7f5adffd50f0>,\n",
       " <matplotlib.text.Text at 0x7f5ac3f555c0>,\n",
       " <matplotlib.text.Text at 0x7f5ac3f55fd0>]"
      ]
     },
     "execution_count": 30,
     "metadata": {},
     "output_type": "execute_result"
    },
    {
     "data": {
      "image/png": "[encoded data removed]",
      "text/plain": [
       "<matplotlib.figure.Figure at 0x7f5a9a3dc278>"
      ]
     },
     "metadata": {},
     "output_type": "display_data"
    }
   ],
   "source": [
    "exchanges = np.sum(adr_df[\"category\"] == 'exchanges') # or just sum over column, bc its binary\n",
    "gambling = np.sum(adr_df[\"category\"] == 'gambling') # or just sum over column, bc its binary\n",
    "pool = np.sum(adr_df[\"category\"] == 'pool')\n",
    "unknown = np.sum(adr_df[\"category\"] == 'unknown')\n",
    "\n",
    "fig, ax = plt.subplots()\n",
    "exchanges, gambling, pool,unknown = plt.bar((0,1,2,3), (exchanges, gambling, pool,unknown))\n",
    "gambling.set_facecolor('dimgray')\n",
    "pool.set_facecolor('lightgray')\n",
    "ax.set_xticks((0,1,2,3))\n",
    "for p in (ax.patches):\n",
    "    ax.annotate(str(p.get_height()), (p.get_x()+0.34, p.get_height() +100), fontsize=10)\n",
    "ax.set_xticklabels(['Exchange', 'Gambling service', 'Mining pool', 'Unkown adr'])"
   ]
  }
 ],
 "metadata": {
  "kernelspec": {
   "display_name": "Python 3",
   "language": "python",
   "name": "python3"
  },
  "language_info": {
   "codemirror_mode": {
    "name": "ipython",
    "version": 3
   },
   "file_extension": ".py",
   "mimetype": "text/x-python",
   "name": "python",
   "nbconvert_exporter": "python",
   "pygments_lexer": "ipython3",
   "version": "3.5.2"
  }
 },
 "nbformat": 4,
 "nbformat_minor": 2
}
