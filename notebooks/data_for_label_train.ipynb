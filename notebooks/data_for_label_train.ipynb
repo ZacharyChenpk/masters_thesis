{
 "cells": [
  {
   "cell_type": "code",
   "execution_count": 17,
   "metadata": {},
   "outputs": [],
   "source": [
    "import pandas as pd\n",
    "categories = ['exchanges','gambling','pool']"
   ]
  },
  {
   "cell_type": "code",
   "execution_count": 8,
   "metadata": {},
   "outputs": [],
   "source": [
    "for category in categories:\n",
    "    data = pd.read_csv('../../wallet_explorer/{}.csv'.format(category))\n",
    "    sites = []\n",
    "    for i in range(len(data)):\n",
    "        sites.append(data.iloc[i]['Col'])\n",
    "    with open('../pickles/categories/{}_names.pickle'.format(category),'wb') as f:    \n",
    "        pickle.dump(sites,f)\n",
    "    site_df = pd.DataFrame()\n",
    "    for site in sites:\n",
    "        df = pd.read_pickle('../../wallet_explorer/{}/{}'.format(category,site))\n",
    "        site_df = site_df.append(df)\n",
    "    site_df = site_df.reset_index()\n",
    "    site_df.to_pickle(\"../pickles/categories/{}.pickle\".format(category))"
   ]
  },
  {
   "cell_type": "code",
   "execution_count": 25,
   "metadata": {},
   "outputs": [],
   "source": [
    "sites = ['AntPool.com', 'AntPool.com-old','AntPool.com-old2']\n",
    "site_df = pd.DataFrame()\n",
    "for site in sites:\n",
    "    df = pd.read_pickle('../../wallet_explorer/{}/{}'.format(category,site))\n",
    "    site_df = site_df.append(df)\n",
    "site_df = site_df.reset_index()\n"
   ]
  },
  {
   "cell_type": "code",
   "execution_count": 31,
   "metadata": {},
   "outputs": [],
   "source": [
    "addr = site_df.loc[site_df['address'] == '1Ebb8NfVmKMoGuMJCAEbVMv2dX8GnzgxSa']['address'].tolist()"
   ]
  },
  {
   "cell_type": "code",
   "execution_count": 32,
   "metadata": {},
   "outputs": [
    {
     "data": {
      "text/plain": [
       "['1Ebb8NfVmKMoGuMJCAEbVMv2dX8GnzgxSa']"
      ]
     },
     "execution_count": 32,
     "metadata": {},
     "output_type": "execute_result"
    }
   ],
   "source": [
    "addr"
   ]
  },
  {
   "cell_type": "code",
   "execution_count": 34,
   "metadata": {},
   "outputs": [
    {
     "name": "stdout",
     "output_type": "stream",
     "text": [
      "yay\n"
     ]
    }
   ],
   "source": [
    "if '1Ebb8NfVmKMoGuMJCAEbVMv2dX8GnzgxSa' in set(site_df.address):\n",
    "    print('yay')"
   ]
  },
  {
   "cell_type": "code",
   "execution_count": 30,
   "metadata": {},
   "outputs": [
    {
     "data": {
      "text/html": [
       "<div>\n",
       "<style scoped>\n",
       "    .dataframe tbody tr th:only-of-type {\n",
       "        vertical-align: middle;\n",
       "    }\n",
       "\n",
       "    .dataframe tbody tr th {\n",
       "        vertical-align: top;\n",
       "    }\n",
       "\n",
       "    .dataframe thead th {\n",
       "        text-align: right;\n",
       "    }\n",
       "</style>\n",
       "<table border=\"1\" class=\"dataframe\">\n",
       "  <thead>\n",
       "    <tr style=\"text-align: right;\">\n",
       "      <th></th>\n",
       "      <th>level_0</th>\n",
       "      <th>index</th>\n",
       "      <th>address</th>\n",
       "      <th>balance</th>\n",
       "      <th>incoming txs</th>\n",
       "      <th>last used in block</th>\n",
       "    </tr>\n",
       "  </thead>\n",
       "  <tbody>\n",
       "    <tr>\n",
       "      <th>1</th>\n",
       "      <td>1</td>\n",
       "      <td>1</td>\n",
       "      <td>1Ebb8NfVmKMoGuMJCAEbVMv2dX8GnzgxSa</td>\n",
       "      <td>0.0</td>\n",
       "      <td>3685</td>\n",
       "      <td>425820</td>\n",
       "    </tr>\n",
       "  </tbody>\n",
       "</table>\n",
       "</div>"
      ],
      "text/plain": [
       "   level_0  index                             address  balance  incoming txs  \\\n",
       "1        1      1  1Ebb8NfVmKMoGuMJCAEbVMv2dX8GnzgxSa      0.0          3685   \n",
       "\n",
       "   last used in block  \n",
       "1              425820  "
      ]
     },
     "execution_count": 30,
     "metadata": {},
     "output_type": "execute_result"
    }
   ],
   "source": [
    "site_df.loc[site_df['address']=='1Ebb8NfVmKMoGuMJCAEbVMv2dX8GnzgxSa']"
   ]
  },
  {
   "cell_type": "code",
   "execution_count": 18,
   "metadata": {},
   "outputs": [],
   "source": [
    "big_df = pd.DataFrame()\n",
    "for category in categories:\n",
    "    big_df = big_df.append(pd.read_pickle(\"../pickles/categories/{}.pickle\".format(category)))"
   ]
  },
  {
   "cell_type": "code",
   "execution_count": 20,
   "metadata": {},
   "outputs": [],
   "source": [
    "import os\n",
    "x = big_df['last used in block'].value_counts()\n",
    "y = x[x.index <= 402175]\n",
    "y = y[y.index >= 379568]\n",
    "unknown = []\n",
    "for i in range(379568,402175+1):\n",
    "    if i not in y and os.path.exists(\"../pickles/df/{}.pickle\".format(i)) and os.path.exists(\"../pickles/otc/otc_{}.pickle\".format(i)):\n",
    "        unknown.append(i)"
   ]
  },
  {
   "cell_type": "code",
   "execution_count": 21,
   "metadata": {},
   "outputs": [
    {
     "data": {
      "text/plain": [
       "[400010,\n",
       " 400038,\n",
       " 400056,\n",
       " 400063,\n",
       " 400097,\n",
       " 400172,\n",
       " 400173,\n",
       " 400203,\n",
       " 400207,\n",
       " 400216,\n",
       " 400218,\n",
       " 400227,\n",
       " 400252,\n",
       " 400275,\n",
       " 400281,\n",
       " 400288,\n",
       " 400297,\n",
       " 400303,\n",
       " 400353,\n",
       " 400370,\n",
       " 400376,\n",
       " 400418,\n",
       " 400442,\n",
       " 400461,\n",
       " 400496,\n",
       " 400529,\n",
       " 400531,\n",
       " 400547,\n",
       " 400551,\n",
       " 400573,\n",
       " 400581,\n",
       " 400583,\n",
       " 400606,\n",
       " 400610,\n",
       " 400618,\n",
       " 400624,\n",
       " 400627,\n",
       " 401181,\n",
       " 401183]"
      ]
     },
     "execution_count": 21,
     "metadata": {},
     "output_type": "execute_result"
    }
   ],
   "source": [
    "unknown"
   ]
  },
  {
   "cell_type": "code",
   "execution_count": null,
   "metadata": {},
   "outputs": [],
   "source": [
    "service_df = pd.read_pickle('../pickles/services/pools.pickle')\n",
    "x = service_df['last used in block'].value_counts()\n",
    "x = x.to_frame()\n",
    "x = x[x.index <= 425000]\n",
    "x = x.iloc[:50]\n",
    "block_list = set(x.index)\n",
    "block_list = sorted(block_list)"
   ]
  },
  {
   "cell_type": "code",
   "execution_count": 6,
   "metadata": {},
   "outputs": [
    {
     "name": "stdout",
     "output_type": "stream",
     "text": [
      "386359\n",
      "386504\n",
      "390596\n",
      "390639\n",
      "397019\n",
      "400029\n",
      "400033\n",
      "400034\n",
      "400080\n",
      "400095\n",
      "400119\n",
      "400127\n",
      "400127\n",
      "400157\n",
      "400233\n",
      "400233\n",
      "400372\n",
      "400621\n",
      "401106\n",
      "401135\n"
     ]
    }
   ],
   "source": [
    "import numpy as np\n",
    "import os\n",
    "import pickle\n",
    "import pandas as pd\n",
    "\n",
    "service_df = pd.read_pickle('../pickles/services/pools.pickle')\n",
    "x = service_df['last used in block'].value_counts()\n",
    "y = x[x.index <= 402175]\n",
    "y = y[y.index >= 379568]\n",
    "block_list = set(y.index)\n",
    "block_list = sorted(block_list)\n",
    "train_blocks = []\n",
    "for block in block_list:\n",
    "    if(os.path.exists(\"../pickles/df/{}.pickle\".format(block)) and os.path.exists(\"../pickles/otc/otc_{}.pickle\".format(block))):\n",
    "            train_blocks.append(block)\n",
    "\n",
    "train_blocks = sorted(list(np.random.choice(train_blocks, size=20)))\n",
    "\n",
    "# first_block = 400040\n",
    "# last_block = 400045\n",
    "\n",
    "blocks_df = pd.DataFrame()\n",
    "#for block in range(first_block,last_block+1,1):\n",
    "for block in train_blocks:\n",
    "    if(os.path.exists(\"../pickles/df/{}.pickle\".format(block)) and os.path.exists(\"../pickles/otc/otc_{}.pickle\".format(block))):\n",
    "        print(block)\n",
    "        df = pd.read_pickle(\"../pickles/df/{}.pickle\".format(block))\n",
    "        if df.empty:\n",
    "            print('fuck')\n",
    "        df['block_no']=block\n",
    "        blocks_df = blocks_df.append(df)\n",
    "blocks_df = blocks_df.reset_index()\n",
    "blocks_df.to_pickle(\"../pickles/df/all_blocks.pickle\")\n",
    "\n",
    "with open('../pickles/ml/train_blocks','wb') as f:    \n",
    "    pickle.dump(train_blocks,f)"
   ]
  }
 ],
 "metadata": {
  "kernelspec": {
   "display_name": "Python 3",
   "language": "python",
   "name": "python3"
  },
  "language_info": {
   "codemirror_mode": {
    "name": "ipython",
    "version": 3
   },
   "file_extension": ".py",
   "mimetype": "text/x-python",
   "name": "python",
   "nbconvert_exporter": "python",
   "pygments_lexer": "ipython3",
   "version": "3.5.2"
  }
 },
 "nbformat": 4,
 "nbformat_minor": 2
}
