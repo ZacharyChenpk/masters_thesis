{
 "cells": [
  {
   "cell_type": "code",
   "execution_count": 8,
   "metadata": {},
   "outputs": [],
   "source": [
    "import pandas as pd\n",
    "categories = ['exchanges','gambling','pool']\n",
    "for category in categories:\n",
    "    data = pd.read_csv('../../wallet_explorer/{}.csv'.format(category))\n",
    "    sites = []\n",
    "    for i in range(len(data)):\n",
    "        sites.append(data.iloc[i]['Col'])\n",
    "    with open('../pickles/categories/{}_names.pickle'.format(category),'wb') as f:    \n",
    "        pickle.dump(sites,f)\n",
    "    site_df = pd.DataFrame()\n",
    "    for site in sites:\n",
    "        df = pd.read_pickle('../../wallet_explorer/{}/{}'.format(category,site))\n",
    "        site_df = site_df.append(df)\n",
    "    site_df = site_df.reset_index()\n",
    "    site_df.to_pickle(\"../pickles/categories/{}.pickle\".format(category))"
   ]
  },
  {
   "cell_type": "code",
   "execution_count": null,
   "metadata": {},
   "outputs": [],
   "source": [
    "service_df = pd.read_pickle('../pickles/services/pools.pickle')\n",
    "x = service_df['last used in block'].value_counts()\n",
    "x = x.to_frame()\n",
    "x = x[x.index <= 425000]\n",
    "x = x.iloc[:50]\n",
    "block_list = set(x.index)\n",
    "block_list = sorted(block_list)"
   ]
  },
  {
   "cell_type": "code",
   "execution_count": 6,
   "metadata": {},
   "outputs": [
    {
     "name": "stdout",
     "output_type": "stream",
     "text": [
      "386359\n",
      "386504\n",
      "390596\n",
      "390639\n",
      "397019\n",
      "400029\n",
      "400033\n",
      "400034\n",
      "400080\n",
      "400095\n",
      "400119\n",
      "400127\n",
      "400127\n",
      "400157\n",
      "400233\n",
      "400233\n",
      "400372\n",
      "400621\n",
      "401106\n",
      "401135\n"
     ]
    }
   ],
   "source": [
    "import numpy as np\n",
    "import os\n",
    "import pickle\n",
    "import pandas as pd\n",
    "\n",
    "service_df = pd.read_pickle('../pickles/services/pools.pickle')\n",
    "x = service_df['last used in block'].value_counts()\n",
    "y = x[x.index <= 402175]\n",
    "y = y[y.index >= 379568]\n",
    "block_list = set(y.index)\n",
    "block_list = sorted(block_list)\n",
    "train_blocks = []\n",
    "for block in block_list:\n",
    "    if(os.path.exists(\"../pickles/df/{}.pickle\".format(block)) and os.path.exists(\"../pickles/otc/otc_{}.pickle\".format(block))):\n",
    "            train_blocks.append(block)\n",
    "\n",
    "train_blocks = sorted(list(np.random.choice(train_blocks, size=20)))\n",
    "\n",
    "# first_block = 400040\n",
    "# last_block = 400045\n",
    "\n",
    "blocks_df = pd.DataFrame()\n",
    "#for block in range(first_block,last_block+1,1):\n",
    "for block in train_blocks:\n",
    "    if(os.path.exists(\"../pickles/df/{}.pickle\".format(block)) and os.path.exists(\"../pickles/otc/otc_{}.pickle\".format(block))):\n",
    "        print(block)\n",
    "        df = pd.read_pickle(\"../pickles/df/{}.pickle\".format(block))\n",
    "        if df.empty:\n",
    "            print('fuck')\n",
    "        df['block_no']=block\n",
    "        blocks_df = blocks_df.append(df)\n",
    "blocks_df = blocks_df.reset_index()\n",
    "blocks_df.to_pickle(\"../pickles/df/all_blocks.pickle\")\n",
    "\n",
    "with open('../pickles/ml/train_blocks','wb') as f:    \n",
    "    pickle.dump(train_blocks,f)"
   ]
  }
 ],
 "metadata": {
  "kernelspec": {
   "display_name": "Python 3",
   "language": "python",
   "name": "python3"
  },
  "language_info": {
   "codemirror_mode": {
    "name": "ipython",
    "version": 3
   },
   "file_extension": ".py",
   "mimetype": "text/x-python",
   "name": "python",
   "nbconvert_exporter": "python",
   "pygments_lexer": "ipython3",
   "version": "3.5.2"
  }
 },
 "nbformat": 4,
 "nbformat_minor": 2
}
