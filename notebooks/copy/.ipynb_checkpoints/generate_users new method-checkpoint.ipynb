{
 "cells": [
  {
   "cell_type": "code",
   "execution_count": 1,
   "metadata": {},
   "outputs": [
    {
     "name": "stderr",
     "output_type": "stream",
     "text": [
      "/usr/lib/python3.5/importlib/_bootstrap.py:222: RuntimeWarning: numpy.dtype size changed, may indicate binary incompatibility. Expected 96, got 88\n",
      "  return f(*args, **kwds)\n"
     ]
    }
   ],
   "source": [
    "import pandas as pd \n",
    "from functools import reduce\n",
    "import pickle\n",
    "import time\n",
    "from collections import defaultdict\n",
    "import os\n",
    "\n",
    "# first_block = 389646\n",
    "# last_block = 401221\n",
    "\n",
    "with open('../pickles/ml/train_blocks', 'rb') as f:\n",
    "    block_list = pickle.load(f)\n",
    "\n",
    "#block_list = [400000]\n",
    "    \n",
    "#df = pd.read_pickle('../pickles/df/{}_to_{}.pickle'.format(first_block,last_block))\n",
    "df = pd.read_pickle('../pickles/df/all_blocks.pickle')\n",
    "#df = pd.read_pickle('../pickles/df/400000.pickle')\n",
    "#df = pd.read_csv('./csv/400000addr.csv')\n",
    "#df[[col for col in df.columns if not 'Unnamed' in col]]\n",
    "\n",
    "# New columns for number of input and output transaction ids\n",
    "df['num_txo'] = df.groupby('id_t')['id_txo_out'].transform('nunique')\n",
    "df['num_txi'] = df.groupby('id_t')['id_txi'].transform('nunique')"
   ]
  },
  {
   "cell_type": "code",
   "execution_count": 68,
   "metadata": {},
   "outputs": [],
   "source": [
    "class User:\n",
    "    def __init__(self, adrs, send_txs, rec_txs):\n",
    "        self.adr = set(adrs)\n",
    "        self.sending_tx = set(send_txs)\n",
    "        #self.cadr = set()\n",
    "        if rec_txs is None:\n",
    "            self.receiving_tx = set()\n",
    "        else:\n",
    "            self.receiving_tx = set(rec_txs)\n",
    "            \n",
    "def query_database(query):\n",
    "    # REMEMBER TO BE CONNECTED TO IMPERIAL WIFI!\n",
    "    graph_db = py2neo.Graph(\"https://dsi-bitcoin.doc.ic.ac.uk:7473/db/data/\", auth=(\"adi\", \"aditi123\"))\n",
    "    return graph_db.run(query)\n",
    "        \n",
    "#CHANGE LATER TO QUERY DATABASE INSTEAD\n",
    "def iadrs_from_tx(id_t):\n",
    "    return set(df['iadr'][df[\"id_t\"] == id_t])\n",
    "#     query_string = \"\"\"\n",
    "#     MATCH (t:Tx) <-[:IN]- (txi:TxIn) <-[:UNLOCK]- (a:Address) WHERE ID(t) = {}\n",
    "#     RETURN a.address as iadr\n",
    "#     \"\"\".format(id_t)\n",
    "#     x = query_database(query_string).to_data_frame()\n",
    "#     return set(x['iadr'])\n",
    "\n",
    "def oadrs_from_tx(id_t):\n",
    "    return set(df['oadr'][df[\"id_t\"] == id_t])\n",
    "#     query_string = \"\"\"\n",
    "#     MATCH (t:Tx) -[:OUT]-> (txo:TxOut) -[:LOCK]-> (a:Address) WHERE ID(t) = 113001822\n",
    "#     RETURN a.address as oadr\n",
    "#     \"\"\".format(id_t)\n",
    "#     x = query_database(query_string).to_data_frame()\n",
    "#     return set(x['oadr'])\n",
    "\n",
    "def tx_from_iadr(iadr):\n",
    "    return set(df['id_t'][df[\"iadr\"] == iadr])\n",
    "\n",
    "def tx_from_oadr(oadr):\n",
    "    return set(df['id_t'][df[\"oadr\"] == oadr])\n",
    "\n",
    "def cadr_from_tx(tx_id, iadrs, potential_cadrs):\n",
    "    count = 0\n",
    "    o = set()\n",
    "    for oadr in oadrs_from_tx(tx_id):\n",
    "        if oadr in potential_cadrs and oadr not in iadrs:\n",
    "            count = count + 1\n",
    "            potential_cadrs.remove(oadr) #Ensure that same change address won't be another user\n",
    "            o.add(oadr)\n",
    "    if count>1:\n",
    "        print(\"NOOOO\")\n",
    "    return o, potential_cadrs\n",
    "\n",
    "#FUNCTION TO WHICH YOU GIVE AN INPUT ADDRESS AND GET USER \n",
    "def get_user(input_adr, potential_cadrs):\n",
    "    to_inv = [input_adr]\n",
    "    user_iadrs = set()\n",
    "    seen_txs = set()\n",
    "    while to_inv:\n",
    "        current_iadr = to_inv.pop(0)\n",
    "        user_iadrs.add(current_iadr)\n",
    "        for id_t in tx_from_iadr(current_iadr):\n",
    "            \n",
    "            if id_t not in seen_txs:\n",
    "                seen_txs.add(id_t)\n",
    "                iadrs = iadrs_from_tx(id_t)\n",
    "                cadr, potential_cadrs = cadr_from_tx(id_t, iadrs, potential_cadrs)\n",
    "                iadrs.update(cadr)\n",
    "                to_inv += iadrs.difference(user_iadrs) #Adding addr)\n",
    "                user_iadrs.update(iadrs)  \n",
    "    print(seen_txs)\n",
    "    return User(user_iadrs, seen_txs, None), potential_cadrs\n",
    "\n",
    "#TAKES OUTPUT ADDRESS AND GIVES USER THAT HAS THAT ADDRESS AS INPUT\n",
    "def user_from_oadr(oadr):\n",
    "    for i,user in enumerate(users):\n",
    "        if oadr in user.adr:\n",
    "            return i        \n",
    "\n",
    "# def get_cadr(user, potential_cadrs):\n",
    "#     cadrs_for_user = set()\n",
    "#     for tx_id in user.sending_tx:    #CHECK THIS\n",
    "#         o = oadrs_from_tx(tx_id)\n",
    "#         for oadr in o:\n",
    "#             if oadr in potential_cadrs and oadr not in user.adr:\n",
    "#                 user.adr.add(oadr)\n",
    "#                 potential_cadrs.remove(oadr) #Ensure that same change address won't be another user\n",
    "#     return user, potential_cadrs"
   ]
  },
  {
   "cell_type": "markdown",
   "metadata": {},
   "source": [
    "## Heuristic 1 & 2"
   ]
  },
  {
   "cell_type": "code",
   "execution_count": 3,
   "metadata": {},
   "outputs": [],
   "source": [
    "otc_dic = {}\n",
    "for block in block_list:\n",
    "#for block in range(first_block,last_block+1,1):\n",
    "    if(os.path.exists(\"../pickles/df/{}.pickle\".format(block)) and os.path.exists(\"../pickles/otc/otc_{}.pickle\".format(block))):\n",
    "        with open ('../pickles/otc/otc_{}.pickle'.format(block), 'rb') as fp:\n",
    "            otc_dic[block] = pickle.load(fp)\n",
    "    \n",
    "not_seen = list(reduce(set.symmetric_difference, (set(val) for val in otc_dic.values())))"
   ]
  },
  {
   "cell_type": "code",
   "execution_count": 69,
   "metadata": {},
   "outputs": [
    {
     "ename": "KeyboardInterrupt",
     "evalue": "",
     "output_type": "error",
     "traceback": [
      "\u001b[0;31m---------------------------------------------------------------------------\u001b[0m",
      "\u001b[0;31mKeyboardInterrupt\u001b[0m                         Traceback (most recent call last)",
      "\u001b[0;32m<ipython-input-69-8f7928e2ae40>\u001b[0m in \u001b[0;36m<module>\u001b[0;34m()\u001b[0m\n\u001b[1;32m      3\u001b[0m \u001b[0mblah\u001b[0m \u001b[0;34m=\u001b[0m \u001b[0;34m[\u001b[0m\u001b[0;34m]\u001b[0m\u001b[0;34m\u001b[0m\u001b[0m\n\u001b[1;32m      4\u001b[0m \u001b[0;32mfor\u001b[0m \u001b[0ma\u001b[0m \u001b[0;32min\u001b[0m \u001b[0mnot_seen\u001b[0m\u001b[0;34m:\u001b[0m\u001b[0;34m\u001b[0m\u001b[0m\n\u001b[0;32m----> 5\u001b[0;31m     \u001b[0mb\u001b[0m \u001b[0;34m=\u001b[0m \u001b[0mtx_from_oadr\u001b[0m\u001b[0;34m(\u001b[0m\u001b[0ma\u001b[0m\u001b[0;34m)\u001b[0m\u001b[0;34m\u001b[0m\u001b[0m\n\u001b[0m\u001b[1;32m      6\u001b[0m     \u001b[0mc\u001b[0m \u001b[0;34m=\u001b[0m \u001b[0mtx_from_iadr\u001b[0m\u001b[0;34m(\u001b[0m\u001b[0ma\u001b[0m\u001b[0;34m)\u001b[0m\u001b[0;34m\u001b[0m\u001b[0m\n\u001b[1;32m      7\u001b[0m     \u001b[0;32mif\u001b[0m \u001b[0;32mnot\u001b[0m \u001b[0mc\u001b[0m \u001b[0;32mand\u001b[0m \u001b[0;34m(\u001b[0m\u001b[0mlen\u001b[0m\u001b[0;34m(\u001b[0m\u001b[0mb\u001b[0m\u001b[0;34m)\u001b[0m\u001b[0;34m==\u001b[0m\u001b[0;36m1\u001b[0m\u001b[0;34m)\u001b[0m\u001b[0;34m:\u001b[0m\u001b[0;34m\u001b[0m\u001b[0m\n",
      "\u001b[0;32m<ipython-input-68-8c92ad4c61ab>\u001b[0m in \u001b[0;36mtx_from_oadr\u001b[0;34m(oadr)\u001b[0m\n\u001b[1;32m     37\u001b[0m \u001b[0;34m\u001b[0m\u001b[0m\n\u001b[1;32m     38\u001b[0m \u001b[0;32mdef\u001b[0m \u001b[0mtx_from_oadr\u001b[0m\u001b[0;34m(\u001b[0m\u001b[0moadr\u001b[0m\u001b[0;34m)\u001b[0m\u001b[0;34m:\u001b[0m\u001b[0;34m\u001b[0m\u001b[0m\n\u001b[0;32m---> 39\u001b[0;31m     \u001b[0;32mreturn\u001b[0m \u001b[0mset\u001b[0m\u001b[0;34m(\u001b[0m\u001b[0mdf\u001b[0m\u001b[0;34m[\u001b[0m\u001b[0;34m'id_t'\u001b[0m\u001b[0;34m]\u001b[0m\u001b[0;34m[\u001b[0m\u001b[0mdf\u001b[0m\u001b[0;34m[\u001b[0m\u001b[0;34m\"oadr\"\u001b[0m\u001b[0;34m]\u001b[0m \u001b[0;34m==\u001b[0m \u001b[0moadr\u001b[0m\u001b[0;34m]\u001b[0m\u001b[0;34m)\u001b[0m\u001b[0;34m\u001b[0m\u001b[0m\n\u001b[0m\u001b[1;32m     40\u001b[0m \u001b[0;34m\u001b[0m\u001b[0m\n\u001b[1;32m     41\u001b[0m \u001b[0;32mdef\u001b[0m \u001b[0mcadr_from_tx\u001b[0m\u001b[0;34m(\u001b[0m\u001b[0mtx_id\u001b[0m\u001b[0;34m,\u001b[0m \u001b[0miadrs\u001b[0m\u001b[0;34m,\u001b[0m \u001b[0mpotential_cadrs\u001b[0m\u001b[0;34m)\u001b[0m\u001b[0;34m:\u001b[0m\u001b[0;34m\u001b[0m\u001b[0m\n",
      "\u001b[0;32m~/.local/lib/python3.5/site-packages/pandas/core/ops.py\u001b[0m in \u001b[0;36mwrapper\u001b[0;34m(self, other, axis)\u001b[0m\n\u001b[1;32m   1281\u001b[0m \u001b[0;34m\u001b[0m\u001b[0m\n\u001b[1;32m   1282\u001b[0m             \u001b[0;32mwith\u001b[0m \u001b[0mnp\u001b[0m\u001b[0;34m.\u001b[0m\u001b[0merrstate\u001b[0m\u001b[0;34m(\u001b[0m\u001b[0mall\u001b[0m\u001b[0;34m=\u001b[0m\u001b[0;34m'ignore'\u001b[0m\u001b[0;34m)\u001b[0m\u001b[0;34m:\u001b[0m\u001b[0;34m\u001b[0m\u001b[0m\n\u001b[0;32m-> 1283\u001b[0;31m                 \u001b[0mres\u001b[0m \u001b[0;34m=\u001b[0m \u001b[0mna_op\u001b[0m\u001b[0;34m(\u001b[0m\u001b[0mvalues\u001b[0m\u001b[0;34m,\u001b[0m \u001b[0mother\u001b[0m\u001b[0;34m)\u001b[0m\u001b[0;34m\u001b[0m\u001b[0m\n\u001b[0m\u001b[1;32m   1284\u001b[0m             \u001b[0;32mif\u001b[0m \u001b[0mis_scalar\u001b[0m\u001b[0;34m(\u001b[0m\u001b[0mres\u001b[0m\u001b[0;34m)\u001b[0m\u001b[0;34m:\u001b[0m\u001b[0;34m\u001b[0m\u001b[0m\n\u001b[1;32m   1285\u001b[0m                 raise TypeError('Could not compare {typ} type with Series'\n",
      "\u001b[0;32m~/.local/lib/python3.5/site-packages/pandas/core/ops.py\u001b[0m in \u001b[0;36mna_op\u001b[0;34m(x, y)\u001b[0m\n\u001b[1;32m   1141\u001b[0m \u001b[0;34m\u001b[0m\u001b[0m\n\u001b[1;32m   1142\u001b[0m         \u001b[0;32melif\u001b[0m \u001b[0mis_object_dtype\u001b[0m\u001b[0;34m(\u001b[0m\u001b[0mx\u001b[0m\u001b[0;34m.\u001b[0m\u001b[0mdtype\u001b[0m\u001b[0;34m)\u001b[0m\u001b[0;34m:\u001b[0m\u001b[0;34m\u001b[0m\u001b[0m\n\u001b[0;32m-> 1143\u001b[0;31m             \u001b[0mresult\u001b[0m \u001b[0;34m=\u001b[0m \u001b[0m_comp_method_OBJECT_ARRAY\u001b[0m\u001b[0;34m(\u001b[0m\u001b[0mop\u001b[0m\u001b[0;34m,\u001b[0m \u001b[0mx\u001b[0m\u001b[0;34m,\u001b[0m \u001b[0my\u001b[0m\u001b[0;34m)\u001b[0m\u001b[0;34m\u001b[0m\u001b[0m\n\u001b[0m\u001b[1;32m   1144\u001b[0m \u001b[0;34m\u001b[0m\u001b[0m\n\u001b[1;32m   1145\u001b[0m         \u001b[0;32melif\u001b[0m \u001b[0mis_datetimelike_v_numeric\u001b[0m\u001b[0;34m(\u001b[0m\u001b[0mx\u001b[0m\u001b[0;34m,\u001b[0m \u001b[0my\u001b[0m\u001b[0;34m)\u001b[0m\u001b[0;34m:\u001b[0m\u001b[0;34m\u001b[0m\u001b[0m\n",
      "\u001b[0;32m~/.local/lib/python3.5/site-packages/pandas/core/ops.py\u001b[0m in \u001b[0;36m_comp_method_OBJECT_ARRAY\u001b[0;34m(op, x, y)\u001b[0m\n\u001b[1;32m   1120\u001b[0m         \u001b[0mresult\u001b[0m \u001b[0;34m=\u001b[0m \u001b[0mlibops\u001b[0m\u001b[0;34m.\u001b[0m\u001b[0mvec_compare\u001b[0m\u001b[0;34m(\u001b[0m\u001b[0mx\u001b[0m\u001b[0;34m,\u001b[0m \u001b[0my\u001b[0m\u001b[0;34m,\u001b[0m \u001b[0mop\u001b[0m\u001b[0;34m)\u001b[0m\u001b[0;34m\u001b[0m\u001b[0m\n\u001b[1;32m   1121\u001b[0m     \u001b[0;32melse\u001b[0m\u001b[0;34m:\u001b[0m\u001b[0;34m\u001b[0m\u001b[0m\n\u001b[0;32m-> 1122\u001b[0;31m         \u001b[0mresult\u001b[0m \u001b[0;34m=\u001b[0m \u001b[0mlibops\u001b[0m\u001b[0;34m.\u001b[0m\u001b[0mscalar_compare\u001b[0m\u001b[0;34m(\u001b[0m\u001b[0mx\u001b[0m\u001b[0;34m,\u001b[0m \u001b[0my\u001b[0m\u001b[0;34m,\u001b[0m \u001b[0mop\u001b[0m\u001b[0;34m)\u001b[0m\u001b[0;34m\u001b[0m\u001b[0m\n\u001b[0m\u001b[1;32m   1123\u001b[0m     \u001b[0;32mreturn\u001b[0m \u001b[0mresult\u001b[0m\u001b[0;34m\u001b[0m\u001b[0m\n\u001b[1;32m   1124\u001b[0m \u001b[0;34m\u001b[0m\u001b[0m\n",
      "\u001b[0;31mKeyboardInterrupt\u001b[0m: "
     ]
    }
   ],
   "source": [
    "potential_cadrs = []\n",
    "tx_to_check = []\n",
    "blah = []\n",
    "for a in not_seen:\n",
    "    b = tx_from_oadr(a)\n",
    "    c = tx_from_iadr(a)\n",
    "    if not c and (len(b)==1):\n",
    "        tx_to_check.extend(list(b))\n",
    "        blah.extend(list(c))"
   ]
  },
  {
   "cell_type": "code",
   "execution_count": 88,
   "metadata": {},
   "outputs": [
    {
     "data": {
      "text/plain": [
       "71428"
      ]
     },
     "execution_count": 88,
     "metadata": {},
     "output_type": "execute_result"
    }
   ],
   "source": [
    "len(not_seen)"
   ]
  },
  {
   "cell_type": "code",
   "execution_count": 67,
   "metadata": {},
   "outputs": [
    {
     "data": {
      "text/plain": [
       "56796"
      ]
     },
     "execution_count": 67,
     "metadata": {},
     "output_type": "execute_result"
    }
   ],
   "source": [
    "appeared_once_o= list(df.drop_duplicates(['id_txo_out']).oadr.value_counts()[df.drop_duplicates(['id_txo_out']).oadr.value_counts()==1].index)\n",
    "all_iadrs= list(df.iadr.value_counts().index)\n",
    "o_never_used_as_i = set(appeared_once_o).difference(all_iadrs)\n",
    "\n",
    "#Change Transactions\n",
    "for i,user in enumerate(users):\n",
    "    cadrs_for_user = set()\n",
    "    for tx_id in user.sending_tx:    #CHECK THIS\n",
    "        o = oadrs_from_tx(tx_id)\n",
    "        potential_cadr = []\n",
    "        for oadr in o:\n",
    "            if oadr in not_seen and oadr not in user.adr and oadr in o_never_used_as_i:\n",
    "                potential_cadr.append(oadr)\n",
    "        if len(potential_cadr)==1:\n",
    "            cadrs_for_user.add(potential_cadr[0])\n",
    "            not_seen.remove(potential_cadr[0]) #Ensure that same change address won't be another user\n",
    "    user.adr.update(cadrs_for_user)   "
   ]
  },
  {
   "cell_type": "code",
   "execution_count": 65,
   "metadata": {},
   "outputs": [
    {
     "name": "stdout",
     "output_type": "stream",
     "text": [
      "make miner users\n",
      "1KM7w12SkjzJ1FYV2g1UCMzHjv3pkMgkEb\n",
      "{113260442, 113512733}\n",
      "make other users\n"
     ]
    }
   ],
   "source": [
    "#LIST OF LISTS OF USER AND THEIR ASSOCIATED ADDRESSES\n",
    "users = []\n",
    "pc = list(potential_cadrs)  #Reset potential cadrs\n",
    "\n",
    "starttime = time.time()        \n",
    "        \n",
    "# Bitcoin- \n",
    "bitcoin = User({str(0)}, set(), set()) #Make user object with bitcoin iadr (which is 0)\n",
    "seen_miner_iadrs_tx = defaultdict(set) #Make dict associating miner payment address with tx_ids they've been involved in\n",
    "\n",
    "for index, row in df[df['iadr'] == str(0)].iterrows(): #Going through all mining txs\n",
    "    bitcoin.sending_tx.add(row['id_t']) #Adding tx id to bitcoin user's txs\n",
    "    seen_miner_iadrs_tx[row['oadr']].add(row['id_t']) # Updating dict to register the tx_id as corresponding to miners adr. If new, then new key added, otherwise added to values of existing key\n",
    "\n",
    "users.append(bitcoin) # Add bitcoin user\n",
    "already_seen_adr = {'0'}  # Bitcoin iadr has already been seen\n",
    "print(\"make miner users\")\n",
    "# make miners users\n",
    "for adr, id_ts in seen_miner_iadrs_tx.items(): #Go through dictionary for every adr (miner) and txs he's been involved\n",
    "    print(adr)\n",
    "    miner, pc = get_user(adr, pc) #From an address, give back user ... aka identify all addresses belonging to miner\n",
    "    miner.adr.add(adr) #Make sure adrs and txs are added in\n",
    "    miner.receiving_tx.update(id_ts)\n",
    "    users.append(miner)\n",
    "    already_seen_adr.update(miner.adr)#Made sure miner's addresses are in already seen so that we don't create a second user with the same addresses\n",
    "    break\n",
    "print(\"make other users\")\n",
    "# ASSOCIATE INPUT ADDRESS AND TX WITH EACH USER IN BLOCK\n",
    "#make other users from heuristic\n",
    "# count = 0\n",
    "# for input_adr in df.iadr:\n",
    "#     if count == 12:\n",
    "#         break\n",
    "#     if input_adr not in already_seen_adr:\n",
    "#         user, pc = get_user(input_adr, pc)\n",
    "#         #user, potential_cadrs = get_cadr(user, potential_cadrs)\n",
    "#         users.append(user)\n",
    "#         already_seen_adr.update(user.adr)\n",
    "#         count +=1\n",
    "        \n",
    "# edges = defaultdict(int)\n",
    "\n",
    "# print(\"Which users have transacted with each other\")\n",
    "# #WHICH USERS IN HAVE TRANSACTED WITH EACH OTHER\n",
    "# for i,user in enumerate(users):\n",
    "#     for tx_id in user.sending_tx:\n",
    "#         for oadr in oadrs_from_tx(tx_id):\n",
    "#             if oadr in already_seen_adr:\n",
    "#                     edges[(i, user_from_oadr(oadr))]+=1  \n",
    "                    \n",
    "# print(\"Total time to process heuristics:\", time.time()-starttime)"
   ]
  },
  {
   "cell_type": "code",
   "execution_count": 7,
   "metadata": {},
   "outputs": [],
   "source": [
    "with open('../pickles/pool/all_users.pickle','wb') as f:    \n",
    "    pickle.dump(users,f)"
   ]
  },
  {
   "cell_type": "code",
   "execution_count": null,
   "metadata": {},
   "outputs": [],
   "source": [
    "with open('./users_2.pickle', 'rb') as f:\n",
    "    users2 = pickle.load(f)\n",
    "for i, user in enumerate(users):\n",
    "    for j, u in enumerate(users2):\n",
    "        if user.adr!=u.adr and i==j:\n",
    "            print('1')\n",
    "            print(i,j)\n",
    "        if user.sending_tx!=u.sending_tx and i==j:\n",
    "            print('2')\n",
    "            print(i,j)\n",
    "        if user.receiving_tx!=u.receiving_tx and i==j:\n",
    "            print('3')\n",
    "            print(i,j)"
   ]
  },
  {
   "cell_type": "code",
   "execution_count": null,
   "metadata": {},
   "outputs": [],
   "source": [
    "def getCouples(users):\n",
    "    to_combine = []\n",
    "    for i, user in enumerate(users):\n",
    "        for k, otheruser in enumerate(users):\n",
    "            if user.adr.intersection(otheruser.adr) and i!=k:\n",
    "                to_combine.append((i,k))\n",
    "    return to_combine\n",
    "\n",
    "print(len(users))\n",
    "to_combine = getCouples(users) \n",
    "while to_combine:\n",
    "    print(\"to_combine length \", len(to_combine))\n",
    "    st = set(users)\n",
    "    for tple in to_combine:\n",
    "        user1 = users[tple[0]]\n",
    "        user2 = users[tple[1]]\n",
    "        if user1 in st and user2 in st:\n",
    "            #print(tple)\n",
    "            st.remove(user1)\n",
    "            st.remove(user2)\n",
    "            user1.adr = user1.adr.union(user2.adr)\n",
    "            st.add(user1)\n",
    "    users = list(st)\n",
    "    print(len(users))\n",
    "    to_combine = getCouples(users)"
   ]
  },
  {
   "cell_type": "code",
   "execution_count": null,
   "metadata": {},
   "outputs": [],
   "source": [
    "#Save Users found\n",
    "#with open('../pickles/users/users_{}_to_{}.pickle'.format(first_block,last_block),'wb') as f:\n",
    "with open('../pickles/pool/all_users.pickle','wb') as f:    \n",
    "    pickle.dump(users,f)"
   ]
  },
  {
   "cell_type": "code",
   "execution_count": 17,
   "metadata": {},
   "outputs": [
    {
     "name": "stdout",
     "output_type": "stream",
     "text": [
      "1 6\n",
      "1 9\n",
      "1 11\n",
      "6 1\n",
      "6 9\n",
      "6 11\n",
      "7 13\n",
      "9 1\n",
      "9 6\n",
      "9 11\n",
      "11 1\n",
      "11 6\n",
      "11 9\n",
      "13 7\n"
     ]
    },
    {
     "ename": "KeyboardInterrupt",
     "evalue": "",
     "output_type": "error",
     "traceback": [
      "\u001b[0;31m---------------------------------------------------------------------------\u001b[0m",
      "\u001b[0;31mKeyboardInterrupt\u001b[0m                         Traceback (most recent call last)",
      "\u001b[0;32m<ipython-input-17-d7cbefd59d6d>\u001b[0m in \u001b[0;36m<module>\u001b[0;34m()\u001b[0m\n\u001b[1;32m      2\u001b[0m \u001b[0;32mfor\u001b[0m \u001b[0mi\u001b[0m\u001b[0;34m,\u001b[0m \u001b[0muser\u001b[0m \u001b[0;32min\u001b[0m \u001b[0menumerate\u001b[0m\u001b[0;34m(\u001b[0m\u001b[0musers\u001b[0m\u001b[0;34m)\u001b[0m\u001b[0;34m:\u001b[0m\u001b[0;34m\u001b[0m\u001b[0m\n\u001b[1;32m      3\u001b[0m     \u001b[0;32mfor\u001b[0m \u001b[0mk\u001b[0m\u001b[0;34m,\u001b[0m \u001b[0motheruser\u001b[0m \u001b[0;32min\u001b[0m \u001b[0menumerate\u001b[0m\u001b[0;34m(\u001b[0m\u001b[0musers\u001b[0m\u001b[0;34m)\u001b[0m\u001b[0;34m:\u001b[0m\u001b[0;34m\u001b[0m\u001b[0m\n\u001b[0;32m----> 4\u001b[0;31m         \u001b[0;32mif\u001b[0m \u001b[0;34m(\u001b[0m\u001b[0muser\u001b[0m\u001b[0;34m.\u001b[0m\u001b[0msending_tx\u001b[0m\u001b[0;34m.\u001b[0m\u001b[0mintersection\u001b[0m\u001b[0;34m(\u001b[0m\u001b[0motheruser\u001b[0m\u001b[0;34m.\u001b[0m\u001b[0msending_tx\u001b[0m\u001b[0;34m)\u001b[0m \u001b[0;32mor\u001b[0m \u001b[0muser\u001b[0m\u001b[0;34m.\u001b[0m\u001b[0mreceiving_tx\u001b[0m\u001b[0;34m.\u001b[0m\u001b[0mintersection\u001b[0m\u001b[0;34m(\u001b[0m\u001b[0motheruser\u001b[0m\u001b[0;34m.\u001b[0m\u001b[0mreceiving_tx\u001b[0m\u001b[0;34m)\u001b[0m\u001b[0;34m)\u001b[0m \u001b[0;32mand\u001b[0m \u001b[0mi\u001b[0m\u001b[0;34m!=\u001b[0m\u001b[0mk\u001b[0m\u001b[0;34m:\u001b[0m\u001b[0;34m\u001b[0m\u001b[0m\n\u001b[0m\u001b[1;32m      5\u001b[0m             \u001b[0mprint\u001b[0m\u001b[0;34m(\u001b[0m\u001b[0mi\u001b[0m\u001b[0;34m,\u001b[0m\u001b[0mk\u001b[0m\u001b[0;34m)\u001b[0m\u001b[0;34m\u001b[0m\u001b[0m\n",
      "\u001b[0;31mKeyboardInterrupt\u001b[0m: "
     ]
    }
   ],
   "source": [
    "count = 0\n",
    "for i, user in enumerate(users):\n",
    "    for k, otheruser in enumerate(users):\n",
    "        if (user.sending_tx.intersection(otheruser.sending_tx) or user.receiving_tx.intersection(otheruser.receiving_tx)) and i!=k:\n",
    "            print(i,k)"
   ]
  },
  {
   "cell_type": "code",
   "execution_count": 39,
   "metadata": {},
   "outputs": [
    {
     "data": {
      "text/plain": [
       "{113260442, 113512733}"
      ]
     },
     "execution_count": 39,
     "metadata": {},
     "output_type": "execute_result"
    }
   ],
   "source": [
    "users[11].sending_tx"
   ]
  },
  {
   "cell_type": "code",
   "execution_count": 25,
   "metadata": {},
   "outputs": [
    {
     "data": {
      "text/plain": [
       "{113260442, 113512733}"
      ]
     },
     "execution_count": 25,
     "metadata": {},
     "output_type": "execute_result"
    }
   ],
   "source": [
    "users[6].sending_tx"
   ]
  },
  {
   "cell_type": "code",
   "execution_count": 38,
   "metadata": {},
   "outputs": [
    {
     "data": {
      "text/plain": [
       "{113260436, 113767288}"
      ]
     },
     "execution_count": 38,
     "metadata": {},
     "output_type": "execute_result"
    }
   ],
   "source": [
    "users[11].receiving_tx"
   ]
  },
  {
   "cell_type": "code",
   "execution_count": 27,
   "metadata": {},
   "outputs": [
    {
     "data": {
      "text/plain": [
       "{113072104}"
      ]
     },
     "execution_count": 27,
     "metadata": {},
     "output_type": "execute_result"
    }
   ],
   "source": [
    "users[6].receiving_tx"
   ]
  },
  {
   "cell_type": "code",
   "execution_count": 23,
   "metadata": {},
   "outputs": [
    {
     "data": {
      "text/plain": [
       "{'15HCzh8AoKRnTWMtmgAsT9TKUPrQ6oh9HQ',\n",
       " '15urYnyeJe3gwbGJ74wcX89Tz7ZtsFDVew',\n",
       " '16ezpwa2dbuTbH79Tjg9ZzLuogncWDw6kp',\n",
       " '1B2oHUNjQKzwZ3BbybwqPUhfYg8CjmvPcL',\n",
       " '1Ebb8NfVmKMoGuMJCAEbVMv2dX8GnzgxSa',\n",
       " '1F1MAvhTKg2VG29w8cXsiSN2PJ8gSsrJw',\n",
       " '1JVMpaWzLB1pnkwoQNqK4Z4EimQj5bCKj7',\n",
       " '1JdgLJewU2fStn2xYYcts4KNPRibtv1ZLJ',\n",
       " '1KM7w12SkjzJ1FYV2g1UCMzHjv3pkMgkEb',\n",
       " '1M5hoG1pCTDsPqZwG6WH25ziwYYaXNMLrU',\n",
       " '1PE7LXcntsLvavM2KXpJGNu51UbDhC3u63'}"
      ]
     },
     "execution_count": 23,
     "metadata": {},
     "output_type": "execute_result"
    }
   ],
   "source": [
    "users[1].adr"
   ]
  },
  {
   "cell_type": "code",
   "execution_count": 22,
   "metadata": {},
   "outputs": [
    {
     "data": {
      "text/plain": [
       "{'15HCzh8AoKRnTWMtmgAsT9TKUPrQ6oh9HQ',\n",
       " '15urYnyeJe3gwbGJ74wcX89Tz7ZtsFDVew',\n",
       " '1B2oHUNjQKzwZ3BbybwqPUhfYg8CjmvPcL',\n",
       " '1Ebb8NfVmKMoGuMJCAEbVMv2dX8GnzgxSa',\n",
       " '1F1MAvhTKg2VG29w8cXsiSN2PJ8gSsrJw',\n",
       " '1JVMpaWzLB1pnkwoQNqK4Z4EimQj5bCKj7',\n",
       " '1KM7w12SkjzJ1FYV2g1UCMzHjv3pkMgkEb',\n",
       " '1M5hoG1pCTDsPqZwG6WH25ziwYYaXNMLrU',\n",
       " '1PE7LXcntsLvavM2KXpJGNu51UbDhC3u63'}"
      ]
     },
     "execution_count": 22,
     "metadata": {},
     "output_type": "execute_result"
    }
   ],
   "source": [
    "users[6].adr"
   ]
  },
  {
   "cell_type": "code",
   "execution_count": 28,
   "metadata": {},
   "outputs": [
    {
     "data": {
      "text/plain": [
       "{'15HCzh8AoKRnTWMtmgAsT9TKUPrQ6oh9HQ',\n",
       " '15urYnyeJe3gwbGJ74wcX89Tz7ZtsFDVew',\n",
       " '1B2oHUNjQKzwZ3BbybwqPUhfYg8CjmvPcL',\n",
       " '1Ebb8NfVmKMoGuMJCAEbVMv2dX8GnzgxSa',\n",
       " '1F1MAvhTKg2VG29w8cXsiSN2PJ8gSsrJw',\n",
       " '1JVMpaWzLB1pnkwoQNqK4Z4EimQj5bCKj7',\n",
       " '1KM7w12SkjzJ1FYV2g1UCMzHjv3pkMgkEb',\n",
       " '1M5hoG1pCTDsPqZwG6WH25ziwYYaXNMLrU',\n",
       " '1PE7LXcntsLvavM2KXpJGNu51UbDhC3u63'}"
      ]
     },
     "execution_count": 28,
     "metadata": {},
     "output_type": "execute_result"
    }
   ],
   "source": [
    "users[11].adr"
   ]
  },
  {
   "cell_type": "code",
   "execution_count": 29,
   "metadata": {},
   "outputs": [
    {
     "data": {
      "text/plain": [
       "{113260442, 113512733}"
      ]
     },
     "execution_count": 29,
     "metadata": {},
     "output_type": "execute_result"
    }
   ],
   "source": [
    "users[11].sending_tx"
   ]
  },
  {
   "cell_type": "code",
   "execution_count": 30,
   "metadata": {},
   "outputs": [
    {
     "data": {
      "text/plain": [
       "{113260436, 113767288}"
      ]
     },
     "execution_count": 30,
     "metadata": {},
     "output_type": "execute_result"
    }
   ],
   "source": [
    "users[11].receiving_tx"
   ]
  },
  {
   "cell_type": "code",
   "execution_count": 11,
   "metadata": {},
   "outputs": [],
   "source": [
    "from collections import Counter\n",
    "\n",
    "tx_ids = []\n",
    "for user in users[1:]:#Drop out bitcoin user\n",
    "    tx_ids += list(user.sending_tx)\n",
    "\n",
    "#tx_ids = list.append([list(user.sending_tx) for user in users])\n",
    "        \n",
    "ads = []\n",
    "for i,user in enumerate(users):\n",
    "    for ad in user.adr:\n",
    "        ads.append(ad)\n",
    "        \n",
    "# cads = []\n",
    "# for i,user in enumerate(users):\n",
    "#     for cad in user.cadr:\n",
    "#         cads.append(cad)\n",
    "\n",
    "if Counter(tx_ids).most_common(10)[0][1] == 1:  ##Repeated txids between bitcoin and the miners\n",
    "    print(\"No repeats txid\")\n",
    "    \n",
    "if Counter(ads).most_common(10)[0][1] == 1:\n",
    "    print(\"No repeats ads\")"
   ]
  },
  {
   "cell_type": "code",
   "execution_count": null,
   "metadata": {},
   "outputs": [],
   "source": [
    "# #Read Users found\n",
    "# with open('../pickles/users/users_{}_to_{}.pickle'.format(first_block,last_block), 'rb') as f:\n",
    "#     users = pickle.load(f)"
   ]
  },
  {
   "cell_type": "code",
   "execution_count": null,
   "metadata": {},
   "outputs": [],
   "source": [
    "#df.groupby('id_t').agg({'oadr':['nunique', 'count'],'iadr':['nunique', 'count'],'id_txo_in':['nunique', 'count'],'id_txo_out':['nunique', 'count']})\n",
    "#df.to_csv('users.csv', columns=['input_user','output_user'])"
   ]
  },
  {
   "cell_type": "markdown",
   "metadata": {},
   "source": [
    "## Interactions between users (constructing user graph)"
   ]
  },
  {
   "cell_type": "code",
   "execution_count": null,
   "metadata": {},
   "outputs": [],
   "source": [
    "#Construct User Graph\n",
    "df['input_user'] = df['iadr']  \n",
    "df['output_user'] = df['oadr']\n",
    "\n",
    "starttime = time.time() \n",
    "#Replacing all input addresses and output addresses with a user corresponding to that address\n",
    "for i, user in enumerate(users): \n",
    "    #assert(isinstance(i, int))\n",
    "    df['input_user'] = df['input_user'].apply(lambda x: i if x in user.adr else x)\n",
    "    df['output_user'] = df['output_user'].apply(lambda x: i if x in user.adr else x)\n",
    "    \n",
    "for tx_id, output_user in df[['id_t','output_user']].values:\n",
    "    if isinstance(output_user,int):\n",
    "        users[output_user].receiving_tx.add(tx_id)\n",
    "print(\"Total time to construct user graph:\", time.time()-starttime)\n",
    "\n",
    "#df.to_pickle(\"../pickles/df/{}_to_{}_users.pickle\".format(first_block,last_block))\n",
    "df.to_pickle(\"../pickles/pool/all_df_with_users.pickle\")\n",
    "#Save Users found\n",
    "#with open('../pickles/users/users_{}_to_{}.pickle'.format(first_block,last_block),'wb') as f:\n",
    "with open('../pickles/pool/all_users.pickle','wb') as f: \n",
    "    pickle.dump(users,f)\n",
    "    \n",
    "# can't trust input_val column now\n",
    "# because dropped lots of inputs\n",
    "edges_df0 = df.drop_duplicates(['input_user', 'id_txo_out'])\n",
    "edges_df = edges_df0.groupby(['input_user', 'output_user']).apply(lambda group: group['output_val'].sum()).reset_index()\n",
    "#edges_df0 = edges_df0.rename(columns={0: 'edge_amount'})\n",
    "\n",
    "tups = [(input_user, output_user, amount) for (index, input_user, output_user, amount) in edges_df.itertuples()]\n",
    "\n",
    "#with open(\"../pickles/user_graphs/{}_to_{}_users.pickle\".format(first_block,last_block), 'wb') as f:\n",
    "with open('../pickles/pool/all_users_graph.pickle','wb') as f: \n",
    "    pickle.dump(tups,f)\n",
    "#tups2 = [(input_user, output_user, amount) for (index, input_user, output_user, amount) in edges_df2.itertuples()]\n",
    "\n",
    "# assert(all(tups == tups2))\n"
   ]
  },
  {
   "cell_type": "code",
   "execution_count": null,
   "metadata": {},
   "outputs": [],
   "source": [
    "len(users)"
   ]
  },
  {
   "cell_type": "code",
   "execution_count": null,
   "metadata": {},
   "outputs": [],
   "source": [
    "# df.head()\n",
    "# df['iadr'].apply(type).value_counts()"
   ]
  }
 ],
 "metadata": {
  "kernelspec": {
   "display_name": "Python 3",
   "language": "python",
   "name": "python3"
  },
  "language_info": {
   "codemirror_mode": {
    "name": "ipython",
    "version": 3
   },
   "file_extension": ".py",
   "mimetype": "text/x-python",
   "name": "python",
   "nbconvert_exporter": "python",
   "pygments_lexer": "ipython3",
   "version": "3.5.2"
  }
 },
 "nbformat": 4,
 "nbformat_minor": 2
}
