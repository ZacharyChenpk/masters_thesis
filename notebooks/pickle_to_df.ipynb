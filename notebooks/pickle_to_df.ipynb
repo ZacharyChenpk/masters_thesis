{
 "cells": [
  {
   "cell_type": "code",
   "execution_count": null,
   "metadata": {},
   "outputs": [],
   "source": [
    "import pandas as pd\n",
    "# data = pd.read_csv('../../wallet_explorer/wexplorerpool.csv')\n",
    "# pools = []\n",
    "# for i in range(len(data)):\n",
    "#     pools.append(data.iloc[i]['Col'])\n",
    "    \n",
    "# pool_df = pd.DataFrame()\n",
    "# for pool in pools:\n",
    "#     df = pd.read_pickle('../../wallet_explorer/mining_pool/{}'.format(pool))\n",
    "#     pool_df = pool_df.append(df)\n",
    "# pool_df = pool_df.reset_index()\n",
    "# pool_df.to_pickle(\"../pickles/services/pools.pickle\")"
   ]
  },
  {
   "cell_type": "code",
   "execution_count": null,
   "metadata": {},
   "outputs": [],
   "source": [
    "# first_block = 389646\n",
    "# last_block = 401221"
   ]
  },
  {
   "cell_type": "code",
   "execution_count": null,
   "metadata": {},
   "outputs": [],
   "source": [
    "service_df = pd.read_pickle('../pickles/services/pools.pickle')\n",
    "x = service_df['last used in block'].value_counts()\n",
    "x = x.to_frame()\n",
    "x = x.iloc[:50]\n",
    "block_list = set(x.index)\n",
    "block_list = sorted(block_list)"
   ]
  },
  {
   "cell_type": "code",
   "execution_count": null,
   "metadata": {},
   "outputs": [],
   "source": [
    "import os\n",
    "blocks_df = pd.DataFrame()\n",
    "#for block in range(first_block,last_block+1,1):\n",
    "for block in block_list:\n",
    "    if(os.path.exists(\"../pickles/df/{}.pickle\".format(block)) and os.path.exists(\"../pickles/otc/otc_{}.pickle\".format(block))):\n",
    "        df = pd.read_pickle(\"../pickles/df/{}.pickle\".format(block))\n",
    "        blocks_df = blocks_df.append(df)\n",
    "blocks_df = blocks_df.reset_index()\n",
    "blocks_df.to_pickle(\"../pickles/df/all_blocks.pickle\")"
   ]
  },
  {
   "cell_type": "code",
   "execution_count": null,
   "metadata": {},
   "outputs": [],
   "source": [
    "myNotebook = \"./generate_users.ipynb\"\n",
    "\n",
    "%run $myNotebook"
   ]
  }
 ],
 "metadata": {
  "kernelspec": {
   "display_name": "Python 3",
   "language": "python",
   "name": "python3"
  },
  "language_info": {
   "codemirror_mode": {
    "name": "ipython",
    "version": 3
   },
   "file_extension": ".py",
   "mimetype": "text/x-python",
   "name": "python",
   "nbconvert_exporter": "python",
   "pygments_lexer": "ipython3",
   "version": "3.5.2"
  }
 },
 "nbformat": 4,
 "nbformat_minor": 2
}
